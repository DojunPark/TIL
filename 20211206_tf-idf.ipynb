{
 "cells": [
  {
   "cell_type": "markdown",
   "id": "280cde95",
   "metadata": {},
   "source": [
    "# cosine similarity"
   ]
  },
  {
   "cell_type": "code",
   "execution_count": 2,
   "id": "5002906f",
   "metadata": {},
   "outputs": [],
   "source": [
    "import numpy as np\n",
    "from numpy import dot\n",
    "from numpy.linalg import norm"
   ]
  },
  {
   "cell_type": "code",
   "execution_count": 4,
   "id": "355bad9a",
   "metadata": {},
   "outputs": [],
   "source": [
    "d1 = np.array([0, 0.477121, 0, 0, 0, 0, 0.2291])\n",
    "d2 = np.array([0.477121, 0, 0, 0.477121, 0, 0, 0])\n",
    "d3 = np.array([0, 0, 0.477121, 0, 0, 0, 0.176091])\n",
    "q = np.array([0.477121, 0, 0.477121, 0, 0, 0, 0])"
   ]
  },
  {
   "cell_type": "code",
   "execution_count": 6,
   "id": "fda010f8",
   "metadata": {},
   "outputs": [],
   "source": [
    "cos1 = dot(d1,q) / (norm(d1)*(norm(q)))\n",
    "cos2 = dot(d2,q) / (norm(d2)*(norm(q)))\n",
    "cos3 = dot(d3,q) / (norm(d3)*(norm(q)))"
   ]
  },
  {
   "cell_type": "code",
   "execution_count": 7,
   "id": "1462e847",
   "metadata": {},
   "outputs": [
    {
     "name": "stdout",
     "output_type": "stream",
     "text": [
      "0.0\n",
      "0.49999999999999994\n",
      "0.6633690468820874\n"
     ]
    }
   ],
   "source": [
    "print(cos1)\n",
    "print(cos2)\n",
    "print(cos3)"
   ]
  },
  {
   "cell_type": "code",
   "execution_count": null,
   "id": "2e209eff",
   "metadata": {},
   "outputs": [],
   "source": [
    "0.50857889154191210887902469614128"
   ]
  },
  {
   "cell_type": "code",
   "execution_count": 8,
   "id": "acd1484c",
   "metadata": {},
   "outputs": [
    {
     "data": {
      "text/plain": [
       "0.258652488922"
      ]
     },
     "execution_count": 8,
     "metadata": {},
     "output_type": "execute_result"
    }
   ],
   "source": [
    "0.227644448641 + 0.031008040281"
   ]
  },
  {
   "cell_type": "code",
   "execution_count": null,
   "id": "63a87d3e",
   "metadata": {},
   "outputs": [],
   "source": [
    "0.50857889154191210887902469614128  #루트취한값"
   ]
  },
  {
   "cell_type": "code",
   "execution_count": null,
   "id": "f42e863d",
   "metadata": {},
   "outputs": [],
   "source": [
    "0.67475098909301348277931052578366 # 루트취한값"
   ]
  },
  {
   "cell_type": "code",
   "execution_count": null,
   "id": "a1d58257",
   "metadata": {},
   "outputs": [],
   "source": [
    "0.34316411009973362438755207263155  # 두 값의 곱"
   ]
  },
  {
   "cell_type": "code",
   "execution_count": null,
   "id": "246ab80e",
   "metadata": {},
   "outputs": [],
   "source": []
  }
 ],
 "metadata": {
  "kernelspec": {
   "display_name": "Python 3 (ipykernel)",
   "language": "python",
   "name": "python3"
  },
  "language_info": {
   "codemirror_mode": {
    "name": "ipython",
    "version": 3
   },
   "file_extension": ".py",
   "mimetype": "text/x-python",
   "name": "python",
   "nbconvert_exporter": "python",
   "pygments_lexer": "ipython3",
   "version": "3.8.12"
  }
 },
 "nbformat": 4,
 "nbformat_minor": 5
}
