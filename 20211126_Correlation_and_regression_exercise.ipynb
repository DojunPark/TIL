{
 "cells": [
  {
   "cell_type": "markdown",
   "id": "b750c2de",
   "metadata": {},
   "source": [
    "## Correlations\n",
    "\n",
    "### Correlations with random data\n",
    "\n",
    "- Create two random vectors of length 30 and plot them (you many need to call `pyplot.show` to see the picture or use `pyplot.savefig` to save it to a file). Compute their means and variances and their covariance. Compute Pearson's correlation coefficient from these values. Use `numpy.corrcoef` to check yourself.\n",
    "- Use numpy arrays' `.argsort()` method to convert values to their ranks (you will need to use it twice; try to understand why). Use the ranks to compute Spearman's correlation coefficient. Use `scipy.stats.spearmanr` to check yourself.\n",
    "\n",
    "**NB**: if you use `np.cov` to compute covariances, set `ddof=0`, otherwise the result will be different."
   ]
  },
  {
   "cell_type": "code",
   "execution_count": 2,
   "id": "ad659893",
   "metadata": {},
   "outputs": [],
   "source": [
    "import numpy as np\n",
    "from scipy.stats import spearmanr\n",
    "import matplotlib.pyplot as plt\n",
    "%matplotlib inline"
   ]
  },
  {
   "cell_type": "code",
   "execution_count": 9,
   "id": "41af16fa",
   "metadata": {},
   "outputs": [],
   "source": [
    "# Do some work\n",
    "# 1. create random vectors\n",
    "v1 = np.random.rand(1, 30)\n",
    "v2 = np.random.rand(1, 30)"
   ]
  },
  {
   "cell_type": "code",
   "execution_count": 10,
   "id": "9d0482ec",
   "metadata": {},
   "outputs": [
    {
     "name": "stdout",
     "output_type": "stream",
     "text": [
      "[[0.61215008 0.23034629 0.9208522  0.29749845 0.33812577 0.32547784\n",
      "  0.0163865  0.84590151 0.10148003 0.67743685 0.77966505 0.7171349\n",
      "  0.31317093 0.333088   0.57124411 0.10979827 0.99528893 0.75014322\n",
      "  0.74448353 0.08183517 0.96844287 0.65067687 0.78255203 0.63391108\n",
      "  0.92672895 0.28747416 0.54487538 0.51744806 0.57587853 0.732573  ]]\n",
      "[[0.65909996 0.78741679 0.90953841 0.85711919 0.2179472  0.66481138\n",
      "  0.11194795 0.62504436 0.68071454 0.59811956 0.27210884 0.00942484\n",
      "  0.86460322 0.01106118 0.17980113 0.48766799 0.82997247 0.91485458\n",
      "  0.47925447 0.79218309 0.72679661 0.03232906 0.73989696 0.48343548\n",
      "  0.96645464 0.77204612 0.46278322 0.58560881 0.56959405 0.13802857]]\n"
     ]
    }
   ],
   "source": [
    "print(v1)\n",
    "print(v2)"
   ]
  },
  {
   "cell_type": "code",
   "execution_count": 12,
   "id": "89fcdc09",
   "metadata": {},
   "outputs": [
    {
     "data": {
      "image/png": "[encoded data removed]",
      "text/plain": [
       "<Figure size 432x288 with 1 Axes>"
      ]
     },
     "metadata": {
      "needs_background": "light"
     },
     "output_type": "display_data"
    }
   ],
   "source": [
    "plt.scatter(v1, v2)\n",
    "plt.show()"
   ]
  },
  {
   "cell_type": "code",
   "execution_count": 14,
   "id": "8a70ff81",
   "metadata": {},
   "outputs": [],
   "source": [
    "v1mean = np.mean(v1)\n",
    "v2mean = np.mean(v2)"
   ]
  },
  {
   "cell_type": "code",
   "execution_count": 15,
   "id": "c3f227a5",
   "metadata": {},
   "outputs": [
    {
     "data": {
      "text/plain": [
       "(0.5460689518894615, 0.5476554891569164)"
      ]
     },
     "execution_count": 15,
     "metadata": {},
     "output_type": "execute_result"
    }
   ],
   "source": [
    "v1mean, v2mean"
   ]
  },
  {
   "cell_type": "code",
   "execution_count": 16,
   "id": "171a169d",
   "metadata": {},
   "outputs": [],
   "source": [
    "v1var = v1.var()\n",
    "v2var = v2.var()"
   ]
  },
  {
   "cell_type": "code",
   "execution_count": 17,
   "id": "c411b089",
   "metadata": {},
   "outputs": [
    {
     "data": {
      "text/plain": [
       "(0.07858508287576527, 0.0849492408052679)"
      ]
     },
     "execution_count": 17,
     "metadata": {},
     "output_type": "execute_result"
    }
   ],
   "source": [
    "v1var, v2var"
   ]
  },
  {
   "cell_type": "code",
   "execution_count": 22,
   "id": "130b1e61",
   "metadata": {},
   "outputs": [],
   "source": [
    "v1_v2_cov = np.cov(v1, v2, ddof=0)[0, 1]"
   ]
  },
  {
   "cell_type": "code",
   "execution_count": 23,
   "id": "67d6e676",
   "metadata": {},
   "outputs": [
    {
     "data": {
      "text/plain": [
       "0.009880039394289303"
      ]
     },
     "execution_count": 23,
     "metadata": {},
     "output_type": "execute_result"
    }
   ],
   "source": [
    "v1_v2_cov"
   ]
  },
  {
   "cell_type": "code",
   "execution_count": 24,
   "id": "45af57ac",
   "metadata": {},
   "outputs": [
    {
     "data": {
      "text/plain": [
       "0.12092298730211458"
      ]
     },
     "execution_count": 24,
     "metadata": {},
     "output_type": "execute_result"
    }
   ],
   "source": [
    "pearson_test = v1_v2_cov / np.sqrt(v1var) / np.sqrt(v2var)\n",
    "pearson_test"
   ]
  },
  {
   "cell_type": "code",
   "execution_count": 25,
   "id": "78d6cd8b",
   "metadata": {},
   "outputs": [
    {
     "data": {
      "text/plain": [
       "0.12092298730211455"
      ]
     },
     "execution_count": 25,
     "metadata": {},
     "output_type": "execute_result"
    }
   ],
   "source": [
    "np.corrcoef(v1, v2)[0, 1]"
   ]
  },
  {
   "cell_type": "code",
   "execution_count": 26,
   "id": "95ecb6c2",
   "metadata": {},
   "outputs": [
    {
     "data": {
      "text/plain": [
       "array([[ 6, 19,  8, 15,  1, 25,  3, 12,  5, 13,  4, 27, 26, 14, 28,  0,\n",
       "        23, 21,  9, 11, 29, 18, 17, 10, 22,  7,  2, 24, 20, 16]])"
      ]
     },
     "execution_count": 26,
     "metadata": {},
     "output_type": "execute_result"
    }
   ],
   "source": [
    "np.argsort(v1)"
   ]
  },
  {
   "cell_type": "code",
   "execution_count": 27,
   "id": "8b8a171b",
   "metadata": {},
   "outputs": [
    {
     "data": {
      "text/plain": [
       "array([[0.61215008, 0.23034629, 0.9208522 , 0.29749845, 0.33812577,\n",
       "        0.32547784, 0.0163865 , 0.84590151, 0.10148003, 0.67743685,\n",
       "        0.77966505, 0.7171349 , 0.31317093, 0.333088  , 0.57124411,\n",
       "        0.10979827, 0.99528893, 0.75014322, 0.74448353, 0.08183517,\n",
       "        0.96844287, 0.65067687, 0.78255203, 0.63391108, 0.92672895,\n",
       "        0.28747416, 0.54487538, 0.51744806, 0.57587853, 0.732573  ]])"
      ]
     },
     "execution_count": 27,
     "metadata": {},
     "output_type": "execute_result"
    }
   ],
   "source": [
    "v1"
   ]
  },
  {
   "cell_type": "markdown",
   "id": "b799e92f",
   "metadata": {},
   "source": [
    "### Correlations with controlled data\n",
    "- Create a vector `x` of consecutive values using `np.arange`. Create several others vectors, including\n",
    "    * `x` with some noise added (e.g., add `np.random.normal(loc=0, scale=0.1, size=30)` to `x`)\n",
    "    * a linear transformation of `x` (of the form $a + bx$, $a$ and $b$ scalars) with some noise\n",
    "    * a non-linear monotonic transformation of `x` (e.g., `log`, `exp`) with some noise\n",
    "    * a non-monotonic transformation of `x` (e.g., a quadratic if `x` has both positive and negative values) with some noise\n",
    "- Make scatter plots for `x` vs. the other vector and calcucate Pearson's and Spearmans correlation coefficients.\n",
    "- Add outliers to `x` (e.g., replace some values with very big ones; if you add values, don't forget to add to `y` as well). Plot new `x` and `y` and check how outliers affect correlation coefficients."
   ]
  },
  {
   "cell_type": "code",
   "execution_count": null,
   "id": "f6ba6b9e",
   "metadata": {},
   "outputs": [],
   "source": []
  },
  {
   "cell_type": "code",
   "execution_count": 3,
   "id": "3245d470",
   "metadata": {},
   "outputs": [],
   "source": [
    "# Do some work"
   ]
  },
  {
   "cell_type": "markdown",
   "id": "98346202",
   "metadata": {},
   "source": [
    "## Linear models\n",
    "\n",
    "### Simple linear regression\n",
    "\n",
    "You can reuse the vectors $x$ and $a + bx + \\epsilon$ from the previous exercise or create new _x_ and _y_. Now we'll try to recover $a$ and $b$ from the data.\n",
    "\n",
    "- Use a `LinearRegression` object to fit a linear model and extract $a$ and $b$.\n",
    "- Plot $x$ and $y$ and add a regression line.\n",
    "- Standardise $x$ and $y$ (subtract their means and divide them by their standard deviations), find the coefficients again, compare $b$ with the correlation coefficient for standardised vectors."
   ]
  },
  {
   "cell_type": "code",
   "execution_count": 2,
   "id": "26ab1a5e",
   "metadata": {},
   "outputs": [],
   "source": [
    "from sklearn.linear_model import LinearRegression"
   ]
  },
  {
   "cell_type": "code",
   "execution_count": 5,
   "id": "daf80cd3",
   "metadata": {},
   "outputs": [],
   "source": [
    "# Do some work"
   ]
  },
  {
   "cell_type": "markdown",
   "id": "7df49720",
   "metadata": {},
   "source": [
    "### Adding more predictors\n",
    "\n",
    "- Create a random matrix `X` where each row corresponds to an observation and columns correspond to variables. Make `y` a linear combination of these columns with some noise added and try to recover the coefficients of your linear combination using vanilla `LinearRegression`.\n",
    "- Try making two columns of `X` highly correlated (e.g., copy a column and add some noise). See how this affects the estimation of the coefficients."
   ]
  },
  {
   "cell_type": "code",
   "execution_count": 6,
   "id": "387c23db",
   "metadata": {},
   "outputs": [],
   "source": [
    "# Do some work"
   ]
  },
  {
   "cell_type": "markdown",
   "id": "925654d5",
   "metadata": {},
   "source": [
    "### Using regularisation\n",
    "\n",
    "- Use `Ridge` and `Lasso` to compute coefficients based on the matrix with correlated columns. Compute the resulting coefficients with those provided by the vanilla model. Interpret the difference."
   ]
  },
  {
   "cell_type": "code",
   "execution_count": 7,
   "id": "df0017a8",
   "metadata": {},
   "outputs": [],
   "source": [
    "from sklearn.linear_model import Ridge, Lasso"
   ]
  },
  {
   "cell_type": "code",
   "execution_count": 8,
   "id": "4b291e09",
   "metadata": {},
   "outputs": [],
   "source": [
    "# Do some work"
   ]
  },
  {
   "cell_type": "markdown",
   "id": "f61fc44a",
   "metadata": {},
   "source": [
    "### Real data\n",
    "\n",
    "Let's analyse some real data from the `diabetes` dataset.\n",
    "\n",
    "(If you are using R, ask someone to dump the dataset into a .csv file for you.)"
   ]
  },
  {
   "cell_type": "code",
   "execution_count": 9,
   "id": "e38400b5",
   "metadata": {},
   "outputs": [],
   "source": [
    "from sklearn import datasets"
   ]
  },
  {
   "cell_type": "code",
   "execution_count": 10,
   "id": "19aa9001",
   "metadata": {},
   "outputs": [
    {
     "name": "stdout",
     "output_type": "stream",
     "text": [
      ".. _diabetes_dataset:\n",
      "\n",
      "Diabetes dataset\n",
      "----------------\n",
      "\n",
      "Ten baseline variables, age, sex, body mass index, average blood\n",
      "pressure, and six blood serum measurements were obtained for each of n =\n",
      "442 diabetes patients, as well as the response of interest, a\n",
      "quantitative measure of disease progression one year after baseline.\n",
      "\n",
      "**Data Set Characteristics:**\n",
      "\n",
      "  :Number of Instances: 442\n",
      "\n",
      "  :Number of Attributes: First 10 columns are numeric predictive values\n",
      "\n",
      "  :Target: Column 11 is a quantitative measure of disease progression one year after baseline\n",
      "\n",
      "  :Attribute Information:\n",
      "      - age     age in years\n",
      "      - sex\n",
      "      - bmi     body mass index\n",
      "      - bp      average blood pressure\n",
      "      - s1      tc, total serum cholesterol\n",
      "      - s2      ldl, low-density lipoproteins\n",
      "      - s3      hdl, high-density lipoproteins\n",
      "      - s4      tch, total cholesterol / HDL\n",
      "      - s5      ltg, possibly log of serum triglycerides level\n",
      "      - s6      glu, blood sugar level\n",
      "\n",
      "Note: Each of these 10 feature variables have been mean centered and scaled by the standard deviation times `n_samples` (i.e. the sum of squares of each column totals 1).\n",
      "\n",
      "Source URL:\n",
      "https://www4.stat.ncsu.edu/~boos/var.select/diabetes.html\n",
      "\n",
      "For more information see:\n",
      "Bradley Efron, Trevor Hastie, Iain Johnstone and Robert Tibshirani (2004) \"Least Angle Regression,\" Annals of Statistics (with discussion), 407-499.\n",
      "(https://web.stanford.edu/~hastie/Papers/LARS/LeastAngle_2002.pdf)\n"
     ]
    }
   ],
   "source": [
    "diabetes = datasets.load_diabetes()\n",
    "print(diabetes.DESCR)"
   ]
  },
  {
   "cell_type": "code",
   "execution_count": 11,
   "id": "a775a785",
   "metadata": {},
   "outputs": [],
   "source": [
    "diabetes_X, diabetes_y = datasets.load_diabetes(return_X_y=True)"
   ]
  },
  {
   "cell_type": "markdown",
   "id": "417921fa",
   "metadata": {},
   "source": [
    "Separate 20 rows as a test dataset (use random rows or any interval you like). Train different models (vanilla, ridge, lasso) on the remaining data and use the `.predict()` method of the fitted model to predict the test response. Compute the mean squared error of the prediction manually or using `sklearn.metrics.mean_squared_error`."
   ]
  },
  {
   "cell_type": "code",
   "execution_count": 12,
   "id": "bd0122b2",
   "metadata": {},
   "outputs": [],
   "source": [
    "# Do some work"
   ]
  },
  {
   "cell_type": "markdown",
   "id": "1504deab",
   "metadata": {},
   "source": [
    "Try to be more systematic in selectic hyperparameters for ridge and lasso by using _cross-validation_: separate the rows of **X** and values of _y_ into five groups. Train the model on 4 groups and use the fifth for testing. Average over 5 results (mean-squared errors) for each value of $\\lambda$ from some set (e.g., `[0.01, 0.1, 1, 10, 100]`) and model.\n",
    "\n",
    "What combination of the penalty value and a model gives the best prediction accuracy?"
   ]
  },
  {
   "cell_type": "code",
   "execution_count": 13,
   "id": "43966f6e",
   "metadata": {},
   "outputs": [],
   "source": [
    "# Do some work"
   ]
  },
  {
   "cell_type": "markdown",
   "id": "07992e65",
   "metadata": {},
   "source": [
    "## Significance testing\n",
    "\n",
    "Take the best model from the previous section and use permutation testing and bootstrapping to compute a _p_-value and a confidence interval for the predictor _bp_."
   ]
  },
  {
   "cell_type": "code",
   "execution_count": 14,
   "id": "aa22f5c7",
   "metadata": {},
   "outputs": [],
   "source": [
    "# Do some work"
   ]
  }
 ],
 "metadata": {
  "kernelspec": {
   "display_name": "Python 3 (ipykernel)",
   "language": "python",
   "name": "python3"
  },
  "language_info": {
   "codemirror_mode": {
    "name": "ipython",
    "version": 3
   },
   "file_extension": ".py",
   "mimetype": "text/x-python",
   "name": "python",
   "nbconvert_exporter": "python",
   "pygments_lexer": "ipython3",
   "version": "3.8.12"
  }
 },
 "nbformat": 4,
 "nbformat_minor": 5
}
