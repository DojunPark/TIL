{
 "cells": [
  {
   "cell_type": "code",
   "execution_count": 1,
   "metadata": {},
   "outputs": [],
   "source": [
    "def solution(price, money):\n",
    "    answer = 0\n",
    "    for i in price:\n",
    "        answer += i\n",
    "    result = money - answer\n",
    "    \n",
    "    if result < 0:\n",
    "        return -1\n",
    "    else:\n",
    "        return result"
   ]
  },
  {
   "cell_type": "code",
   "execution_count": 2,
   "metadata": {},
   "outputs": [],
   "source": [
    "def solution(list):\n",
    "    \n",
    "    list.sort()\n",
    "    min, max = list[0], list[-1]\n",
    "    total = sum(list)\n",
    "    result = total - max - min\n",
    "    \n",
    "    return result"
   ]
  },
  {
   "cell_type": "code",
   "execution_count": 3,
   "metadata": {},
   "outputs": [],
   "source": [
    "def func_a(s):\n",
    "    s.sort()\n",
    "    return s[len(s)-1], s[0]\n",
    "\n",
    "def func_b(s):\n",
    "    ret = 0\n",
    "    for i in s:\n",
    "        ret += 1\n",
    "    return ret\n",
    "\n",
    "def solution(scores):\n",
    "    sum = func_b(scores)\n",
    "    max, min = func_a(scores)\n",
    "    return sum - max - min"
   ]
  },
  {
   "cell_type": "code",
   "execution_count": 4,
   "metadata": {},
   "outputs": [],
   "source": [
    "def solution(list):\n",
    "    cnt = 0\n",
    "    for i in list:\n",
    "        if i <= 200:\n",
    "            cnt += 1\n",
    "    return cnt"
   ]
  },
  {
   "cell_type": "code",
   "execution_count": 5,
   "metadata": {},
   "outputs": [],
   "source": [
    "def solution(scores):\n",
    "    count = 0\n",
    "    for s in range(len(scores)):\n",
    "        if scores[s] <= 200:\n",
    "            count += 1\n",
    "    return count    "
   ]
  },
  {
   "cell_type": "code",
   "execution_count": 6,
   "metadata": {},
   "outputs": [],
   "source": [
    "def solution(price, grade):\n",
    "    answer = 0\n",
    "    if grade == 'S':\n",
    "        answer = price  * 1.05\n",
    "    elif grade == 'G':\n",
    "        answer = price  * 1.10\n",
    "    elif grade == 'V':\n",
    "        answer = price  * 1.15\n",
    "    return int(answer)"
   ]
  },
  {
   "cell_type": "code",
   "execution_count": 7,
   "metadata": {},
   "outputs": [],
   "source": [
    "def solution(number):\n",
    "    count = 0\n",
    "    for i in range(1, number+1):\n",
    "        current = i\n",
    "        while current != 0:\n",
    "            unit = current % 10\n",
    "            if unit == 3 or unit == 6 or unit == 9:\n",
    "                count += 1\n",
    "            current //= 10\n",
    "    return count"
   ]
  },
  {
   "cell_type": "code",
   "execution_count": 8,
   "metadata": {},
   "outputs": [],
   "source": [
    "def solution(file_info):\n",
    "    success, fail = 0, 0\n",
    "    for f in file_info:\n",
    "        splited = f.split(',')\n",
    "        \n",
    "        if splited[0] == 'jpeg' and int(splited[2]) <= 1000:\n",
    "            success += 1\n",
    "        else:\n",
    "            fail += 1\n",
    "    \n",
    "    return success, fail"
   ]
  },
  {
   "cell_type": "code",
   "execution_count": 9,
   "metadata": {},
   "outputs": [],
   "source": [
    "def solution(sent):\n",
    "    filtered = []\n",
    "    for i in sent:\n",
    "        if i != ' ' and i != '.':\n",
    "            filtered += 1\n",
    "    before = ''.join(filtered)\n",
    "    filtered.reverse()\n",
    "    after = ''.join(filtered)\n",
    "    \n",
    "    return before == after"
   ]
  },
  {
   "cell_type": "code",
   "execution_count": 10,
   "metadata": {},
   "outputs": [],
   "source": [
    "def solution(string):\n",
    "    result = string[0]\n",
    "    \n",
    "    for i in range(1, len(string)):\n",
    "        if string[i-1] != string[i]:\n",
    "            result += string[i]\n",
    "    \n",
    "    return result"
   ]
  },
  {
   "cell_type": "code",
   "execution_count": 11,
   "metadata": {},
   "outputs": [],
   "source": [
    "def solution(data):\n",
    "    total = 0\n",
    "    for i in data:\n",
    "        total += i\n",
    "    \n",
    "    cnt = 0\n",
    "    average = total // len(data)\n",
    "    for i in data:\n",
    "        if i < average:\n",
    "            cnt += 1\n",
    "    \n",
    "    return cnt"
   ]
  },
  {
   "cell_type": "code",
   "execution_count": 12,
   "metadata": {},
   "outputs": [],
   "source": [
    "def solution(shoes_size):\n",
    "    answer = [0 for _ in range(6)]\n",
    "    \n",
    "    for size in shoes_size:\n",
    "        if size == '7':\n",
    "            answer[0] += 1\n",
    "        elif size == '7.5':\n",
    "            answer[1] += 1\n",
    "        elif size == '8':\n",
    "            answer[2] += 1\n",
    "        elif size == '8.5':\n",
    "            answer[3] += 1\n",
    "        elif size == '9':\n",
    "            answer[4] += 1\n",
    "        elif size == '9.5':\n",
    "            answer[5] += 1\n",
    "        \n",
    "    return answer"
   ]
  },
  {
   "cell_type": "code",
   "execution_count": 14,
   "metadata": {},
   "outputs": [],
   "source": [
    "def func_a(list, num):\n",
    "    ret = []\n",
    "    for i in list:\n",
    "        if i < num:\n",
    "            ret.append(i)\n",
    "    return ret\n",
    "\n",
    "def func_b(a, b):\n",
    "    if a > b:\n",
    "        return a - b\n",
    "    else:\n",
    "        return b - a\n",
    "\n",
    "def func_c(list):\n",
    "    ret = -1\n",
    "    for i in list:\n",
    "        if ret < i:\n",
    "            ret = i\n",
    "    return ret\n",
    "\n",
    "def solution(visitor):\n",
    "    max_first = func_c(visitor)\n",
    "    visitor_removed = func_a(visitor)\n",
    "    max_second = func_c(visitor_removed)\n",
    "    answer = func_b(max_first, max_second)\n",
    "    return answer"
   ]
  },
  {
   "cell_type": "code",
   "execution_count": null,
   "metadata": {},
   "outputs": [],
   "source": [
    "def "
   ]
  },
  {
   "cell_type": "code",
   "execution_count": null,
   "metadata": {},
   "outputs": [],
   "source": []
  },
  {
   "cell_type": "code",
   "execution_count": null,
   "metadata": {},
   "outputs": [],
   "source": []
  },
  {
   "cell_type": "code",
   "execution_count": null,
   "metadata": {},
   "outputs": [],
   "source": []
  },
  {
   "cell_type": "code",
   "execution_count": null,
   "metadata": {},
   "outputs": [],
   "source": []
  },
  {
   "cell_type": "code",
   "execution_count": null,
   "metadata": {},
   "outputs": [],
   "source": []
  },
  {
   "cell_type": "code",
   "execution_count": null,
   "metadata": {},
   "outputs": [],
   "source": []
  },
  {
   "cell_type": "code",
   "execution_count": null,
   "metadata": {},
   "outputs": [],
   "source": []
  },
  {
   "cell_type": "code",
   "execution_count": null,
   "metadata": {},
   "outputs": [],
   "source": []
  },
  {
   "cell_type": "code",
   "execution_count": null,
   "metadata": {},
   "outputs": [],
   "source": []
  },
  {
   "cell_type": "code",
   "execution_count": null,
   "metadata": {},
   "outputs": [],
   "source": []
  },
  {
   "cell_type": "code",
   "execution_count": null,
   "metadata": {},
   "outputs": [],
   "source": []
  },
  {
   "cell_type": "code",
   "execution_count": null,
   "metadata": {},
   "outputs": [],
   "source": []
  },
  {
   "cell_type": "code",
   "execution_count": null,
   "metadata": {},
   "outputs": [],
   "source": []
  },
  {
   "cell_type": "code",
   "execution_count": null,
   "metadata": {},
   "outputs": [],
   "source": []
  },
  {
   "cell_type": "code",
   "execution_count": null,
   "metadata": {},
   "outputs": [],
   "source": []
  },
  {
   "cell_type": "code",
   "execution_count": null,
   "metadata": {},
   "outputs": [],
   "source": []
  },
  {
   "cell_type": "code",
   "execution_count": null,
   "metadata": {},
   "outputs": [],
   "source": []
  },
  {
   "cell_type": "code",
   "execution_count": null,
   "metadata": {},
   "outputs": [],
   "source": []
  },
  {
   "cell_type": "code",
   "execution_count": null,
   "metadata": {},
   "outputs": [],
   "source": []
  },
  {
   "cell_type": "code",
   "execution_count": null,
   "metadata": {},
   "outputs": [],
   "source": []
  },
  {
   "cell_type": "code",
   "execution_count": null,
   "metadata": {},
   "outputs": [],
   "source": []
  }
 ],
 "metadata": {
  "kernelspec": {
   "display_name": "Python 3",
   "language": "python",
   "name": "python3"
  },
  "language_info": {
   "codemirror_mode": {
    "name": "ipython",
    "version": 3
   },
   "file_extension": ".py",
   "mimetype": "text/x-python",
   "name": "python",
   "nbconvert_exporter": "python",
   "pygments_lexer": "ipython3",
   "version": "3.6.9"
  }
 },
 "nbformat": 4,
 "nbformat_minor": 2
}
