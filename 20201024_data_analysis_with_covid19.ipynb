{
 "cells": [
  {
   "cell_type": "markdown",
   "metadata": {},
   "source": [
    "# 데이터 불러오기"
   ]
  },
  {
   "cell_type": "code",
   "execution_count": 21,
   "metadata": {},
   "outputs": [
    {
     "data": {
      "text/html": [
       "<div>\n",
       "<style scoped>\n",
       "    .dataframe tbody tr th:only-of-type {\n",
       "        vertical-align: middle;\n",
       "    }\n",
       "\n",
       "    .dataframe tbody tr th {\n",
       "        vertical-align: top;\n",
       "    }\n",
       "\n",
       "    .dataframe thead th {\n",
       "        text-align: right;\n",
       "    }\n",
       "</style>\n",
       "<table border=\"1\" class=\"dataframe\">\n",
       "  <thead>\n",
       "    <tr style=\"text-align: right;\">\n",
       "      <th></th>\n",
       "      <th>연번</th>\n",
       "      <th>확진일</th>\n",
       "      <th>환자번호</th>\n",
       "      <th>국적</th>\n",
       "      <th>환자정보</th>\n",
       "      <th>지역</th>\n",
       "      <th>여행력</th>\n",
       "      <th>접촉력</th>\n",
       "      <th>조치사항</th>\n",
       "      <th>상태</th>\n",
       "      <th>이동경로</th>\n",
       "      <th>등록일</th>\n",
       "      <th>수정일</th>\n",
       "      <th>노출여부</th>\n",
       "    </tr>\n",
       "  </thead>\n",
       "  <tbody>\n",
       "    <tr>\n",
       "      <th>0</th>\n",
       "      <td>5768</td>\n",
       "      <td>10.22.</td>\n",
       "      <td>NaN</td>\n",
       "      <td>NaN</td>\n",
       "      <td>NaN</td>\n",
       "      <td>서초구</td>\n",
       "      <td>NaN</td>\n",
       "      <td>강남서초 지인모임</td>\n",
       "      <td>NaN</td>\n",
       "      <td>NaN</td>\n",
       "      <td>NaN</td>\n",
       "      <td>2020-10-23 11:04:56</td>\n",
       "      <td>2020-10-23 11:04:56</td>\n",
       "      <td>Y</td>\n",
       "    </tr>\n",
       "    <tr>\n",
       "      <th>1</th>\n",
       "      <td>5767</td>\n",
       "      <td>10.22.</td>\n",
       "      <td>NaN</td>\n",
       "      <td>NaN</td>\n",
       "      <td>NaN</td>\n",
       "      <td>강남구</td>\n",
       "      <td>NaN</td>\n",
       "      <td>강남서초 지인모임</td>\n",
       "      <td>NaN</td>\n",
       "      <td>NaN</td>\n",
       "      <td>NaN</td>\n",
       "      <td>2020-10-23 11:04:56</td>\n",
       "      <td>2020-10-23 11:04:56</td>\n",
       "      <td>Y</td>\n",
       "    </tr>\n",
       "    <tr>\n",
       "      <th>2</th>\n",
       "      <td>5766</td>\n",
       "      <td>10.22.</td>\n",
       "      <td>NaN</td>\n",
       "      <td>NaN</td>\n",
       "      <td>NaN</td>\n",
       "      <td>중랑구</td>\n",
       "      <td>NaN</td>\n",
       "      <td>서대문구 소재 장례식장</td>\n",
       "      <td>NaN</td>\n",
       "      <td>NaN</td>\n",
       "      <td>NaN</td>\n",
       "      <td>2020-10-23 11:04:56</td>\n",
       "      <td>2020-10-23 11:04:56</td>\n",
       "      <td>Y</td>\n",
       "    </tr>\n",
       "    <tr>\n",
       "      <th>3</th>\n",
       "      <td>5765</td>\n",
       "      <td>10.22.</td>\n",
       "      <td>NaN</td>\n",
       "      <td>NaN</td>\n",
       "      <td>NaN</td>\n",
       "      <td>송파구</td>\n",
       "      <td>NaN</td>\n",
       "      <td>기타 확진자 접촉</td>\n",
       "      <td>NaN</td>\n",
       "      <td>NaN</td>\n",
       "      <td>NaN</td>\n",
       "      <td>2020-10-23 11:04:56</td>\n",
       "      <td>2020-10-23 11:04:56</td>\n",
       "      <td>Y</td>\n",
       "    </tr>\n",
       "    <tr>\n",
       "      <th>4</th>\n",
       "      <td>5764</td>\n",
       "      <td>10.22.</td>\n",
       "      <td>NaN</td>\n",
       "      <td>NaN</td>\n",
       "      <td>NaN</td>\n",
       "      <td>구로구</td>\n",
       "      <td>NaN</td>\n",
       "      <td>기타 확진자 접촉</td>\n",
       "      <td>NaN</td>\n",
       "      <td>NaN</td>\n",
       "      <td>NaN</td>\n",
       "      <td>2020-10-23 11:04:56</td>\n",
       "      <td>2020-10-23 11:04:56</td>\n",
       "      <td>Y</td>\n",
       "    </tr>\n",
       "  </tbody>\n",
       "</table>\n",
       "</div>"
      ],
      "text/plain": [
       "     연번     확진일  환자번호  국적  환자정보   지역  여행력           접촉력  조치사항   상태 이동경로  \\\n",
       "0  5768  10.22.   NaN NaN   NaN  서초구  NaN     강남서초 지인모임   NaN  NaN  NaN   \n",
       "1  5767  10.22.   NaN NaN   NaN  강남구  NaN     강남서초 지인모임   NaN  NaN  NaN   \n",
       "2  5766  10.22.   NaN NaN   NaN  중랑구  NaN  서대문구 소재 장례식장   NaN  NaN  NaN   \n",
       "3  5765  10.22.   NaN NaN   NaN  송파구  NaN     기타 확진자 접촉   NaN  NaN  NaN   \n",
       "4  5764  10.22.   NaN NaN   NaN  구로구  NaN     기타 확진자 접촉   NaN  NaN  NaN   \n",
       "\n",
       "                   등록일                  수정일 노출여부  \n",
       "0  2020-10-23 11:04:56  2020-10-23 11:04:56    Y  \n",
       "1  2020-10-23 11:04:56  2020-10-23 11:04:56    Y  \n",
       "2  2020-10-23 11:04:56  2020-10-23 11:04:56    Y  \n",
       "3  2020-10-23 11:04:56  2020-10-23 11:04:56    Y  \n",
       "4  2020-10-23 11:04:56  2020-10-23 11:04:56    Y  "
      ]
     },
     "execution_count": 21,
     "metadata": {},
     "output_type": "execute_result"
    }
   ],
   "source": [
    "import pandas as pd\n",
    "\n",
    "df = pd.read_csv('c:\\\\til\\\\covid19_seoul.csv', encoding='euc-kr')\n",
    "df.head()"
   ]
  },
  {
   "cell_type": "code",
   "execution_count": 3,
   "metadata": {},
   "outputs": [
    {
     "data": {
      "text/plain": [
       "(5768, 14)"
      ]
     },
     "execution_count": 3,
     "metadata": {},
     "output_type": "execute_result"
    }
   ],
   "source": [
    "df.shape"
   ]
  },
  {
   "cell_type": "markdown",
   "metadata": {},
   "source": [
    "# 필요한 데이터로 새로운 테이블 만들기"
   ]
  },
  {
   "cell_type": "code",
   "execution_count": 12,
   "metadata": {},
   "outputs": [
    {
     "data": {
      "text/html": [
       "<div>\n",
       "<style scoped>\n",
       "    .dataframe tbody tr th:only-of-type {\n",
       "        vertical-align: middle;\n",
       "    }\n",
       "\n",
       "    .dataframe tbody tr th {\n",
       "        vertical-align: top;\n",
       "    }\n",
       "\n",
       "    .dataframe thead th {\n",
       "        text-align: right;\n",
       "    }\n",
       "</style>\n",
       "<table border=\"1\" class=\"dataframe\">\n",
       "  <thead>\n",
       "    <tr style=\"text-align: right;\">\n",
       "      <th></th>\n",
       "      <th>확진일</th>\n",
       "      <th>지역</th>\n",
       "    </tr>\n",
       "  </thead>\n",
       "  <tbody>\n",
       "    <tr>\n",
       "      <th>0</th>\n",
       "      <td>10.22.</td>\n",
       "      <td>서초구</td>\n",
       "    </tr>\n",
       "    <tr>\n",
       "      <th>1</th>\n",
       "      <td>10.22.</td>\n",
       "      <td>강남구</td>\n",
       "    </tr>\n",
       "    <tr>\n",
       "      <th>2</th>\n",
       "      <td>10.22.</td>\n",
       "      <td>중랑구</td>\n",
       "    </tr>\n",
       "    <tr>\n",
       "      <th>3</th>\n",
       "      <td>10.22.</td>\n",
       "      <td>송파구</td>\n",
       "    </tr>\n",
       "    <tr>\n",
       "      <th>4</th>\n",
       "      <td>10.22.</td>\n",
       "      <td>구로구</td>\n",
       "    </tr>\n",
       "  </tbody>\n",
       "</table>\n",
       "</div>"
      ],
      "text/plain": [
       "      확진일   지역\n",
       "0  10.22.  서초구\n",
       "1  10.22.  강남구\n",
       "2  10.22.  중랑구\n",
       "3  10.22.  송파구\n",
       "4  10.22.  구로구"
      ]
     },
     "execution_count": 12,
     "metadata": {},
     "output_type": "execute_result"
    }
   ],
   "source": [
    "df = df[['확진일', '지역']]\n",
    "df.head()"
   ]
  },
  {
   "cell_type": "code",
   "execution_count": 13,
   "metadata": {},
   "outputs": [
    {
     "data": {
      "text/html": [
       "<div>\n",
       "<style scoped>\n",
       "    .dataframe tbody tr th:only-of-type {\n",
       "        vertical-align: middle;\n",
       "    }\n",
       "\n",
       "    .dataframe tbody tr th {\n",
       "        vertical-align: top;\n",
       "    }\n",
       "\n",
       "    .dataframe thead th {\n",
       "        text-align: right;\n",
       "    }\n",
       "</style>\n",
       "<table border=\"1\" class=\"dataframe\">\n",
       "  <thead>\n",
       "    <tr style=\"text-align: right;\">\n",
       "      <th></th>\n",
       "      <th>확진일</th>\n",
       "      <th>지역</th>\n",
       "    </tr>\n",
       "  </thead>\n",
       "  <tbody>\n",
       "    <tr>\n",
       "      <th>5763</th>\n",
       "      <td>1.31.</td>\n",
       "      <td>성북구</td>\n",
       "    </tr>\n",
       "    <tr>\n",
       "      <th>5764</th>\n",
       "      <td>1.30.</td>\n",
       "      <td>마포구</td>\n",
       "    </tr>\n",
       "    <tr>\n",
       "      <th>5765</th>\n",
       "      <td>1.30.</td>\n",
       "      <td>종로구</td>\n",
       "    </tr>\n",
       "    <tr>\n",
       "      <th>5766</th>\n",
       "      <td>1.30.</td>\n",
       "      <td>중랑구</td>\n",
       "    </tr>\n",
       "    <tr>\n",
       "      <th>5767</th>\n",
       "      <td>1.24.</td>\n",
       "      <td>강서구</td>\n",
       "    </tr>\n",
       "  </tbody>\n",
       "</table>\n",
       "</div>"
      ],
      "text/plain": [
       "        확진일   지역\n",
       "5763  1.31.  성북구\n",
       "5764  1.30.  마포구\n",
       "5765  1.30.  종로구\n",
       "5766  1.30.  중랑구\n",
       "5767  1.24.  강서구"
      ]
     },
     "execution_count": 13,
     "metadata": {},
     "output_type": "execute_result"
    }
   ],
   "source": [
    "df.tail()"
   ]
  },
  {
   "cell_type": "markdown",
   "metadata": {},
   "source": [
    "# 생성할 테이블 목록\n",
    "1. 월별 확진자\n",
    "2. 지역별 확진자\n",
    "3. 월별/지역별 확진자"
   ]
  },
  {
   "cell_type": "markdown",
   "metadata": {},
   "source": [
    "# 오탈자 수정 \n",
    "- 종랑구 -> 중랑구\n",
    "- 한국, 기타 -> 타시도"
   ]
  },
  {
   "cell_type": "code",
   "execution_count": 14,
   "metadata": {},
   "outputs": [
    {
     "data": {
      "text/plain": [
       "['서초구',\n",
       " '강남구',\n",
       " '중랑구',\n",
       " '송파구',\n",
       " '구로구',\n",
       " '성동구',\n",
       " '영등포구',\n",
       " '서대문구',\n",
       " '타시도',\n",
       " '관악구',\n",
       " '동작구',\n",
       " '강동구',\n",
       " '양천구',\n",
       " '도봉구',\n",
       " '강서구',\n",
       " '성북구',\n",
       " '용산구',\n",
       " '광진구',\n",
       " '은평구',\n",
       " '마포구',\n",
       " '노원구',\n",
       " '금천구',\n",
       " '종로구',\n",
       " '강북구',\n",
       " '동대문구',\n",
       " '중구']"
      ]
     },
     "execution_count": 14,
     "metadata": {},
     "output_type": "execute_result"
    }
   ],
   "source": [
    "region = []\n",
    "for i in range(len(df['지역'])):\n",
    "    \n",
    "    if df['지역'][i] == '종랑구':\n",
    "        df['지역'][i] = '중랑구'\n",
    "    if df['지역'][i] == '한국':\n",
    "        df['지역'][i] = '타시도'\n",
    "    if df['지역'][i] == '기타':\n",
    "        df['지역'][i] = '타시도'\n",
    "    if df['지역'][i] not in region:\n",
    "        region.append(df['지역'][i])\n",
    "\n",
    "region"
   ]
  },
  {
   "cell_type": "markdown",
   "metadata": {},
   "source": [
    "- 25개구 + 타시도"
   ]
  },
  {
   "cell_type": "code",
   "execution_count": 15,
   "metadata": {},
   "outputs": [
    {
     "data": {
      "text/plain": [
       "26"
      ]
     },
     "execution_count": 15,
     "metadata": {},
     "output_type": "execute_result"
    }
   ],
   "source": [
    "len(region)"
   ]
  },
  {
   "cell_type": "markdown",
   "metadata": {},
   "source": [
    "- 정렬"
   ]
  },
  {
   "cell_type": "code",
   "execution_count": 16,
   "metadata": {},
   "outputs": [
    {
     "name": "stdout",
     "output_type": "stream",
     "text": [
      "['강남구', '강동구', '강북구', '강서구', '관악구', '광진구', '구로구', '금천구', '노원구', '도봉구', '동대문구', '동작구', '마포구', '서대문구', '서초구', '성동구', '성북구', '송파구', '양천구', '영등포구', '용산구', '은평구', '종로구', '중구', '중랑구', '타시도']\n"
     ]
    }
   ],
   "source": [
    "region.sort()\n",
    "print(region)"
   ]
  },
  {
   "cell_type": "markdown",
   "metadata": {},
   "source": [
    "# 1. 월별 확진자 테이블 생성하기"
   ]
  },
  {
   "cell_type": "code",
   "execution_count": 17,
   "metadata": {},
   "outputs": [
    {
     "name": "stdout",
     "output_type": "stream",
     "text": [
      "{'jan': 0, 'feb': 0, 'mar': 0, 'apr': 0, 'may': 0, 'jun': 0, 'jul': 0, 'aug': 0, 'sep': 0, 'oct': 0}\n"
     ]
    }
   ],
   "source": [
    "covid_month = {\n",
    "    'jan' : 0,\n",
    "    'feb' : 0,\n",
    "    'mar' : 0,\n",
    "    'apr' : 0,\n",
    "    'may' : 0,\n",
    "    'jun' : 0,\n",
    "    'jul' : 0,\n",
    "    'aug' : 0,\n",
    "    'sep' : 0,\n",
    "    'oct' : 0\n",
    "}\n",
    "print(covid_month)"
   ]
  },
  {
   "cell_type": "code",
   "execution_count": 20,
   "metadata": {},
   "outputs": [
    {
     "name": "stdout",
     "output_type": "stream",
     "text": [
      "10.22.\n",
      "10.22.\n",
      "10.22.\n",
      "10.22.\n",
      "10.22.\n",
      "10.22.\n",
      "10.22.\n",
      "10.22.\n",
      "10.22.\n",
      "10.22.\n",
      "10.22.\n"
     ]
    }
   ],
   "source": [
    "n = 0\n",
    "for i in df['확진일']:\n",
    "    print(i)\n",
    "        \n",
    "    n += 1\n",
    "    if n > 10:\n",
    "        break"
   ]
  },
  {
   "cell_type": "markdown",
   "metadata": {},
   "source": [
    "# 여행력"
   ]
  },
  {
   "cell_type": "code",
   "execution_count": 22,
   "metadata": {},
   "outputs": [
    {
     "data": {
      "text/plain": [
       "0    NaN\n",
       "1    NaN\n",
       "2    NaN\n",
       "3    NaN\n",
       "4    NaN\n",
       "Name: 여행력, dtype: object"
      ]
     },
     "execution_count": 22,
     "metadata": {},
     "output_type": "execute_result"
    }
   ],
   "source": [
    "df_trip = df['여행력']\n",
    "df_trip.head()"
   ]
  },
  {
   "cell_type": "code",
   "execution_count": 26,
   "metadata": {},
   "outputs": [
    {
     "data": {
      "text/plain": [
       "[nan,\n",
       " '키르기스스탄',\n",
       " '미국',\n",
       " '인도',\n",
       " '이란',\n",
       " '체코',\n",
       " '폴란드',\n",
       " '프랑스',\n",
       " '필리핀',\n",
       " '방글라데시',\n",
       " '일본',\n",
       " '브라질',\n",
       " '우즈베키스탄',\n",
       " '요르단',\n",
       " '쿠웨이트',\n",
       " '인도네시아',\n",
       " '우간다',\n",
       " '몰타',\n",
       " '영국',\n",
       " '네팔',\n",
       " '카타르',\n",
       " '우크라이나',\n",
       " '에콰도르',\n",
       " '키르기즈스탄',\n",
       " '파라과이',\n",
       " '멕시코 미국',\n",
       " '카자흐스탄',\n",
       " '독일',\n",
       " '중국',\n",
       " '이집트',\n",
       " '21263',\n",
       " '터키',\n",
       " '사우디아라비아',\n",
       " '베트남',\n",
       " '에티오피아',\n",
       " '스페인',\n",
       " '케냐',\n",
       " '멕시코',\n",
       " '홍콩',\n",
       " '러시아',\n",
       " '이라크',\n",
       " '모로코 터키',\n",
       " '나이지리아',\n",
       " '미국 멕시코',\n",
       " '페루',\n",
       " '아랍에미리트',\n",
       " 'UAE',\n",
       " '파키스탄',\n",
       " '아일랜드',\n",
       " '콩코 프랑스',\n",
       " '캐나다',\n",
       " '페루 미국',\n",
       " '프랑스 스페인 독일 이탈리아 네덜란드',\n",
       " '팔라우',\n",
       " '호주 인도네시아',\n",
       " '이탈리아',\n",
       " '포르투칼',\n",
       " '미국 캐나다 멕시코',\n",
       " '미국 뉴욕',\n",
       " '오스트리아',\n",
       " '미국 브라질',\n",
       " '태국',\n",
       " '아르헨티나 볼리비아 브라질',\n",
       " '말레이시아',\n",
       " '필리핀 마닐라',\n",
       " '브라질 아르헨티아 칠레 볼리비아',\n",
       " '프랑스 독일',\n",
       " '미국 캐나다',\n",
       " '스페인 카타르',\n",
       " '이탈리아 프랑스',\n",
       " '체코 헝가리 오스트리아 이탈리아 프랑스',\n",
       " '모로코 프랑스 오스트리아',\n",
       " '영국 프랑스',\n",
       " '스페인체코',\n",
       " '독일프랑스',\n",
       " '프랑스 스페인',\n",
       " '스페인 프랑스',\n",
       " '이탈리아 독일 홍콩',\n",
       " '중국 청도',\n",
       " '우한교민',\n",
       " '중국 우한시',\n",
       " '싱가포르',\n",
       " '우한 교민']"
      ]
     },
     "execution_count": 26,
     "metadata": {},
     "output_type": "execute_result"
    }
   ],
   "source": [
    "country = []\n",
    "\n",
    "for i in df_trip:\n",
    "    if i not in country:\n",
    "        country.append(i)\n",
    "\n",
    "country"
   ]
  },
  {
   "cell_type": "code",
   "execution_count": 29,
   "metadata": {},
   "outputs": [
    {
     "ename": "NameError",
     "evalue": "name 'nan' is not defined",
     "output_type": "error",
     "traceback": [
      "\u001b[1;31m---------------------------------------------------------------------------\u001b[0m",
      "\u001b[1;31mNameError\u001b[0m                                 Traceback (most recent call last)",
      "\u001b[1;32m<ipython-input-29-d6d0f2ed3c99>\u001b[0m in \u001b[0;36m<module>\u001b[1;34m\u001b[0m\n\u001b[1;32m----> 1\u001b[1;33m \u001b[0mcountry\u001b[0m\u001b[1;33m.\u001b[0m\u001b[0mpop\u001b[0m\u001b[1;33m(\u001b[0m\u001b[0mnan\u001b[0m\u001b[1;33m)\u001b[0m\u001b[1;33m\u001b[0m\u001b[1;33m\u001b[0m\u001b[0m\n\u001b[0m",
      "\u001b[1;31mNameError\u001b[0m: name 'nan' is not defined"
     ]
    }
   ],
   "source": [
    "country.pop(nan)"
   ]
  },
  {
   "cell_type": "code",
   "execution_count": 31,
   "metadata": {},
   "outputs": [
    {
     "data": {
      "text/plain": [
       "['NaN',\n",
       " '키르기스스탄',\n",
       " '미국',\n",
       " '인도',\n",
       " '이란',\n",
       " '체코',\n",
       " '폴란드',\n",
       " '프랑스',\n",
       " '필리핀',\n",
       " '방글라데시',\n",
       " '일본',\n",
       " '브라질',\n",
       " '우즈베키스탄',\n",
       " '요르단',\n",
       " '쿠웨이트',\n",
       " '인도네시아',\n",
       " '우간다',\n",
       " '몰타',\n",
       " '영국',\n",
       " '네팔',\n",
       " '카타르',\n",
       " '우크라이나',\n",
       " '에콰도르',\n",
       " '키르기즈스탄',\n",
       " '파라과이',\n",
       " '멕시코 미국',\n",
       " '카자흐스탄',\n",
       " '독일',\n",
       " '중국',\n",
       " '이집트',\n",
       " '21263',\n",
       " '터키',\n",
       " '사우디아라비아',\n",
       " '베트남',\n",
       " '에티오피아',\n",
       " '스페인',\n",
       " '케냐',\n",
       " '멕시코',\n",
       " '홍콩',\n",
       " '러시아',\n",
       " '이라크',\n",
       " '모로코 터키',\n",
       " '나이지리아',\n",
       " '미국 멕시코',\n",
       " '페루',\n",
       " '아랍에미리트',\n",
       " 'UAE',\n",
       " '파키스탄',\n",
       " '아일랜드',\n",
       " '콩코 프랑스',\n",
       " '캐나다',\n",
       " '페루 미국',\n",
       " '프랑스 스페인 독일 이탈리아 네덜란드',\n",
       " '팔라우',\n",
       " '호주 인도네시아',\n",
       " '이탈리아',\n",
       " '포르투칼',\n",
       " '미국 캐나다 멕시코',\n",
       " '미국 뉴욕',\n",
       " '오스트리아',\n",
       " '미국 브라질',\n",
       " '태국',\n",
       " '아르헨티나 볼리비아 브라질',\n",
       " '말레이시아',\n",
       " '필리핀 마닐라',\n",
       " '브라질 아르헨티아 칠레 볼리비아',\n",
       " '프랑스 독일',\n",
       " '미국 캐나다',\n",
       " '스페인 카타르',\n",
       " '이탈리아 프랑스',\n",
       " '체코 헝가리 오스트리아 이탈리아 프랑스',\n",
       " '모로코 프랑스 오스트리아',\n",
       " '영국 프랑스',\n",
       " '스페인체코',\n",
       " '독일프랑스',\n",
       " '프랑스 스페인',\n",
       " '스페인 프랑스',\n",
       " '이탈리아 독일 홍콩',\n",
       " '중국 청도',\n",
       " '우한교민',\n",
       " '중국 우한시',\n",
       " '싱가포르',\n",
       " '우한 교민']"
      ]
     },
     "execution_count": 31,
     "metadata": {},
     "output_type": "execute_result"
    }
   ],
   "source": [
    "country[0] = 'NaN'\n",
    "country"
   ]
  },
  {
   "cell_type": "code",
   "execution_count": 33,
   "metadata": {},
   "outputs": [
    {
     "data": {
      "text/plain": [
       "['21263',\n",
       " 'NaN',\n",
       " 'UAE',\n",
       " '나이지리아',\n",
       " '네팔',\n",
       " '독일',\n",
       " '독일프랑스',\n",
       " '러시아',\n",
       " '말레이시아',\n",
       " '멕시코',\n",
       " '멕시코 미국',\n",
       " '모로코 터키',\n",
       " '모로코 프랑스 오스트리아',\n",
       " '몰타',\n",
       " '미국',\n",
       " '미국 뉴욕',\n",
       " '미국 멕시코',\n",
       " '미국 브라질',\n",
       " '미국 캐나다',\n",
       " '미국 캐나다 멕시코',\n",
       " '방글라데시',\n",
       " '베트남',\n",
       " '브라질',\n",
       " '브라질 아르헨티아 칠레 볼리비아',\n",
       " '사우디아라비아',\n",
       " '스페인',\n",
       " '스페인 카타르',\n",
       " '스페인 프랑스',\n",
       " '스페인체코',\n",
       " '싱가포르',\n",
       " '아랍에미리트',\n",
       " '아르헨티나 볼리비아 브라질',\n",
       " '아일랜드',\n",
       " '에콰도르',\n",
       " '에티오피아',\n",
       " '영국',\n",
       " '영국 프랑스',\n",
       " '오스트리아',\n",
       " '요르단',\n",
       " '우간다',\n",
       " '우즈베키스탄',\n",
       " '우크라이나',\n",
       " '우한 교민',\n",
       " '우한교민',\n",
       " '이라크',\n",
       " '이란',\n",
       " '이집트',\n",
       " '이탈리아',\n",
       " '이탈리아 독일 홍콩',\n",
       " '이탈리아 프랑스',\n",
       " '인도',\n",
       " '인도네시아',\n",
       " '일본',\n",
       " '중국',\n",
       " '중국 우한시',\n",
       " '중국 청도',\n",
       " '체코',\n",
       " '체코 헝가리 오스트리아 이탈리아 프랑스',\n",
       " '카자흐스탄',\n",
       " '카타르',\n",
       " '캐나다',\n",
       " '케냐',\n",
       " '콩코 프랑스',\n",
       " '쿠웨이트',\n",
       " '키르기스스탄',\n",
       " '키르기즈스탄',\n",
       " '태국',\n",
       " '터키',\n",
       " '파라과이',\n",
       " '파키스탄',\n",
       " '팔라우',\n",
       " '페루',\n",
       " '페루 미국',\n",
       " '포르투칼',\n",
       " '폴란드',\n",
       " '프랑스',\n",
       " '프랑스 독일',\n",
       " '프랑스 스페인',\n",
       " '프랑스 스페인 독일 이탈리아 네덜란드',\n",
       " '필리핀',\n",
       " '필리핀 마닐라',\n",
       " '호주 인도네시아',\n",
       " '홍콩']"
      ]
     },
     "execution_count": 33,
     "metadata": {},
     "output_type": "execute_result"
    }
   ],
   "source": [
    "country.sort()\n",
    "country"
   ]
  },
  {
   "cell_type": "code",
   "execution_count": null,
   "metadata": {},
   "outputs": [],
   "source": []
  },
  {
   "cell_type": "code",
   "execution_count": null,
   "metadata": {},
   "outputs": [],
   "source": []
  },
  {
   "cell_type": "code",
   "execution_count": null,
   "metadata": {},
   "outputs": [],
   "source": []
  },
  {
   "cell_type": "code",
   "execution_count": null,
   "metadata": {},
   "outputs": [],
   "source": []
  },
  {
   "cell_type": "code",
   "execution_count": null,
   "metadata": {},
   "outputs": [],
   "source": []
  }
 ],
 "metadata": {
  "kernelspec": {
   "display_name": "Python 3",
   "language": "python",
   "name": "python3"
  },
  "language_info": {
   "codemirror_mode": {
    "name": "ipython",
    "version": 3
   },
   "file_extension": ".py",
   "mimetype": "text/x-python",
   "name": "python",
   "nbconvert_exporter": "python",
   "pygments_lexer": "ipython3",
   "version": "3.6.9"
  }
 },
 "nbformat": 4,
 "nbformat_minor": 4
}
