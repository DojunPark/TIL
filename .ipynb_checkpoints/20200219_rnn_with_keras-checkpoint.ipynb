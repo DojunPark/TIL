{
 "cells": [
  {
   "cell_type": "markdown",
   "metadata": {},
   "source": [
    "# RNN"
   ]
  },
  {
   "cell_type": "markdown",
   "metadata": {},
   "source": [
    "# 1. import modules"
   ]
  },
  {
   "cell_type": "code",
   "execution_count": 2,
   "metadata": {},
   "outputs": [],
   "source": [
    "from tensorflow.keras.preprocessing.text import Tokenizer\n",
    "from tensorflow.keras.preprocessing.sequence import pad_sequences\n",
    "from tensorflow.keras.utils import to_categorical\n",
    "import numpy as np"
   ]
  },
  {
   "cell_type": "markdown",
   "metadata": {},
   "source": [
    "# 2. define input sentence"
   ]
  },
  {
   "cell_type": "code",
   "execution_count": 5,
   "metadata": {},
   "outputs": [
    {
     "name": "stdout",
     "output_type": "stream",
     "text": [
      "경마장에 있는 말이 뛰고 있다\n",
      "그의 말이 법이다\n",
      "가는 말이 고와야 오는 말이 곱다\n",
      "\n"
     ]
    }
   ],
   "source": [
    "text=\"\"\"경마장에 있는 말이 뛰고 있다\\n그의 말이 법이다\\n가는 말이 고와야 오는 말이 곱다\\n\"\"\"\n",
    "print(text)"
   ]
  },
  {
   "cell_type": "markdown",
   "metadata": {},
   "source": [
    "# 3. word tokenizing"
   ]
  },
  {
   "cell_type": "code",
   "execution_count": 10,
   "metadata": {},
   "outputs": [
    {
     "data": {
      "text/plain": [
       "12"
      ]
     },
     "execution_count": 10,
     "metadata": {},
     "output_type": "execute_result"
    }
   ],
   "source": [
    "# declare instance\n",
    "t = Tokenizer()\n",
    "# word tokenizing\n",
    "t.fit_on_texts([text])\n",
    "# define vocab size\n",
    "vocab_size = len(t.word_index) + 1\n",
    "vocab_size"
   ]
  },
  {
   "cell_type": "code",
   "execution_count": 11,
   "metadata": {},
   "outputs": [
    {
     "data": {
      "text/plain": [
       "OrderedDict([('경마장에', 1),\n",
       "             ('있는', 1),\n",
       "             ('말이', 4),\n",
       "             ('뛰고', 1),\n",
       "             ('있다', 1),\n",
       "             ('그의', 1),\n",
       "             ('법이다', 1),\n",
       "             ('가는', 1),\n",
       "             ('고와야', 1),\n",
       "             ('오는', 1),\n",
       "             ('곱다', 1)])"
      ]
     },
     "execution_count": 11,
     "metadata": {},
     "output_type": "execute_result"
    }
   ],
   "source": [
    "t.word_counts"
   ]
  },
  {
   "cell_type": "code",
   "execution_count": 12,
   "metadata": {},
   "outputs": [
    {
     "data": {
      "text/plain": [
       "{'말이': 1,\n",
       " '경마장에': 2,\n",
       " '있는': 3,\n",
       " '뛰고': 4,\n",
       " '있다': 5,\n",
       " '그의': 6,\n",
       " '법이다': 7,\n",
       " '가는': 8,\n",
       " '고와야': 9,\n",
       " '오는': 10,\n",
       " '곱다': 11}"
      ]
     },
     "execution_count": 12,
     "metadata": {},
     "output_type": "execute_result"
    }
   ],
   "source": [
    "t.word_index"
   ]
  },
  {
   "cell_type": "code",
   "execution_count": 14,
   "metadata": {},
   "outputs": [
    {
     "data": {
      "text/plain": [
       "[[2, 4, 3, 1, 5]]"
      ]
     },
     "execution_count": 14,
     "metadata": {},
     "output_type": "execute_result"
    }
   ],
   "source": [
    "t.texts_to_sequences(['경마장에 뛰고 있는 말이 있다'])"
   ]
  },
  {
   "cell_type": "code",
   "execution_count": 18,
   "metadata": {},
   "outputs": [
    {
     "data": {
      "text/plain": [
       "[[3]]"
      ]
     },
     "execution_count": 18,
     "metadata": {},
     "output_type": "execute_result"
    }
   ],
   "source": [
    "# vocab에 없는 단어는 출력되지 않음\n",
    "t.texts_to_sequences(['경마장에서 달리고 있는 말도 있는가'])"
   ]
  },
  {
   "cell_type": "markdown",
   "metadata": {},
   "source": [
    "# 4. define training sequences"
   ]
  },
  {
   "cell_type": "code",
   "execution_count": 33,
   "metadata": {},
   "outputs": [
    {
     "name": "stdout",
     "output_type": "stream",
     "text": [
      "1\n",
      "[2, 3]\n",
      "2\n",
      "[2, 3, 1]\n",
      "3\n",
      "[2, 3, 1, 4]\n",
      "4\n",
      "[2, 3, 1, 4, 5]\n",
      "1\n",
      "[6, 1]\n",
      "2\n",
      "[6, 1, 7]\n",
      "1\n",
      "[8, 1]\n",
      "2\n",
      "[8, 1, 9]\n",
      "3\n",
      "[8, 1, 9, 10]\n",
      "4\n",
      "[8, 1, 9, 10, 1]\n",
      "5\n",
      "[8, 1, 9, 10, 1, 11]\n",
      "total number of training samples:  11\n"
     ]
    }
   ],
   "source": [
    "sequences = list()\n",
    "for line in text.split('\\n'):\n",
    "    encoded = t.texts_to_sequences([line])[0]\n",
    "    for i in range(1, len(encoded)):\n",
    "        sequence = encoded[:i+1]\n",
    "        print(i)\n",
    "        print(sequence)\n",
    "        sequences.append(np.array(sequence)) # only if done this way, the sequence padding is possible\n",
    "        \n",
    "print('total number of training samples: ', len(sequences))"
   ]
  },
  {
   "cell_type": "code",
   "execution_count": 34,
   "metadata": {},
   "outputs": [
    {
     "data": {
      "text/plain": [
       "[array([2, 3]),\n",
       " array([2, 3, 1]),\n",
       " array([2, 3, 1, 4]),\n",
       " array([2, 3, 1, 4, 5]),\n",
       " array([6, 1]),\n",
       " array([6, 1, 7]),\n",
       " array([8, 1]),\n",
       " array([8, 1, 9]),\n",
       " array([ 8,  1,  9, 10]),\n",
       " array([ 8,  1,  9, 10,  1]),\n",
       " array([ 8,  1,  9, 10,  1, 11])]"
      ]
     },
     "execution_count": 34,
     "metadata": {},
     "output_type": "execute_result"
    }
   ],
   "source": [
    "sequences"
   ]
  },
  {
   "cell_type": "markdown",
   "metadata": {},
   "source": [
    "# 5. define max length and pad sequences"
   ]
  },
  {
   "cell_type": "code",
   "execution_count": 31,
   "metadata": {},
   "outputs": [
    {
     "name": "stdout",
     "output_type": "stream",
     "text": [
      "max length:  6\n"
     ]
    },
    {
     "data": {
      "text/plain": [
       "array([[ 2,  3,  0,  0,  0,  0],\n",
       "       [ 2,  3,  1,  0,  0,  0],\n",
       "       [ 2,  3,  1,  4,  0,  0],\n",
       "       [ 2,  3,  1,  4,  5,  0],\n",
       "       [ 6,  1,  0,  0,  0,  0],\n",
       "       [ 6,  1,  7,  0,  0,  0],\n",
       "       [ 8,  1,  0,  0,  0,  0],\n",
       "       [ 8,  1,  9,  0,  0,  0],\n",
       "       [ 8,  1,  9, 10,  0,  0],\n",
       "       [ 8,  1,  9, 10,  1,  0],\n",
       "       [ 8,  1,  9, 10,  1, 11]])"
      ]
     },
     "execution_count": 31,
     "metadata": {},
     "output_type": "execute_result"
    }
   ],
   "source": [
    "# if pad sequences with padding='post'\n",
    "max_len = max([len(seq) for seq in sequences])\n",
    "print('max length: ', max_len)\n",
    "\n",
    "sequences = pad_sequences(sequences, maxlen=max_len, padding='post')\n",
    "sequences"
   ]
  },
  {
   "cell_type": "code",
   "execution_count": 35,
   "metadata": {},
   "outputs": [
    {
     "name": "stdout",
     "output_type": "stream",
     "text": [
      "max length:  6\n"
     ]
    },
    {
     "data": {
      "text/plain": [
       "array([[ 0,  0,  0,  0,  2,  3],\n",
       "       [ 0,  0,  0,  2,  3,  1],\n",
       "       [ 0,  0,  2,  3,  1,  4],\n",
       "       [ 0,  2,  3,  1,  4,  5],\n",
       "       [ 0,  0,  0,  0,  6,  1],\n",
       "       [ 0,  0,  0,  6,  1,  7],\n",
       "       [ 0,  0,  0,  0,  8,  1],\n",
       "       [ 0,  0,  0,  8,  1,  9],\n",
       "       [ 0,  0,  8,  1,  9, 10],\n",
       "       [ 0,  8,  1,  9, 10,  1],\n",
       "       [ 8,  1,  9, 10,  1, 11]])"
      ]
     },
     "execution_count": 35,
     "metadata": {},
     "output_type": "execute_result"
    }
   ],
   "source": [
    "# if pad sequences with padding='pre'\n",
    "max_len = max([len(seq) for seq in sequences])\n",
    "print('max length: ', max_len)\n",
    "\n",
    "sequences = pad_sequences(sequences, maxlen=max_len, padding='pre')\n",
    "sequences"
   ]
  },
  {
   "cell_type": "markdown",
   "metadata": {},
   "source": [
    "# 6. split x and y_train set"
   ]
  },
  {
   "cell_type": "code",
   "execution_count": 45,
   "metadata": {},
   "outputs": [
    {
     "name": "stdout",
     "output_type": "stream",
     "text": [
      "[[ 0  0  0  0  2]\n",
      " [ 0  0  0  2  3]\n",
      " [ 0  0  2  3  1]\n",
      " [ 0  2  3  1  4]\n",
      " [ 0  0  0  0  6]\n",
      " [ 0  0  0  6  1]\n",
      " [ 0  0  0  0  8]\n",
      " [ 0  0  0  8  1]\n",
      " [ 0  0  8  1  9]\n",
      " [ 0  8  1  9 10]\n",
      " [ 8  1  9 10  1]]\n",
      "[ 3  1  4  5  1  7  1  9 10  1 11]\n"
     ]
    }
   ],
   "source": [
    "X = sequences[:, :-1]\n",
    "y = sequences[:, -1]\n",
    "\n",
    "print(X)\n",
    "print(y)"
   ]
  },
  {
   "cell_type": "code",
   "execution_count": 46,
   "metadata": {},
   "outputs": [
    {
     "name": "stdout",
     "output_type": "stream",
     "text": [
      "[[0. 0. 0. 1. 0. 0. 0. 0. 0. 0. 0. 0.]\n",
      " [0. 1. 0. 0. 0. 0. 0. 0. 0. 0. 0. 0.]\n",
      " [0. 0. 0. 0. 1. 0. 0. 0. 0. 0. 0. 0.]\n",
      " [0. 0. 0. 0. 0. 1. 0. 0. 0. 0. 0. 0.]\n",
      " [0. 1. 0. 0. 0. 0. 0. 0. 0. 0. 0. 0.]\n",
      " [0. 0. 0. 0. 0. 0. 0. 1. 0. 0. 0. 0.]\n",
      " [0. 1. 0. 0. 0. 0. 0. 0. 0. 0. 0. 0.]\n",
      " [0. 0. 0. 0. 0. 0. 0. 0. 0. 1. 0. 0.]\n",
      " [0. 0. 0. 0. 0. 0. 0. 0. 0. 0. 1. 0.]\n",
      " [0. 1. 0. 0. 0. 0. 0. 0. 0. 0. 0. 0.]\n",
      " [0. 0. 0. 0. 0. 0. 0. 0. 0. 0. 0. 1.]]\n",
      "12\n"
     ]
    }
   ],
   "source": [
    "# y labels to onehot encoding\n",
    "y = to_categorical(y, num_classes=vocab_size)\n",
    "print(y)\n",
    "print(vocab_size)"
   ]
  },
  {
   "cell_type": "markdown",
   "metadata": {},
   "source": [
    "# 7. Modeling"
   ]
  },
  {
   "cell_type": "code",
   "execution_count": 49,
   "metadata": {},
   "outputs": [],
   "source": [
    "from tensorflow.keras.models import Sequential\n",
    "from tensorflow.keras.layers import Embedding, Dense, SimpleRNN\n",
    "\n",
    "model = Sequential()\n",
    "model.add(Embedding(vocab_size, 2, input_length=max_len-1)) # y 라벨을 분리하였기에 -1\n",
    "model.add(SimpleRNN(3))\n",
    "model.add(Dense(11 + 1, activation='softmax'))\n",
    "model.compile(loss='categorical_crossentropy', optimizer='adam', metrics=['accuracy'])"
   ]
  },
  {
   "cell_type": "code",
   "execution_count": 60,
   "metadata": {},
   "outputs": [
    {
     "data": {
      "text/plain": [
       "array([[0.08398467, 0.0832266 , 0.08282747, 0.08498497, 0.08260415,\n",
       "        0.08329845, 0.08230419, 0.08137365, 0.08470046, 0.08386508,\n",
       "        0.0835427 , 0.08328769]], dtype=float32)"
      ]
     },
     "execution_count": 60,
     "metadata": {},
     "output_type": "execute_result"
    }
   ],
   "source": [
    "model.predict(np.array([[0, 0, 0, 2, 1]]))"
   ]
  },
  {
   "cell_type": "code",
   "execution_count": 61,
   "metadata": {},
   "outputs": [
    {
     "data": {
      "text/plain": [
       "1.0000001"
      ]
     },
     "execution_count": 61,
     "metadata": {},
     "output_type": "execute_result"
    }
   ],
   "source": [
    "model.predict(np.array([[0, 0, 0, 2, 1]])).sum()"
   ]
  },
  {
   "cell_type": "code",
   "execution_count": 101,
   "metadata": {},
   "outputs": [
    {
     "name": "stdout",
     "output_type": "stream",
     "text": [
      "Train on 11 samples\n",
      "Epoch 1/200\n",
      "11/11 - 0s - loss: 1.0512 - accuracy: 0.7273\n",
      "Epoch 2/200\n",
      "11/11 - 0s - loss: 1.0498 - accuracy: 0.7273\n",
      "Epoch 3/200\n",
      "11/11 - 0s - loss: 1.0484 - accuracy: 0.7273\n",
      "Epoch 4/200\n",
      "11/11 - 0s - loss: 1.0471 - accuracy: 0.7273\n",
      "Epoch 5/200\n",
      "11/11 - 0s - loss: 1.0457 - accuracy: 0.7273\n",
      "Epoch 6/200\n",
      "11/11 - 0s - loss: 1.0443 - accuracy: 0.7273\n",
      "Epoch 7/200\n",
      "11/11 - 0s - loss: 1.0430 - accuracy: 0.7273\n",
      "Epoch 8/200\n",
      "11/11 - 0s - loss: 1.0416 - accuracy: 0.7273\n",
      "Epoch 9/200\n",
      "11/11 - 0s - loss: 1.0403 - accuracy: 0.7273\n",
      "Epoch 10/200\n",
      "11/11 - 0s - loss: 1.0389 - accuracy: 0.7273\n",
      "Epoch 11/200\n",
      "11/11 - 0s - loss: 1.0376 - accuracy: 0.7273\n",
      "Epoch 12/200\n",
      "11/11 - 0s - loss: 1.0362 - accuracy: 0.7273\n",
      "Epoch 13/200\n",
      "11/11 - 0s - loss: 1.0349 - accuracy: 0.7273\n",
      "Epoch 14/200\n",
      "11/11 - 0s - loss: 1.0336 - accuracy: 0.7273\n",
      "Epoch 15/200\n",
      "11/11 - 0s - loss: 1.0322 - accuracy: 0.7273\n",
      "Epoch 16/200\n",
      "11/11 - 0s - loss: 1.0309 - accuracy: 0.7273\n",
      "Epoch 17/200\n",
      "11/11 - 0s - loss: 1.0296 - accuracy: 0.7273\n",
      "Epoch 18/200\n",
      "11/11 - 0s - loss: 1.0283 - accuracy: 0.7273\n",
      "Epoch 19/200\n",
      "11/11 - 0s - loss: 1.0270 - accuracy: 0.7273\n",
      "Epoch 20/200\n",
      "11/11 - 0s - loss: 1.0256 - accuracy: 0.7273\n",
      "Epoch 21/200\n",
      "11/11 - 0s - loss: 1.0243 - accuracy: 0.7273\n",
      "Epoch 22/200\n",
      "11/11 - 0s - loss: 1.0230 - accuracy: 0.7273\n",
      "Epoch 23/200\n",
      "11/11 - 0s - loss: 1.0217 - accuracy: 0.7273\n",
      "Epoch 24/200\n",
      "11/11 - 0s - loss: 1.0204 - accuracy: 0.7273\n",
      "Epoch 25/200\n",
      "11/11 - 0s - loss: 1.0191 - accuracy: 0.7273\n",
      "Epoch 26/200\n",
      "11/11 - 0s - loss: 1.0178 - accuracy: 0.7273\n",
      "Epoch 27/200\n",
      "11/11 - 0s - loss: 1.0166 - accuracy: 0.7273\n",
      "Epoch 28/200\n",
      "11/11 - 0s - loss: 1.0153 - accuracy: 0.7273\n",
      "Epoch 29/200\n",
      "11/11 - 0s - loss: 1.0140 - accuracy: 0.7273\n",
      "Epoch 30/200\n",
      "11/11 - 0s - loss: 1.0127 - accuracy: 0.7273\n",
      "Epoch 31/200\n",
      "11/11 - 0s - loss: 1.0114 - accuracy: 0.7273\n",
      "Epoch 32/200\n",
      "11/11 - 0s - loss: 1.0102 - accuracy: 0.7273\n",
      "Epoch 33/200\n",
      "11/11 - 0s - loss: 1.0089 - accuracy: 0.7273\n",
      "Epoch 34/200\n",
      "11/11 - 0s - loss: 1.0076 - accuracy: 0.7273\n",
      "Epoch 35/200\n",
      "11/11 - 0s - loss: 1.0064 - accuracy: 0.7273\n",
      "Epoch 36/200\n",
      "11/11 - 0s - loss: 1.0051 - accuracy: 0.7273\n",
      "Epoch 37/200\n",
      "11/11 - 0s - loss: 1.0039 - accuracy: 0.7273\n",
      "Epoch 38/200\n",
      "11/11 - 0s - loss: 1.0026 - accuracy: 0.7273\n",
      "Epoch 39/200\n",
      "11/11 - 0s - loss: 1.0014 - accuracy: 0.7273\n",
      "Epoch 40/200\n",
      "11/11 - 0s - loss: 1.0001 - accuracy: 0.7273\n",
      "Epoch 41/200\n",
      "11/11 - 0s - loss: 0.9989 - accuracy: 0.7273\n",
      "Epoch 42/200\n",
      "11/11 - 0s - loss: 0.9977 - accuracy: 0.7273\n",
      "Epoch 43/200\n",
      "11/11 - 0s - loss: 0.9964 - accuracy: 0.7273\n",
      "Epoch 44/200\n",
      "11/11 - 0s - loss: 0.9952 - accuracy: 0.7273\n",
      "Epoch 45/200\n",
      "11/11 - 0s - loss: 0.9940 - accuracy: 0.7273\n",
      "Epoch 46/200\n",
      "11/11 - 0s - loss: 0.9928 - accuracy: 0.7273\n",
      "Epoch 47/200\n",
      "11/11 - 0s - loss: 0.9916 - accuracy: 0.7273\n",
      "Epoch 48/200\n",
      "11/11 - 0s - loss: 0.9904 - accuracy: 0.7273\n",
      "Epoch 49/200\n",
      "11/11 - 0s - loss: 0.9891 - accuracy: 0.7273\n",
      "Epoch 50/200\n",
      "11/11 - 0s - loss: 0.9879 - accuracy: 0.7273\n",
      "Epoch 51/200\n",
      "11/11 - 0s - loss: 0.9867 - accuracy: 0.7273\n",
      "Epoch 52/200\n",
      "11/11 - 0s - loss: 0.9855 - accuracy: 0.7273\n",
      "Epoch 53/200\n",
      "11/11 - 0s - loss: 0.9843 - accuracy: 0.7273\n",
      "Epoch 54/200\n",
      "11/11 - 0s - loss: 0.9831 - accuracy: 0.7273\n",
      "Epoch 55/200\n",
      "11/11 - 0s - loss: 0.9820 - accuracy: 0.7273\n",
      "Epoch 56/200\n",
      "11/11 - 0s - loss: 0.9808 - accuracy: 0.7273\n",
      "Epoch 57/200\n",
      "11/11 - 0s - loss: 0.9796 - accuracy: 0.7273\n",
      "Epoch 58/200\n",
      "11/11 - 0s - loss: 0.9784 - accuracy: 0.7273\n",
      "Epoch 59/200\n",
      "11/11 - 0s - loss: 0.9772 - accuracy: 0.7273\n",
      "Epoch 60/200\n",
      "11/11 - 0s - loss: 0.9761 - accuracy: 0.7273\n",
      "Epoch 61/200\n",
      "11/11 - 0s - loss: 0.9749 - accuracy: 0.7273\n",
      "Epoch 62/200\n",
      "11/11 - 0s - loss: 0.9737 - accuracy: 0.7273\n",
      "Epoch 63/200\n",
      "11/11 - 0s - loss: 0.9726 - accuracy: 0.7273\n",
      "Epoch 64/200\n",
      "11/11 - 0s - loss: 0.9714 - accuracy: 0.7273\n",
      "Epoch 65/200\n",
      "11/11 - 0s - loss: 0.9703 - accuracy: 0.8182\n",
      "Epoch 66/200\n",
      "11/11 - 0s - loss: 0.9691 - accuracy: 0.8182\n",
      "Epoch 67/200\n",
      "11/11 - 0s - loss: 0.9680 - accuracy: 0.8182\n",
      "Epoch 68/200\n",
      "11/11 - 0s - loss: 0.9668 - accuracy: 0.8182\n",
      "Epoch 69/200\n",
      "11/11 - 0s - loss: 0.9657 - accuracy: 0.8182\n",
      "Epoch 70/200\n",
      "11/11 - 0s - loss: 0.9646 - accuracy: 0.8182\n",
      "Epoch 71/200\n",
      "11/11 - 0s - loss: 0.9634 - accuracy: 0.8182\n",
      "Epoch 72/200\n",
      "11/11 - 0s - loss: 0.9623 - accuracy: 0.8182\n",
      "Epoch 73/200\n",
      "11/11 - 0s - loss: 0.9612 - accuracy: 0.8182\n",
      "Epoch 74/200\n",
      "11/11 - 0s - loss: 0.9601 - accuracy: 0.8182\n",
      "Epoch 75/200\n",
      "11/11 - 0s - loss: 0.9589 - accuracy: 0.8182\n",
      "Epoch 76/200\n",
      "11/11 - 0s - loss: 0.9578 - accuracy: 0.8182\n",
      "Epoch 77/200\n",
      "11/11 - 0s - loss: 0.9567 - accuracy: 0.8182\n",
      "Epoch 78/200\n",
      "11/11 - 0s - loss: 0.9556 - accuracy: 0.8182\n",
      "Epoch 79/200\n",
      "11/11 - 0s - loss: 0.9545 - accuracy: 0.8182\n",
      "Epoch 80/200\n",
      "11/11 - 0s - loss: 0.9534 - accuracy: 0.8182\n",
      "Epoch 81/200\n",
      "11/11 - 0s - loss: 0.9523 - accuracy: 0.8182\n",
      "Epoch 82/200\n",
      "11/11 - 0s - loss: 0.9512 - accuracy: 0.8182\n",
      "Epoch 83/200\n",
      "11/11 - 0s - loss: 0.9501 - accuracy: 0.8182\n",
      "Epoch 84/200\n",
      "11/11 - 0s - loss: 0.9490 - accuracy: 0.8182\n",
      "Epoch 85/200\n",
      "11/11 - 0s - loss: 0.9479 - accuracy: 0.8182\n",
      "Epoch 86/200\n",
      "11/11 - 0s - loss: 0.9469 - accuracy: 0.8182\n",
      "Epoch 87/200\n",
      "11/11 - 0s - loss: 0.9458 - accuracy: 0.8182\n",
      "Epoch 88/200\n",
      "11/11 - 0s - loss: 0.9447 - accuracy: 0.8182\n",
      "Epoch 89/200\n",
      "11/11 - 0s - loss: 0.9436 - accuracy: 0.8182\n",
      "Epoch 90/200\n",
      "11/11 - 0s - loss: 0.9426 - accuracy: 0.8182\n",
      "Epoch 91/200\n",
      "11/11 - 0s - loss: 0.9415 - accuracy: 0.8182\n",
      "Epoch 92/200\n",
      "11/11 - 0s - loss: 0.9405 - accuracy: 0.8182\n",
      "Epoch 93/200\n",
      "11/11 - 0s - loss: 0.9394 - accuracy: 0.8182\n",
      "Epoch 94/200\n",
      "11/11 - 0s - loss: 0.9383 - accuracy: 0.8182\n",
      "Epoch 95/200\n",
      "11/11 - 0s - loss: 0.9373 - accuracy: 0.8182\n",
      "Epoch 96/200\n",
      "11/11 - 0s - loss: 0.9362 - accuracy: 0.8182\n",
      "Epoch 97/200\n",
      "11/11 - 0s - loss: 0.9352 - accuracy: 0.8182\n",
      "Epoch 98/200\n",
      "11/11 - 0s - loss: 0.9342 - accuracy: 0.8182\n",
      "Epoch 99/200\n",
      "11/11 - 0s - loss: 0.9331 - accuracy: 0.8182\n",
      "Epoch 100/200\n",
      "11/11 - 0s - loss: 0.9321 - accuracy: 0.8182\n",
      "Epoch 101/200\n",
      "11/11 - 0s - loss: 0.9311 - accuracy: 0.8182\n",
      "Epoch 102/200\n",
      "11/11 - 0s - loss: 0.9300 - accuracy: 0.8182\n",
      "Epoch 103/200\n",
      "11/11 - 0s - loss: 0.9290 - accuracy: 0.8182\n",
      "Epoch 104/200\n",
      "11/11 - 0s - loss: 0.9280 - accuracy: 0.8182\n",
      "Epoch 105/200\n",
      "11/11 - 0s - loss: 0.9270 - accuracy: 0.8182\n",
      "Epoch 106/200\n",
      "11/11 - 0s - loss: 0.9260 - accuracy: 0.8182\n",
      "Epoch 107/200\n",
      "11/11 - 0s - loss: 0.9249 - accuracy: 0.8182\n",
      "Epoch 108/200\n",
      "11/11 - 0s - loss: 0.9239 - accuracy: 0.8182\n",
      "Epoch 109/200\n",
      "11/11 - 0s - loss: 0.9229 - accuracy: 0.8182\n",
      "Epoch 110/200\n",
      "11/11 - 0s - loss: 0.9219 - accuracy: 0.8182\n",
      "Epoch 111/200\n",
      "11/11 - 0s - loss: 0.9209 - accuracy: 0.8182\n",
      "Epoch 112/200\n",
      "11/11 - 0s - loss: 0.9199 - accuracy: 0.8182\n",
      "Epoch 113/200\n",
      "11/11 - 0s - loss: 0.9190 - accuracy: 0.8182\n",
      "Epoch 114/200\n",
      "11/11 - 0s - loss: 0.9180 - accuracy: 0.8182\n",
      "Epoch 115/200\n",
      "11/11 - 0s - loss: 0.9170 - accuracy: 0.8182\n",
      "Epoch 116/200\n",
      "11/11 - 0s - loss: 0.9160 - accuracy: 0.8182\n",
      "Epoch 117/200\n",
      "11/11 - 0s - loss: 0.9150 - accuracy: 0.8182\n",
      "Epoch 118/200\n",
      "11/11 - 0s - loss: 0.9140 - accuracy: 0.8182\n",
      "Epoch 119/200\n",
      "11/11 - 0s - loss: 0.9131 - accuracy: 0.8182\n",
      "Epoch 120/200\n",
      "11/11 - 0s - loss: 0.9121 - accuracy: 0.8182\n",
      "Epoch 121/200\n",
      "11/11 - 0s - loss: 0.9111 - accuracy: 0.8182\n",
      "Epoch 122/200\n",
      "11/11 - 0s - loss: 0.9102 - accuracy: 0.8182\n",
      "Epoch 123/200\n",
      "11/11 - 0s - loss: 0.9092 - accuracy: 0.8182\n",
      "Epoch 124/200\n",
      "11/11 - 0s - loss: 0.9083 - accuracy: 0.8182\n",
      "Epoch 125/200\n",
      "11/11 - 0s - loss: 0.9073 - accuracy: 0.8182\n",
      "Epoch 126/200\n",
      "11/11 - 0s - loss: 0.9064 - accuracy: 0.8182\n",
      "Epoch 127/200\n",
      "11/11 - 0s - loss: 0.9054 - accuracy: 0.8182\n",
      "Epoch 128/200\n",
      "11/11 - 0s - loss: 0.9045 - accuracy: 0.8182\n",
      "Epoch 129/200\n",
      "11/11 - 0s - loss: 0.9035 - accuracy: 0.8182\n",
      "Epoch 130/200\n",
      "11/11 - 0s - loss: 0.9026 - accuracy: 0.8182\n",
      "Epoch 131/200\n",
      "11/11 - 0s - loss: 0.9017 - accuracy: 0.8182\n",
      "Epoch 132/200\n",
      "11/11 - 0s - loss: 0.9007 - accuracy: 0.8182\n",
      "Epoch 133/200\n",
      "11/11 - 0s - loss: 0.8998 - accuracy: 0.8182\n",
      "Epoch 134/200\n",
      "11/11 - 0s - loss: 0.8989 - accuracy: 0.8182\n",
      "Epoch 135/200\n",
      "11/11 - 0s - loss: 0.8979 - accuracy: 0.8182\n",
      "Epoch 136/200\n",
      "11/11 - 0s - loss: 0.8970 - accuracy: 0.8182\n",
      "Epoch 137/200\n",
      "11/11 - 0s - loss: 0.8961 - accuracy: 0.8182\n",
      "Epoch 138/200\n",
      "11/11 - 0s - loss: 0.8952 - accuracy: 0.8182\n",
      "Epoch 139/200\n",
      "11/11 - 0s - loss: 0.8943 - accuracy: 0.8182\n",
      "Epoch 140/200\n",
      "11/11 - 0s - loss: 0.8934 - accuracy: 0.8182\n",
      "Epoch 141/200\n",
      "11/11 - 0s - loss: 0.8925 - accuracy: 0.8182\n"
     ]
    },
    {
     "name": "stdout",
     "output_type": "stream",
     "text": [
      "Epoch 142/200\n",
      "11/11 - 0s - loss: 0.8916 - accuracy: 0.8182\n",
      "Epoch 143/200\n",
      "11/11 - 0s - loss: 0.8907 - accuracy: 0.8182\n",
      "Epoch 144/200\n",
      "11/11 - 0s - loss: 0.8898 - accuracy: 0.8182\n",
      "Epoch 145/200\n",
      "11/11 - 0s - loss: 0.8889 - accuracy: 0.8182\n",
      "Epoch 146/200\n",
      "11/11 - 0s - loss: 0.8880 - accuracy: 0.8182\n",
      "Epoch 147/200\n",
      "11/11 - 0s - loss: 0.8871 - accuracy: 0.8182\n",
      "Epoch 148/200\n",
      "11/11 - 0s - loss: 0.8862 - accuracy: 0.8182\n",
      "Epoch 149/200\n",
      "11/11 - 0s - loss: 0.8854 - accuracy: 0.8182\n",
      "Epoch 150/200\n",
      "11/11 - 0s - loss: 0.8845 - accuracy: 0.8182\n",
      "Epoch 151/200\n",
      "11/11 - 0s - loss: 0.8836 - accuracy: 0.8182\n",
      "Epoch 152/200\n",
      "11/11 - 0s - loss: 0.8827 - accuracy: 0.8182\n",
      "Epoch 153/200\n",
      "11/11 - 0s - loss: 0.8819 - accuracy: 0.8182\n",
      "Epoch 154/200\n",
      "11/11 - 0s - loss: 0.8810 - accuracy: 0.8182\n",
      "Epoch 155/200\n",
      "11/11 - 0s - loss: 0.8801 - accuracy: 0.8182\n",
      "Epoch 156/200\n",
      "11/11 - 0s - loss: 0.8793 - accuracy: 0.8182\n",
      "Epoch 157/200\n",
      "11/11 - 0s - loss: 0.8784 - accuracy: 0.8182\n",
      "Epoch 158/200\n",
      "11/11 - 0s - loss: 0.8776 - accuracy: 0.8182\n",
      "Epoch 159/200\n",
      "11/11 - 0s - loss: 0.8767 - accuracy: 0.8182\n",
      "Epoch 160/200\n",
      "11/11 - 0s - loss: 0.8759 - accuracy: 0.8182\n",
      "Epoch 161/200\n",
      "11/11 - 0s - loss: 0.8750 - accuracy: 0.8182\n",
      "Epoch 162/200\n",
      "11/11 - 0s - loss: 0.8742 - accuracy: 0.8182\n",
      "Epoch 163/200\n",
      "11/11 - 0s - loss: 0.8733 - accuracy: 0.8182\n",
      "Epoch 164/200\n",
      "11/11 - 0s - loss: 0.8725 - accuracy: 0.8182\n",
      "Epoch 165/200\n",
      "11/11 - 0s - loss: 0.8717 - accuracy: 0.8182\n",
      "Epoch 166/200\n",
      "11/11 - 0s - loss: 0.8708 - accuracy: 0.8182\n",
      "Epoch 167/200\n",
      "11/11 - 0s - loss: 0.8700 - accuracy: 0.8182\n",
      "Epoch 168/200\n",
      "11/11 - 0s - loss: 0.8692 - accuracy: 0.8182\n",
      "Epoch 169/200\n",
      "11/11 - 0s - loss: 0.8684 - accuracy: 0.8182\n",
      "Epoch 170/200\n",
      "11/11 - 0s - loss: 0.8675 - accuracy: 0.8182\n",
      "Epoch 171/200\n",
      "11/11 - 0s - loss: 0.8667 - accuracy: 0.8182\n",
      "Epoch 172/200\n",
      "11/11 - 0s - loss: 0.8659 - accuracy: 0.8182\n",
      "Epoch 173/200\n",
      "11/11 - 0s - loss: 0.8651 - accuracy: 0.8182\n",
      "Epoch 174/200\n",
      "11/11 - 0s - loss: 0.8643 - accuracy: 0.8182\n",
      "Epoch 175/200\n",
      "11/11 - 0s - loss: 0.8635 - accuracy: 0.8182\n",
      "Epoch 176/200\n",
      "11/11 - 0s - loss: 0.8627 - accuracy: 0.8182\n",
      "Epoch 177/200\n",
      "11/11 - 0s - loss: 0.8619 - accuracy: 0.8182\n",
      "Epoch 178/200\n",
      "11/11 - 0s - loss: 0.8611 - accuracy: 0.8182\n",
      "Epoch 179/200\n",
      "11/11 - 0s - loss: 0.8603 - accuracy: 0.8182\n",
      "Epoch 180/200\n",
      "11/11 - 0s - loss: 0.8595 - accuracy: 0.8182\n",
      "Epoch 181/200\n",
      "11/11 - 0s - loss: 0.8587 - accuracy: 0.8182\n",
      "Epoch 182/200\n",
      "11/11 - 0s - loss: 0.8579 - accuracy: 0.8182\n",
      "Epoch 183/200\n",
      "11/11 - 0s - loss: 0.8571 - accuracy: 0.8182\n",
      "Epoch 184/200\n",
      "11/11 - 0s - loss: 0.8563 - accuracy: 0.8182\n",
      "Epoch 185/200\n",
      "11/11 - 0s - loss: 0.8556 - accuracy: 0.8182\n",
      "Epoch 186/200\n",
      "11/11 - 0s - loss: 0.8548 - accuracy: 0.8182\n",
      "Epoch 187/200\n",
      "11/11 - 0s - loss: 0.8540 - accuracy: 0.8182\n",
      "Epoch 188/200\n",
      "11/11 - 0s - loss: 0.8532 - accuracy: 0.8182\n",
      "Epoch 189/200\n",
      "11/11 - 0s - loss: 0.8525 - accuracy: 0.8182\n",
      "Epoch 190/200\n",
      "11/11 - 0s - loss: 0.8517 - accuracy: 0.8182\n",
      "Epoch 191/200\n",
      "11/11 - 0s - loss: 0.8509 - accuracy: 0.8182\n",
      "Epoch 192/200\n",
      "11/11 - 0s - loss: 0.8502 - accuracy: 0.8182\n",
      "Epoch 193/200\n",
      "11/11 - 0s - loss: 0.8494 - accuracy: 0.8182\n",
      "Epoch 194/200\n",
      "11/11 - 0s - loss: 0.8487 - accuracy: 0.8182\n",
      "Epoch 195/200\n",
      "11/11 - 0s - loss: 0.8479 - accuracy: 0.8182\n",
      "Epoch 196/200\n",
      "11/11 - 0s - loss: 0.8472 - accuracy: 0.8182\n",
      "Epoch 197/200\n",
      "11/11 - 0s - loss: 0.8464 - accuracy: 0.8182\n",
      "Epoch 198/200\n",
      "11/11 - 0s - loss: 0.8457 - accuracy: 0.8182\n",
      "Epoch 199/200\n",
      "11/11 - 0s - loss: 0.8449 - accuracy: 0.8182\n",
      "Epoch 200/200\n",
      "11/11 - 0s - loss: 0.8442 - accuracy: 0.8182\n"
     ]
    },
    {
     "data": {
      "text/plain": [
       "<tensorflow.python.keras.callbacks.History at 0x2007eca5cf8>"
      ]
     },
     "execution_count": 101,
     "metadata": {},
     "output_type": "execute_result"
    }
   ],
   "source": [
    "model.fit(X, y, epochs=200, verbose=2)"
   ]
  },
  {
   "cell_type": "code",
   "execution_count": 102,
   "metadata": {},
   "outputs": [
    {
     "data": {
      "text/plain": [
       "array([[0, 0, 0, 0, 1]])"
      ]
     },
     "execution_count": 102,
     "metadata": {},
     "output_type": "execute_result"
    }
   ],
   "source": [
    "sample = t.texts_to_sequences(['말이'])\n",
    "sample = pad_sequences(sample, maxlen=6-1)\n",
    "sample"
   ]
  },
  {
   "cell_type": "code",
   "execution_count": 103,
   "metadata": {},
   "outputs": [
    {
     "name": "stdout",
     "output_type": "stream",
     "text": [
      "[[0.00676516 0.49597344 0.00693486 0.11797989 0.08602361 0.01723134\n",
      "  0.01364004 0.05981395 0.00651001 0.09689014 0.07537879 0.01685869]]\n",
      "0.99999994\n"
     ]
    }
   ],
   "source": [
    "print(model.predict(sample))\n",
    "print(model.predict(sample).sum())"
   ]
  },
  {
   "cell_type": "code",
   "execution_count": 104,
   "metadata": {},
   "outputs": [
    {
     "name": "stdout",
     "output_type": "stream",
     "text": [
      "1\n",
      "predicted word:  ['말이']\n"
     ]
    }
   ],
   "source": [
    "pred_id = np.argmax(model.predict(sample))\n",
    "print(pred_id)\n",
    "print('predicted word: ', t.sequences_to_texts([[pred_id]]))"
   ]
  },
  {
   "cell_type": "code",
   "execution_count": 105,
   "metadata": {},
   "outputs": [
    {
     "name": "stdout",
     "output_type": "stream",
     "text": [
      "['말이']\n",
      "['경마장에']\n",
      "['있는']\n",
      "['뛰고']\n",
      "['있다']\n",
      "['그의']\n",
      "['법이다']\n",
      "['가는']\n",
      "['고와야']\n",
      "['오는']\n",
      "['곱다']\n"
     ]
    }
   ],
   "source": [
    "for i in range(1, 12):\n",
    "    print(t.sequences_to_texts([[i]]))"
   ]
  },
  {
   "cell_type": "markdown",
   "metadata": {},
   "source": [
    "# 8. test with different input words"
   ]
  },
  {
   "cell_type": "code",
   "execution_count": 106,
   "metadata": {},
   "outputs": [
    {
     "name": "stdout",
     "output_type": "stream",
     "text": [
      "sample:  [[2]]\n",
      "predicted word:  ['말이']\n"
     ]
    }
   ],
   "source": [
    "sample = t.texts_to_sequences(['경마장에'])\n",
    "print('sample: ', sample)\n",
    "sample = pad_sequences(sample, maxlen=6-1)\n",
    "pred_id = np.argmax(model.predict(sample))\n",
    "print('predicted word: ', t.sequences_to_texts([[pred_id]]))"
   ]
  },
  {
   "cell_type": "code",
   "execution_count": 107,
   "metadata": {},
   "outputs": [
    {
     "name": "stdout",
     "output_type": "stream",
     "text": [
      "sample:  [[]]\n",
      "predicted word:  ['말이']\n"
     ]
    }
   ],
   "source": [
    "# unknown token\n",
    "sample = t.texts_to_sequences(['경륜장에는'])\n",
    "print('sample: ', sample)\n",
    "sample = pad_sequences(sample, maxlen=6-1)\n",
    "pred_id = np.argmax(model.predict(sample))\n",
    "print('predicted word: ', t.sequences_to_texts([[pred_id]]))"
   ]
  },
  {
   "cell_type": "code",
   "execution_count": 108,
   "metadata": {},
   "outputs": [
    {
     "name": "stdout",
     "output_type": "stream",
     "text": [
      "sample:  [[0 0 8 1 9]]\n",
      "predicted word:  ['오는']\n"
     ]
    }
   ],
   "source": [
    "sample = t.texts_to_sequences(['가는 말이 고와야'])\n",
    "sample = pad_sequences(sample, maxlen=6-1)\n",
    "print('sample: ', sample)\n",
    "pred_id = np.argmax(model.predict(sample))\n",
    "print('predicted word: ', t.sequences_to_texts([[pred_id]]))"
   ]
  },
  {
   "cell_type": "code",
   "execution_count": 109,
   "metadata": {},
   "outputs": [
    {
     "name": "stdout",
     "output_type": "stream",
     "text": [
      "sample:  [[0 2 3 1 4]]\n",
      "predicted word:  ['있다']\n"
     ]
    }
   ],
   "source": [
    "sample = t.texts_to_sequences(['경마장에 있는 말이 뛰고'])\n",
    "sample = pad_sequences(sample, maxlen=6-1)\n",
    "print('sample: ', sample)\n",
    "pred_id = np.argmax(model.predict(sample))\n",
    "print('predicted word: ', t.sequences_to_texts([[pred_id]]))"
   ]
  }
 ],
 "metadata": {
  "kernelspec": {
   "display_name": "Python 3",
   "language": "python",
   "name": "python3"
  },
  "language_info": {
   "codemirror_mode": {
    "name": "ipython",
    "version": 3
   },
   "file_extension": ".py",
   "mimetype": "text/x-python",
   "name": "python",
   "nbconvert_exporter": "python",
   "pygments_lexer": "ipython3",
   "version": "3.6.9"
  }
 },
 "nbformat": 4,
 "nbformat_minor": 2
}
