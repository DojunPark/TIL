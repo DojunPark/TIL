{
 "cells": [
  {
   "cell_type": "markdown",
   "metadata": {},
   "source": [
    "# RegEx"
   ]
  },
  {
   "cell_type": "code",
   "execution_count": 1,
   "metadata": {},
   "outputs": [],
   "source": [
    "import re"
   ]
  },
  {
   "cell_type": "code",
   "execution_count": 13,
   "metadata": {},
   "outputs": [
    {
     "name": "stdout",
     "output_type": "stream",
     "text": [
      "['Mr.', 'Nopper', 'moved', 'from', 'Backnang', 'to½ㅨ', 'Stuttgart']\n",
      "['Mr', 'Nopper', 'moved', 'from', 'Backnang', 'to', 'Stuttgart']\n"
     ]
    }
   ],
   "source": [
    "text = 'Mr. Nopper moved from \\㉠ ┌Backnang to½ㅨ Stuttgart'\n",
    "\n",
    "print(re.findall(\"[\\w.]+\", text))\n",
    "print(re.findall(\"[A-Za-z0-9]+\", text))"
   ]
  },
  {
   "cell_type": "markdown",
   "metadata": {},
   "source": [
    "# WSL mount \n",
    "cd /mnt"
   ]
  },
  {
   "cell_type": "markdown",
   "metadata": {},
   "source": [
    "# Read CSV"
   ]
  },
  {
   "cell_type": "code",
   "execution_count": 1,
   "metadata": {},
   "outputs": [
    {
     "name": "stderr",
     "output_type": "stream",
     "text": [
      "b'Skipping line 104022: expected 4 fields, saw 5\\n'\n",
      "b'Skipping line 156329: expected 4 fields, saw 5\\nSkipping line 194536: expected 4 fields, saw 5\\n'\n",
      "b'Skipping line 463811: expected 4 fields, saw 5\\n'\n",
      "b'Skipping line 823764: expected 4 fields, saw 5\\n'\n",
      "b'Skipping line 1146160: expected 4 fields, saw 5\\n'\n",
      "b'Skipping line 1189777: expected 4 fields, saw 5\\nSkipping line 1282398: expected 4 fields, saw 5\\n'\n",
      "b'Skipping line 1427502: expected 4 fields, saw 5\\n'\n",
      "b'Skipping line 1735119: expected 4 fields, saw 5\\nSkipping line 1771527: expected 4 fields, saw 5\\n'\n",
      "b'Skipping line 1861495: expected 4 fields, saw 5\\nSkipping line 1921876: expected 4 fields, saw 5\\n'\n",
      "b'Skipping line 1974330: expected 4 fields, saw 5\\nSkipping line 2021020: expected 4 fields, saw 5\\n'\n",
      "b'Skipping line 2147053: expected 4 fields, saw 5\\nSkipping line 2192259: expected 4 fields, saw 5\\n'\n",
      "b'Skipping line 2291534: expected 4 fields, saw 5\\n'\n",
      "b'Skipping line 2657289: expected 4 fields, saw 5\\nSkipping line 2738246: expected 4 fields, saw 5\\n'\n",
      "b'Skipping line 2791181: expected 4 fields, saw 5\\n'\n",
      "b'Skipping line 3575557: expected 4 fields, saw 5\\n'\n",
      "b'Skipping line 4177360: expected 4 fields, saw 5\\n'\n",
      "b'Skipping line 4239209: expected 4 fields, saw 5\\nSkipping line 4281174: expected 4 fields, saw 5\\n'\n",
      "b'Skipping line 4370690: expected 4 fields, saw 5\\n'\n",
      "b'Skipping line 4609961: expected 4 fields, saw 5\\nSkipping line 4621572: expected 4 fields, saw 5\\nSkipping line 4624450: expected 4 fields, saw 5\\nSkipping line 4630311: expected 4 fields, saw 5\\n'\n",
      "b'Skipping line 4935392: expected 4 fields, saw 5\\n'\n",
      "b'Skipping line 5156413: expected 4 fields, saw 5\\n'\n",
      "b'Skipping line 5810609: expected 4 fields, saw 5\\n'\n",
      "b'Skipping line 6169008: expected 4 fields, saw 5\\n'\n",
      "b'Skipping line 6488193: expected 4 fields, saw 5\\n'\n",
      "b'Skipping line 6608594: expected 4 fields, saw 5\\n'\n",
      "b'Skipping line 6740577: expected 4 fields, saw 5\\n'\n",
      "b'Skipping line 6868605: expected 4 fields, saw 5\\n'\n",
      "b'Skipping line 6964228: expected 4 fields, saw 5\\n'\n",
      "b'Skipping line 7104171: expected 4 fields, saw 5\\nSkipping line 7118708: expected 4 fields, saw 5\\n'\n",
      "C:\\Users\\dojun\\anaconda3\\envs\\python38\\lib\\site-packages\\IPython\\core\\interactiveshell.py:3146: DtypeWarning: Columns (0) have mixed types.Specify dtype option on import or set low_memory=False.\n",
      "  has_raised = await self.run_ast_nodes(code_ast.body, cell_name,\n"
     ]
    },
    {
     "data": {
      "text/html": [
       "<div>\n",
       "<style scoped>\n",
       "    .dataframe tbody tr th:only-of-type {\n",
       "        vertical-align: middle;\n",
       "    }\n",
       "\n",
       "    .dataframe tbody tr th {\n",
       "        vertical-align: top;\n",
       "    }\n",
       "\n",
       "    .dataframe thead th {\n",
       "        text-align: right;\n",
       "    }\n",
       "</style>\n",
       "<table border=\"1\" class=\"dataframe\">\n",
       "  <thead>\n",
       "    <tr style=\"text-align: right;\">\n",
       "      <th></th>\n",
       "      <th>0</th>\n",
       "      <th>1</th>\n",
       "      <th>2</th>\n",
       "      <th>3</th>\n",
       "    </tr>\n",
       "  </thead>\n",
       "  <tbody>\n",
       "    <tr>\n",
       "      <th>0</th>\n",
       "      <td>1346969344362782721</td>\n",
       "      <td>@SergMares</td>\n",
       "      <td>Serg</td>\n",
       "      <td>So embarrassed of our country today. What a sh...</td>\n",
       "    </tr>\n",
       "    <tr>\n",
       "      <th>1</th>\n",
       "      <td>1346968863796293635</td>\n",
       "      <td>@ShawnPFitzgera1</td>\n",
       "      <td>Shawn P. Fitzgerald</td>\n",
       "      <td>Until today, I’ve never been more ashamed to b...</td>\n",
       "    </tr>\n",
       "    <tr>\n",
       "      <th>2</th>\n",
       "      <td>1346968836311052289</td>\n",
       "      <td>@knolinfos</td>\n",
       "      <td>Knol Infos 🤖  🚀📚🖥️</td>\n",
       "      <td>#BackToTheCaves #Society actually, WHAT a #Sha...</td>\n",
       "    </tr>\n",
       "    <tr>\n",
       "      <th>3</th>\n",
       "      <td>1346967211064258562</td>\n",
       "      <td>@billiam2482</td>\n",
       "      <td>William Gruenloh</td>\n",
       "      <td>So much for the curfew. Those terrorists are s...</td>\n",
       "    </tr>\n",
       "    <tr>\n",
       "      <th>4</th>\n",
       "      <td>1346967066520113152</td>\n",
       "      <td>@tammybangs</td>\n",
       "      <td>Tammy Bangs, CAMS</td>\n",
       "      <td>So much PTSD for so many from this administrat...</td>\n",
       "    </tr>\n",
       "  </tbody>\n",
       "</table>\n",
       "</div>"
      ],
      "text/plain": [
       "                     0                 1                    2  \\\n",
       "0  1346969344362782721        @SergMares                 Serg   \n",
       "1  1346968863796293635  @ShawnPFitzgera1  Shawn P. Fitzgerald   \n",
       "2  1346968836311052289        @knolinfos   Knol Infos 🤖  🚀📚🖥️   \n",
       "3  1346967211064258562      @billiam2482     William Gruenloh   \n",
       "4  1346967066520113152       @tammybangs    Tammy Bangs, CAMS   \n",
       "\n",
       "                                                   3  \n",
       "0  So embarrassed of our country today. What a sh...  \n",
       "1  Until today, I’ve never been more ashamed to b...  \n",
       "2  #BackToTheCaves #Society actually, WHAT a #Sha...  \n",
       "3  So much for the curfew. Those terrorists are s...  \n",
       "4  So much PTSD for so many from this administrat...  "
      ]
     },
     "execution_count": 1,
     "metadata": {},
     "output_type": "execute_result"
    }
   ],
   "source": [
    "import pandas as pd\n",
    "\n",
    "file = 'c:/files/twitter.csv'\n",
    "\n",
    "df = pd.read_csv(file, header=None, sep='\\t', error_bad_lines=False)\n",
    "df.head()"
   ]
  },
  {
   "cell_type": "code",
   "execution_count": 2,
   "metadata": {},
   "outputs": [
    {
     "data": {
      "text/plain": [
       "(7642367, 4)"
      ]
     },
     "execution_count": 2,
     "metadata": {},
     "output_type": "execute_result"
    }
   ],
   "source": [
    "df.shape"
   ]
  },
  {
   "cell_type": "code",
   "execution_count": 16,
   "metadata": {},
   "outputs": [],
   "source": [
    "df_tmp = df[:2500000]"
   ]
  },
  {
   "cell_type": "code",
   "execution_count": 17,
   "metadata": {},
   "outputs": [
    {
     "name": "stdout",
     "output_type": "stream",
     "text": [
      "153984\n"
     ]
    }
   ],
   "source": [
    "ls_query = []\n",
    "\n",
    "for i, sent in enumerate(df_tmp[3]):\n",
    "    try:\n",
    "        sent = sent.lower()\n",
    "        if ('covid' in sent):\n",
    "            ls_query.append([i, sent])\n",
    "    except:\n",
    "        pass\n",
    "\n",
    "print(len(ls_query))"
   ]
  },
  {
   "cell_type": "code",
   "execution_count": 18,
   "metadata": {},
   "outputs": [
    {
     "name": "stdout",
     "output_type": "stream",
     "text": [
      "#covid19 is continuously helping to segregate good and bad leaders, countries, health systems... today we learn that #french public health org lost 30% of their vaccine stock because they delivered it in hospitals without cooling capabilities. #shame \n",
      "\n",
      "they could be working on repairing a disastrous delivery of covid vaccine to save lives, instead there’s a sh$t show for profit, congress & senate republicans disregarding their oath on the verge of a coo. history will know their names. the liars and traitors. #shame \n",
      "\n",
      "you are actually better and more healthier getting covid19 than being locked away.[newline][newline]#1984 #fear #hysteria \n",
      "\n",
      "why are we still testing an incredible amount of people for #covid19 why don’t we turn all those testing centers into vaccination centers? isn’t sticking a swab up their nose about the same process as sticking a needle in their arm? #testing = #fear \n",
      "\n",
      "why is football allowed to go ahead? shameful. #covidiots #shame #protectthenhs \n",
      "\n",
      "for anyone saying that today’s events are shocking because trump supporters have never done something like this before, obviously hasn’t been paying attention. let me remind you how trump supporters stormed michigan’s capital with guns  during the covid lockdown. #resign #shame \n",
      "\n",
      "découvrir une énormité le matin. vouloir prendre le temps de vérifier le soir. le valider. #check #rage #covid19 \n",
      "\n",
      "people's stupidity and blanket labelling of anyone against the mainstream narrative is sad behaviour. stop fearing death, grow a spine.. you came here to have a temporary experience in your body! [newline][newline]#fear #covid #life \n",
      "\n",
      "so the religious institutions of ni have decided to post their services through my door? i don’t think so...see if they are not taking the right safety precautions ref covid they will be getting my boot up their arse! #ignorance = #fear #idiots \n",
      "\n",
      "stopped half way through. i can’t stand the gov’t blaming us for how bad things are when they spent months not doing anything to limit the spread. #rage #onpoli #covid19 \n",
      "\n"
     ]
    }
   ],
   "source": [
    "for i in range(10):\n",
    "    print(ls_query[i][1], '\\n')"
   ]
  },
  {
   "cell_type": "code",
   "execution_count": 4,
   "metadata": {},
   "outputs": [],
   "source": [
    "ls_query = []\n",
    "\n",
    "for i, sent in enumerate(df_tmp[3]):\n",
    "    try:\n",
    "        sent = sent.lower()\n",
    "        if ('side' in sent) and ('effect' in sent) and ('malaria' in sent) and ('covid' in sent) and ('vaccine' in sent):\n",
    "            ls_query.append([i, sent])\n",
    "    except:\n",
    "        pass"
   ]
  },
  {
   "cell_type": "code",
   "execution_count": 5,
   "metadata": {},
   "outputs": [
    {
     "name": "stdout",
     "output_type": "stream",
     "text": [
      "3\n"
     ]
    },
    {
     "data": {
      "text/plain": [
       "[[470164,\n",
       "  \"just realised, 200,000 deaths won't sound sensational enough beside millions of global covid deaths (age not specified).[newline][newline]most measles deaths are in kids under 5yo.[newline][newline]we've had a very effective vaccine for measles, for decades.[newline][newline]don't get me started on malaria.\"],\n",
       " [2332805,\n",
       "  'wow ok. easily could be my reading material and stress level, but if vivid nightmares are a side-effect of the vaccine then i just had my first.[newline][newline]last time i had a nightmare like that i was on anti-malaria drugs.[newline][newline]still better than getting covid![newline][newline]#hongkongtwittergetsvaxxed'],\n",
       " [2862075,\n",
       "  'my thesis work focused on developing and validating novel macaque models of hiv infection. these models will enable us to evaluate hiv vaccines and cures in a model that is more relevant to human infection than those previously described.  2/6\\n1387022493945376768\\t@saehaas\\tstefanie haas\\ttampered blood donations have a somewhat complicated history in japan: one case was the infection of 1.000-2.000 people with hiv by blood transfusions. while i\\'ve donated numerous times in germany (born in 1994, not at risk of having bse), the rules in japan are much stricter.\\n1387001031385571333\\t@chronmate\\tchronmate org\\t– hiv-positive individuals should be vaccinated as early as possible in the course of hiv infection.[newline][newline]– immunocompromised individuals may have reduced immune response following vaccination.[newline][newline]–vaccination is safe for pregnant and lactating women.\\n1386990748629876740\\t@sciencepunk\\tfrank swain\\tit has failed to control the use of recreational drugs - now cheaper and more available than ever. conversely, it has maximised all the harms associated with drug use, from death and depedency, hiv infection, acquisitive crime, racist policing, criminal gangs, and much more\\n1386986909919064064\\t@wehatepigeons\\twehatebangkokpigeons\\tdid you know that pigeons ranked first in causing aids/hiv infection?\\n1386965118781636614\\t@rheumi_\\tdr chetan narshi\\tcauses of puo vary by age: children (infection), >65y (inflammatory, infection, neoplastic), hiv pts (infection ++) #bsr21\\n1386870012812664835\\t@createanyway\\tlp\\ttoday we saw a patient who was very well dying of an unknown hiv infection due to infidelity from his partner. [newline][newline]love is dead.\\n1387150118206328835\\t@intelli_pharmcy\\t黒田真生(naoki kuroda)\\t正答：3[newline][newline]1: 抗サイトメガロウイルス薬[newline]2: 抗インフルエンザウイルス薬[newline]4: インテグラーゼ阻害薬。抗hiv薬[newline]5: プロテアーゼ阻害薬。抗hiv薬\\n1387142151851712514\\t@louisdebernard\\tlouis de bernard 🏳️\\u200d🌈 (he/him)\\twhen will medical schools understand:[newline]1) hiv =/= aids[newline]2) hiv prep [newline]3) u = u [newline]is a basic understanding too much to ask?\\n1387132504541470720\\t@mary_kuol\\tabiong kuol\\tdo you have a family member or friend suffering from chronic illnesses such as ;[newline]1. diabetes [newline]2. hypertension [newline]3. high blood pressure [newline]4. hepatitis [newline]5. hiv/aids[newline]checkups medical center is the place to be .[newline]book an appointment with our physician 👨\\u200d⚕️ through 0929260008 .\\n1387093383710081024\\t@orcanagi\\tnagi\\t今日は朝から病院( 厂˙ω˙ )厂うぇーい[newline]色々と検査結果も出るし分かることもあるやろうから、、、ラストのhiv検査が陰性だと信じて寝よう！ホンマに経験した中で二度となりたくない病気no.1はサイトメガロウイルス！www皆さんも体にも気を付けて下さいね！( 厂˙ω˙ )厂うぇーい\\n1387092462502653955\\t@guibonini_\\tgui\\tfiquei meia hora ouvindo um colega de trabalho falando que o vírus chinês foi fabricado, que tem hiv no meio do vírus e demonizando tudo quanto é minoria social em um único discurso, dou 1 semana pra cair no berro com esse cara aqui\\n1387090522863456264\\t@karabullcitypa\\tkara mcgee\\ti understand the theory behind the cures act and auto release of patient records but it can cause harm. here is an example - routine prenatal labs & positive hiv test auto released to patient. pt appt 1 week later 1/\\n1387116942255865859\\t@miivako\\tanniethingelse?\\tนี่ทำงานวิจัย infectious disease (hiv, sars, std, covid19, etc) แม่เป็นห่วงมาก กลัวติดโรคจากที่ทำงาน แบบแม่ it doesn’t work like that นะคะ 5555\\n1387040037880012810\\t@gentpepperkat\\tsar.gentpepper.kat\\tfrom all who dont understand original farms were all built on fertile river soil with 7 year crop rotation & no kidney by products or vampire(bat) byproducts, guar, dung, cow manure, chicken poop or urea passing disease like mad cow, hiv & hepatitis deliver us oh lord\\n1387035591783690240\\t@drdrabhikole\\tabhi kole, md, phd\\tvertical health programs tackle one disease at a time. hiv, tb, malaria being the big 3 for orgs like gates.[newline][newline]horizontal health systems = healthcare infrastructure from primary care to 2° and 3° centers to address broad health needs. [newline][newline]both are needed. “diagonal” if you will.\\n1387001025920487430\\t@chronmate\\tchronmate org\\t– patients who frequently require blood/blood products, dialysis or diabetes patients, recipients of solid organ transplants, persons with chronic liver disease or hiv, persons interned in prisons, persons who use injecting drugs, household and sexual contacts of persons\\n1386990585098108929\\t@controversyy3\\tcoc\\t3. if a person has any of these like diabetes, hypertension, heart disease, any chronic illness like tb, hiv, arthritis etc,(or) on any long term medications ..is it safe for them to take the vaccine?[newline]ans: absolutely yes[newline][newline]#covid19 #vaccineforall\\n1386949160235016202\\t@andrs_l28\\tandres l.\\tlesbians were so crucial to gay men in the 80s during the hiv/aids era. they helped with act up and cared for the affected men, not knowing what the disease was. they just cared. god i\\'m crying.\\n1386882027891216389\\t@drvandanagoel2\\tdr vandana goel\\t✅ weight must be above 50 kgs[newline][newline]❌ not have any medication conditions such as diabetic / high bp / cronic kidney / heart / lung or liver disease / tb / cancer / hiv / transplant recipients or on any strong mediciation or other illness that prevent donation.\\n1386869724907196416\\t@onebadmamaijama\\tmelanin monroe\\ti think the hatred of haitians partially stems from the aids/hiv epidemic. “the cdc at one point had named aids the ‘the 4h disease’ because it seemed to only kill haitians, homosexuals, hemophiliacs, and heroin users.”\\n1387178972769923076\\t@gerulaeddie\\teddie marion-gerula\\twe got some of aidans results back ! the tumour in his brain is still stable unfortunately they found small tumours on his spine but cancer care they aren’t too worried about and they will keep an eye on them! hopefully we get his mri on his ankle this week\\n1387173014089998337\\t@socialistparty\\tsocialist party\\ta scab is a two-legged animal with a corkscrew soul, a waterlogged brain, and a combination backbone made of jelly and glue. where others have hearts, he carries a tumour of rotten principles.\\n1387162188566179847\\t@hexenbrenner\\thb\\tshaking what the good lord gave me. a brain tumour the size of a grapefruit\\n1387154756133691397\\t@stedavies\\tstephen\\ttwo mates diagnosed with cancer within the last 4 months. one thought he ate a dodgy pizza but turned out to be a massive tumour. said his goodbyes to his family before his op as low chance of surviving but he miraculously pulled through w/ half his insides missing. strong bugger\\n1387138973584302086\\t@sinamonlance\\tchise zenes\\tsupposedly the good manager is returning today after a week and a half off to recover from surgery for his cancer tumour\\n1387136534625890307\\t@bishopsapphic\\t˗ˏˋ βασιλική ˎˊ˗\\tevery now and then i get this weird pain behind my right eye and my ocd has convinced me that it’s a brain tumour😐\\n1387131729400504321\\t@fiona_skywalker\\tfiona 🇬🇧🇪🇺🇮🇹\\t3d later i visited her at the hospice. it broke my heart to see how that sodding brain tumour was depleting her. cruelly slow yet horrifically fast at the same time.[newline][newline]she is one of the few besides me who has worn that medal. it\\'s a better memory than having it put round my neck.\\n1387128836542902275\\t@milnerwords\\troz\\ti’m worried they’ll find like a tumour\\n1387126711679074306\\t@andypaciorekart\\t△𝚗𝚍𝚢 𝙿𝚊𝚌𝚒𝚘𝚛𝚎𝚔 ...\\tthe cancer of politics. you cannot tell whether the suspicious tumour is benign or malign until you cut it out.\\n1387125269895557122\\t@mattymchoser\\tmatty mchoser\\ti can have a brain tumour, or everyone i know and love is dead, or world war 3 starts, but these two things will still make me laugh every time.[newline][newline]-googly eyes.[newline]-exaggerated french guy snickering.\\n1387124034664636422\\t@kittykat3801\\tjade 💜🖤\\tlmao tumour slayer on the cake. 😂[newline][newline]#911lonestar\\n1387121627482238977\\t@rubo102\\trubo10\\ttig biddies or scoliosis or a tumour... back pain\\n1387118510086705158\\t@lololol6348\\thello\\tit feels like i\\'ve had a malignant brain tumour removed this is magnificent\\n1387111006720208897\\t@emvanxo\\temily 🌙\\tdude if i have a fukin brain tumour i’m gonna rage\\n1387109816871657474\\t@garrity_angela\\t✨angelagarrity\\tsuch a great educational and supportive programme for people. having had twins at 26 weeks and all that comes with that too a baby the same with the tumour in the lung #ccam #babysurgeons .. i was lucky , but suffered greatly with #ptsd  💔 xx\\n1387103394217791501\\t@cjcolclough\\tdr christina j. colclough\\t12 years ago today i was faced with my potential death. lying in isolation prepped for an operation to remove a large brain tumour. priest come & gone. family too. and surprisingly i was as at ease. in acceptance feeling that there was nothing i regret i hadn\\'t done. am 1/2\\n1387097278238928897\\t@pughie13\\tffion 🏴\\U000e0067\\U000e0062\\U000e0077\\U000e006c\\U000e0073\\U000e007f💙\\tep 10[newline]able to get all of the tumour. considered a great success. [newline][newline]screw you buddy. people in chat are happy and i am sobbing\\n1387092042711539715\\t@theonlywayisup\\ther holiness pope mrs trellis, the 1st\\tdan wootton is basically just a tumour, with skin\\n1387089546135867402\\t@cosmic_hero_\\tjack ⭐️\\the tooka the tumour out\\n1387083200648794118\\t@ctpakur\\t◆haidar ali◆\\trajveer singh is studying in 11th standard. rajveer need to be diagnosed because of right testicular tumour with scrotal skin infiltration.\\n1387078322279100420\\t@yasindhonye\\tyasin dhonye\\tother ddx:[newline]giant cell tumour of tendon sheath (mixture of synoviocytes, bigger histiocytes, siderophages and foamy macrophages).[newline]crystal arthropathies (non psammomatous calcification).[newline]chondroma of soft parts/extraskeletal chondroma (s100+ cartilagenous foci present).\\n1387077110972526594\\t@erin\\terin caton\\ti still don’t have a gp and i’m so overdue for my pap. as a cervical cancer survivor, that makes me very nervous. i had a tumour found one year after a previous pap. i am now officially recommending cat fishing physicians when you apply. i am only listing cancer next time. 😭\\n1387064812987899905\\t@goldenwallsswag\\tgracie ♡\\'s her bestie roz ²⁸☁︎︎\\tpls i have pins and needs in my feet and now i think i have a tumour\\n1387064441783586816\\t@kkharrahh\\tkharl\\tever see smthn like rotting flesh , a tumour or smthn similar and just . yeah im gonna eat that . take a big fuckin bite . me when owm\\n1387058327448809479\\t@r0ss1n1\\tcharles t.w. truscott\\tso now that, in the molecular structure replacement of the prescribed medication for my neurological condition, that i have stopped taking it, as the pharmaceutical company decided to ensure a brain tumour, abhorrent side effects as a torture/ medical research trial\\n1387050970513739785\\t@nekomarucos\\tnekomaru 18+ only\\tupdate: i’ve been seen. they don’t know what it is. possibly a brain tumour. i’m waiting to do more tests. on top of this my entire mother’s house has been exposed to covid. mentally i’m not doing well nor physically. i’ll be gone for awhile. thanks .\\n1387046127753519111\\t@reaveysdjh\\tnova🦩\\tmy mum thinks my dog might have a tumour:((\\n1387044326597808131\\t@wordartoniine\\twhale abundant ocean\\tim having a baby and the baby is you! you say as a dongesque tumour grows from your skull\\n1387042986475724801\\t@kanakosuwa\\tkanako suwa👩🏻\\u200d🏫諏訪佳奈子\\tjust found out my grandma has a benign tumour on her brain that will most likely cause a vessel to pop (and lead to a stroke) if it keeps growing in the next few years or so, but doctors don’t want to operate on it bc she’s old. [newline][newline]is this... common practice?\\n1387021588961415173\\t@cr1pplingd\\tturi\\tthe call me mega mind the way i got this tumour in my head\\n1387015482197245957\\t@nislahc\\t-zošo-\\tyou have brain tumour not sense of humor\\n1387011851871920130\\t@natashamitchell\\tnatasha mitchell\\tsomeone i shared a house with at uni just died of a brain tumour, within just months of diagnosis. so young.we had lost touch over years. he created a passionate life overseas, family, & a vast global community via a hobby that became more. he lived richly. vale. life is fleeting\\n1387011705918656515\\t@terryat78294838\\tterry atkinson\\t#nufc [newline][newline]just watched a programme  baby surgeon\\'s \". a consultant removed a tumour from an unborn babys lungs. [newline][newline]got me thinking? who is worth the most?[newline][newline]a footballer on £150,000 per week ( works three hours per day, who screams and dives when touched ) [newline]b surgeon saving lives.']]"
      ]
     },
     "execution_count": 5,
     "metadata": {},
     "output_type": "execute_result"
    }
   ],
   "source": [
    "print(len(ls_query))\n",
    "ls_query"
   ]
  },
  {
   "cell_type": "code",
   "execution_count": null,
   "metadata": {},
   "outputs": [],
   "source": []
  },
  {
   "cell_type": "code",
   "execution_count": null,
   "metadata": {},
   "outputs": [],
   "source": []
  },
  {
   "cell_type": "markdown",
   "metadata": {},
   "source": [
    "# 연습 데이터"
   ]
  },
  {
   "cell_type": "code",
   "execution_count": 149,
   "metadata": {},
   "outputs": [
    {
     "data": {
      "text/html": [
       "<div>\n",
       "<style scoped>\n",
       "    .dataframe tbody tr th:only-of-type {\n",
       "        vertical-align: middle;\n",
       "    }\n",
       "\n",
       "    .dataframe tbody tr th {\n",
       "        vertical-align: top;\n",
       "    }\n",
       "\n",
       "    .dataframe thead th {\n",
       "        text-align: right;\n",
       "    }\n",
       "</style>\n",
       "<table border=\"1\" class=\"dataframe\">\n",
       "  <thead>\n",
       "    <tr style=\"text-align: right;\">\n",
       "      <th></th>\n",
       "      <th>0</th>\n",
       "      <th>1</th>\n",
       "      <th>2</th>\n",
       "      <th>3</th>\n",
       "    </tr>\n",
       "  </thead>\n",
       "  <tbody>\n",
       "    <tr>\n",
       "      <th>0</th>\n",
       "      <td>1346969344362782721</td>\n",
       "      <td>@SergMares</td>\n",
       "      <td>Serg</td>\n",
       "      <td>So embarrassed of our country today. What a sh...</td>\n",
       "    </tr>\n",
       "    <tr>\n",
       "      <th>1</th>\n",
       "      <td>1346968863796293635</td>\n",
       "      <td>@ShawnPFitzgera1</td>\n",
       "      <td>Shawn P. Fitzgerald</td>\n",
       "      <td>Until today, I’ve never been more ashamed to b...</td>\n",
       "    </tr>\n",
       "    <tr>\n",
       "      <th>2</th>\n",
       "      <td>1346968836311052289</td>\n",
       "      <td>@knolinfos</td>\n",
       "      <td>Knol Infos 🤖  🚀📚🖥️</td>\n",
       "      <td>#BackToTheCaves #Society actually, WHAT a #Sha...</td>\n",
       "    </tr>\n",
       "    <tr>\n",
       "      <th>3</th>\n",
       "      <td>1346967211064258562</td>\n",
       "      <td>@billiam2482</td>\n",
       "      <td>William Gruenloh</td>\n",
       "      <td>So much for the curfew. Those terrorists are s...</td>\n",
       "    </tr>\n",
       "    <tr>\n",
       "      <th>4</th>\n",
       "      <td>1346967066520113152</td>\n",
       "      <td>@tammybangs</td>\n",
       "      <td>Tammy Bangs, CAMS</td>\n",
       "      <td>So much PTSD for so many from this administrat...</td>\n",
       "    </tr>\n",
       "    <tr>\n",
       "      <th>5</th>\n",
       "      <td>1346966401446260737</td>\n",
       "      <td>@krimson_leash</td>\n",
       "      <td>Alicia Grace</td>\n",
       "      <td>If you support what happened in the capitol to...</td>\n",
       "    </tr>\n",
       "    <tr>\n",
       "      <th>6</th>\n",
       "      <td>1346966180158971906</td>\n",
       "      <td>@Duendelicious</td>\n",
       "      <td>Josh Montoya</td>\n",
       "      <td>Appalled. #disgraceful #shame</td>\n",
       "    </tr>\n",
       "    <tr>\n",
       "      <th>7</th>\n",
       "      <td>1346963808770686982</td>\n",
       "      <td>@kevinbrennan520</td>\n",
       "      <td>Kevin Brennan ~ Big Democracy Fan</td>\n",
       "      <td>Judging by video of the mob participants, I pr...</td>\n",
       "    </tr>\n",
       "    <tr>\n",
       "      <th>8</th>\n",
       "      <td>1346962814850789382</td>\n",
       "      <td>@bellatrixr</td>\n",
       "      <td>bellatrixr 🌊</td>\n",
       "      <td>It is 31 minutes past curfew and the police ar...</td>\n",
       "    </tr>\n",
       "    <tr>\n",
       "      <th>9</th>\n",
       "      <td>1346962168433008646</td>\n",
       "      <td>@chemaskandal</td>\n",
       "      <td>CHema Skandal! ✌🏿👹🏴</td>\n",
       "      <td>#SHAME</td>\n",
       "    </tr>\n",
       "  </tbody>\n",
       "</table>\n",
       "</div>"
      ],
      "text/plain": [
       "                     0                 1                                  2  \\\n",
       "0  1346969344362782721        @SergMares                               Serg   \n",
       "1  1346968863796293635  @ShawnPFitzgera1                Shawn P. Fitzgerald   \n",
       "2  1346968836311052289        @knolinfos                 Knol Infos 🤖  🚀📚🖥️   \n",
       "3  1346967211064258562      @billiam2482                   William Gruenloh   \n",
       "4  1346967066520113152       @tammybangs                  Tammy Bangs, CAMS   \n",
       "5  1346966401446260737    @krimson_leash                       Alicia Grace   \n",
       "6  1346966180158971906    @Duendelicious                       Josh Montoya   \n",
       "7  1346963808770686982  @kevinbrennan520  Kevin Brennan ~ Big Democracy Fan   \n",
       "8  1346962814850789382       @bellatrixr                       bellatrixr 🌊   \n",
       "9  1346962168433008646     @chemaskandal                CHema Skandal! ✌🏿👹🏴   \n",
       "\n",
       "                                                   3  \n",
       "0  So embarrassed of our country today. What a sh...  \n",
       "1  Until today, I’ve never been more ashamed to b...  \n",
       "2  #BackToTheCaves #Society actually, WHAT a #Sha...  \n",
       "3  So much for the curfew. Those terrorists are s...  \n",
       "4  So much PTSD for so many from this administrat...  \n",
       "5  If you support what happened in the capitol to...  \n",
       "6                      Appalled. #disgraceful #shame  \n",
       "7  Judging by video of the mob participants, I pr...  \n",
       "8  It is 31 minutes past curfew and the police ar...  \n",
       "9                                             #SHAME  "
      ]
     },
     "execution_count": 149,
     "metadata": {},
     "output_type": "execute_result"
    }
   ],
   "source": [
    "tmp = df[:10]\n",
    "tmp"
   ]
  },
  {
   "cell_type": "code",
   "execution_count": 150,
   "metadata": {},
   "outputs": [
    {
     "name": "stdout",
     "output_type": "stream",
     "text": [
      "[['so', 'embarrassed', 'of', 'our', 'country', 'today', 'what', 'a', 'shame', 'today', 'will', 'be', 'one', 'of', 'those', 'days', 'our', 'kids', 'will', 'read', 'about', 'shame', '45didthis'], ['until', 'today', 'i', 've', 'never', 'been', 'more', 'ashamed', 'to', 'be', 'an', 'american', 'disgraceful', 'removetrumpnow', 'shame'], ['backtothecaves', 'society', 'actually', 'what', 'a', 'shame'], ['so', 'much', 'for', 'the', 'curfew', 'those', 'terrorists', 'are', 'still', 'standing', 'out', 'there', 'free', 'as', 'birds', 'wonder', 'why', 'they', 're', 'not', 'being', 'gassed', 'and', 'cuffed', 'and', 'beaten', 'hmmmmm', 'shame'], ['so', 'much', 'ptsd', 'for', 'so', 'many', 'from', 'this', 'administration', 'never', 'been', 'so', 'disgusted', 'or', 'disheartened', 'by', 'my', 'fellow', 'americans', 'as', 'today', 'disgusting', 'display', 'of', 'fascism', 'coupattempt', 'capitolhill', 'shame'], ['if', 'you', 'support', 'what', 'happened', 'in', 'the', 'capitol', 'today', 'no', 'matter', 'what', 'party', 'you', 'are', 'you', 'are', 'trash', 'and', 'i', 'have', 'no', 'respect', 'for', 'you', 'capitolbreach', 'shame'], ['appalled', 'disgraceful', 'shame'], ['judging', 'by', 'video', 'of', 'the', 'mob', 'participants', 'i', 'propose', 'that', \"today's\", 'insurrection', 'be', 'dubbed', 'the', 'walmart', 'rebellion', 'newline', 'newline', 'washingtondcprotest', 'shame'], ['it', 'is', '31', 'minutes', 'past', 'curfew', 'and', 'the', 'police', 'are', 'just', 'looking', 'in', 'the', 'distance', 'at', 'all', 'of', 'these', 'trump', 'slugs', 'shame'], ['shame']]\n"
     ]
    }
   ],
   "source": [
    "import re\n",
    "\n",
    "# 1. tokenization\n",
    "postings = []\n",
    "for i, row in tmp.iterrows():\n",
    "    txt = row[3].lower()\n",
    "    ls = re.findall(\"[\\w']+\", txt)\n",
    "    postings.append(ls)\n",
    "    \n",
    "print(postings)"
   ]
  },
  {
   "cell_type": "code",
   "execution_count": 151,
   "metadata": {},
   "outputs": [
    {
     "name": "stdout",
     "output_type": "stream",
     "text": [
      "[['so', 0], ['embarrassed', 0], ['of', 0], ['our', 0], ['country', 0], ['today', 0], ['what', 0], ['a', 0], ['shame', 0], ['today', 0], ['will', 0], ['be', 0], ['one', 0], ['of', 0], ['those', 0], ['days', 0], ['our', 0], ['kids', 0], ['will', 0], ['read', 0], ['about', 0], ['shame', 0], ['45didthis', 0], ['until', 1], ['today', 1], ['i', 1], ['ve', 1], ['never', 1], ['been', 1], ['more', 1], ['ashamed', 1], ['to', 1], ['be', 1], ['an', 1], ['american', 1], ['disgraceful', 1], ['removetrumpnow', 1], ['shame', 1], ['backtothecaves', 2], ['society', 2], ['actually', 2], ['what', 2], ['a', 2], ['shame', 2], ['so', 3], ['much', 3], ['for', 3], ['the', 3], ['curfew', 3], ['those', 3], ['terrorists', 3], ['are', 3], ['still', 3], ['standing', 3], ['out', 3], ['there', 3], ['free', 3], ['as', 3], ['birds', 3], ['wonder', 3], ['why', 3], ['they', 3], ['re', 3], ['not', 3], ['being', 3], ['gassed', 3], ['and', 3], ['cuffed', 3], ['and', 3], ['beaten', 3], ['hmmmmm', 3], ['shame', 3], ['so', 4], ['much', 4], ['ptsd', 4], ['for', 4], ['so', 4], ['many', 4], ['from', 4], ['this', 4], ['administration', 4], ['never', 4], ['been', 4], ['so', 4], ['disgusted', 4], ['or', 4], ['disheartened', 4], ['by', 4], ['my', 4], ['fellow', 4], ['americans', 4], ['as', 4], ['today', 4], ['disgusting', 4], ['display', 4], ['of', 4], ['fascism', 4], ['coupattempt', 4], ['capitolhill', 4], ['shame', 4], ['if', 5], ['you', 5], ['support', 5], ['what', 5], ['happened', 5], ['in', 5], ['the', 5], ['capitol', 5], ['today', 5], ['no', 5], ['matter', 5], ['what', 5], ['party', 5], ['you', 5], ['are', 5], ['you', 5], ['are', 5], ['trash', 5], ['and', 5], ['i', 5], ['have', 5], ['no', 5], ['respect', 5], ['for', 5], ['you', 5], ['capitolbreach', 5], ['shame', 5], ['appalled', 6], ['disgraceful', 6], ['shame', 6], ['judging', 7], ['by', 7], ['video', 7], ['of', 7], ['the', 7], ['mob', 7], ['participants', 7], ['i', 7], ['propose', 7], ['that', 7], [\"today's\", 7], ['insurrection', 7], ['be', 7], ['dubbed', 7], ['the', 7], ['walmart', 7], ['rebellion', 7], ['newline', 7], ['newline', 7], ['washingtondcprotest', 7], ['shame', 7], ['it', 8], ['is', 8], ['31', 8], ['minutes', 8], ['past', 8], ['curfew', 8], ['and', 8], ['the', 8], ['police', 8], ['are', 8], ['just', 8], ['looking', 8], ['in', 8], ['the', 8], ['distance', 8], ['at', 8], ['all', 8], ['of', 8], ['these', 8], ['trump', 8], ['slugs', 8], ['shame', 8], ['shame', 9]]\n"
     ]
    }
   ],
   "source": [
    "# 2. tagging numbers\n",
    "\n",
    "ls_terms = []\n",
    "for i, plist in enumerate(postings):\n",
    "    for term in plist:\n",
    "        ls_terms.append([term, i])\n",
    "        \n",
    "print(ls_terms)"
   ]
  },
  {
   "cell_type": "code",
   "execution_count": 157,
   "metadata": {},
   "outputs": [
    {
     "data": {
      "text/html": [
       "<div>\n",
       "<style scoped>\n",
       "    .dataframe tbody tr th:only-of-type {\n",
       "        vertical-align: middle;\n",
       "    }\n",
       "\n",
       "    .dataframe tbody tr th {\n",
       "        vertical-align: top;\n",
       "    }\n",
       "\n",
       "    .dataframe thead th {\n",
       "        text-align: right;\n",
       "    }\n",
       "</style>\n",
       "<table border=\"1\" class=\"dataframe\">\n",
       "  <thead>\n",
       "    <tr style=\"text-align: right;\">\n",
       "      <th></th>\n",
       "      <th>0</th>\n",
       "      <th>1</th>\n",
       "    </tr>\n",
       "  </thead>\n",
       "  <tbody>\n",
       "    <tr>\n",
       "      <th>0</th>\n",
       "      <td>31</td>\n",
       "      <td>8</td>\n",
       "    </tr>\n",
       "    <tr>\n",
       "      <th>1</th>\n",
       "      <td>45didthis</td>\n",
       "      <td>0</td>\n",
       "    </tr>\n",
       "    <tr>\n",
       "      <th>2</th>\n",
       "      <td>a</td>\n",
       "      <td>0</td>\n",
       "    </tr>\n",
       "    <tr>\n",
       "      <th>3</th>\n",
       "      <td>a</td>\n",
       "      <td>2</td>\n",
       "    </tr>\n",
       "    <tr>\n",
       "      <th>4</th>\n",
       "      <td>about</td>\n",
       "      <td>0</td>\n",
       "    </tr>\n",
       "  </tbody>\n",
       "</table>\n",
       "</div>"
      ],
      "text/plain": [
       "           0  1\n",
       "0         31  8\n",
       "1  45didthis  0\n",
       "2          a  0\n",
       "3          a  2\n",
       "4      about  0"
      ]
     },
     "execution_count": 157,
     "metadata": {},
     "output_type": "execute_result"
    }
   ],
   "source": [
    "# 3. sorting\n",
    "\n",
    "import pandas as pd\n",
    "\n",
    "terms = pd.DataFrame(ls_terms)\n",
    "terms.sort_values(by=[0, 1], inplace=True, ignore_index=True)\n",
    "terms.head()"
   ]
  },
  {
   "cell_type": "code",
   "execution_count": 158,
   "metadata": {},
   "outputs": [
    {
     "name": "stdout",
     "output_type": "stream",
     "text": [
      "157\n",
      "[('31', 8), ('45didthis', 0), ('a', 0), ('a', 2), ('about', 0), ('actually', 2), ('administration', 4), ('all', 8), ('american', 1), ('americans', 4), ('an', 1), ('and', 3), ('and', 5), ('and', 8), ('appalled', 6), ('are', 3), ('are', 5), ('are', 8), ('as', 3), ('as', 4), ('ashamed', 1), ('at', 8), ('backtothecaves', 2), ('be', 0), ('be', 1), ('be', 7), ('beaten', 3), ('been', 1), ('been', 4), ('being', 3), ('birds', 3), ('by', 4), ('by', 7), ('capitol', 5), ('capitolbreach', 5), ('capitolhill', 4), ('country', 0), ('coupattempt', 4), ('cuffed', 3), ('curfew', 3), ('curfew', 8), ('days', 0), ('disgraceful', 1), ('disgraceful', 6), ('disgusted', 4), ('disgusting', 4), ('disheartened', 4), ('display', 4), ('distance', 8), ('dubbed', 7), ('embarrassed', 0), ('fascism', 4), ('fellow', 4), ('for', 3), ('for', 4), ('for', 5), ('free', 3), ('from', 4), ('gassed', 3), ('happened', 5), ('have', 5), ('hmmmmm', 3), ('i', 1), ('i', 5), ('i', 7), ('if', 5), ('in', 5), ('in', 8), ('insurrection', 7), ('is', 8), ('it', 8), ('judging', 7), ('just', 8), ('kids', 0), ('looking', 8), ('many', 4), ('matter', 5), ('minutes', 8), ('mob', 7), ('more', 1), ('much', 3), ('much', 4), ('my', 4), ('never', 1), ('never', 4), ('newline', 7), ('no', 5), ('not', 3), ('of', 0), ('of', 4), ('of', 7), ('of', 8), ('one', 0), ('or', 4), ('our', 0), ('out', 3), ('participants', 7), ('party', 5), ('past', 8), ('police', 8), ('propose', 7), ('ptsd', 4), ('re', 3), ('read', 0), ('rebellion', 7), ('removetrumpnow', 1), ('respect', 5), ('shame', 0), ('shame', 1), ('shame', 2), ('shame', 3), ('shame', 4), ('shame', 5), ('shame', 6), ('shame', 7), ('shame', 8), ('shame', 9), ('slugs', 8), ('so', 0), ('so', 3), ('so', 4), ('society', 2), ('standing', 3), ('still', 3), ('support', 5), ('terrorists', 3), ('that', 7), ('the', 3), ('the', 5), ('the', 7), ('the', 8), ('there', 3), ('these', 8), ('they', 3), ('this', 4), ('those', 0), ('those', 3), ('to', 1), ('today', 0), ('today', 1), ('today', 4), ('today', 5), (\"today's\", 7), ('trash', 5), ('trump', 8), ('until', 1), ('ve', 1), ('video', 7), ('walmart', 7), ('washingtondcprotest', 7), ('what', 0), ('what', 2), ('what', 5), ('why', 3), ('will', 0), ('wonder', 3), ('you', 5)]\n"
     ]
    }
   ],
   "source": [
    "# delete duplicate data\n",
    "\n",
    "tmp = []\n",
    "for i, t in terms.iterrows():\n",
    "    if (t[0], t[1]) not in tmp:\n",
    "        tmp.append((t[0], t[1]))\n",
    "\n",
    "print(len(tmp))\n",
    "print(tmp)"
   ]
  },
  {
   "cell_type": "code",
   "execution_count": 1,
   "metadata": {},
   "outputs": [
    {
     "name": "stdout",
     "output_type": "stream",
     "text": [
      "Writing default config to: C:\\Users\\dojun\\.jupyter\\jupyter_notebook_config.py\n"
     ]
    }
   ],
   "source": [
    "!jupyter notebook --generate-config"
   ]
  },
  {
   "cell_type": "code",
   "execution_count": 2,
   "metadata": {},
   "outputs": [
    {
     "name": "stderr",
     "output_type": "stream",
     "text": [
      "'NotebookApp.max_buffer_size'은(는) 내부 또는 외부 명령, 실행할 수 있는 프로그램, 또는\n",
      "배치 파일이 아닙니다.\n"
     ]
    }
   ],
   "source": [
    "!NotebookApp.max_buffer_size"
   ]
  },
  {
   "cell_type": "code",
   "execution_count": null,
   "metadata": {},
   "outputs": [],
   "source": []
  },
  {
   "cell_type": "code",
   "execution_count": null,
   "metadata": {},
   "outputs": [],
   "source": []
  },
  {
   "cell_type": "code",
   "execution_count": null,
   "metadata": {},
   "outputs": [],
   "source": []
  },
  {
   "cell_type": "code",
   "execution_count": null,
   "metadata": {},
   "outputs": [],
   "source": []
  },
  {
   "cell_type": "code",
   "execution_count": null,
   "metadata": {},
   "outputs": [],
   "source": [
    "class InvertedIndex():\n",
    "    def "
   ]
  }
 ],
 "metadata": {
  "kernelspec": {
   "display_name": "Python 3",
   "language": "python",
   "name": "python3"
  },
  "language_info": {
   "codemirror_mode": {
    "name": "ipython",
    "version": 3
   },
   "file_extension": ".py",
   "mimetype": "text/x-python",
   "name": "python",
   "nbconvert_exporter": "python",
   "pygments_lexer": "ipython3",
   "version": "3.8.5"
  }
 },
 "nbformat": 4,
 "nbformat_minor": 4
}
