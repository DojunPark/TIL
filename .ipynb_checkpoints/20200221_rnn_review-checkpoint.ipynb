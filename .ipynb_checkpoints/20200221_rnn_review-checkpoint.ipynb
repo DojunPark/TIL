{
 "cells": [
  {
   "cell_type": "markdown",
   "metadata": {},
   "source": [
    "# RNN with keras Review"
   ]
  },
  {
   "cell_type": "code",
   "execution_count": 1,
   "metadata": {},
   "outputs": [],
   "source": [
    "from tensorflow.keras.preprocessing.text import Tokenizer\n",
    "from tensorflow.keras.preprocessing.sequence import pad_sequences\n",
    "from tensorflow.keras.utils import to_categorical"
   ]
  },
  {
   "cell_type": "code",
   "execution_count": 9,
   "metadata": {},
   "outputs": [
    {
     "name": "stdout",
     "output_type": "stream",
     "text": [
      "경마장에 있는 말이 뛰고 있다\n",
      "그의 말이 법이다\n",
      "가는 말이 고와야 오는 말이 곱다\n"
     ]
    }
   ],
   "source": [
    "text=\"\"\"경마장에 있는 말이 뛰고 있다\\n그의 말이 법이다\\n가는 말이 고와야 오는 말이 곱다\"\"\"\n",
    "print(text)"
   ]
  },
  {
   "cell_type": "markdown",
   "metadata": {},
   "source": [
    "**토크나이징**은 t.fit_on_texts([text]) 이렇게!"
   ]
  },
  {
   "cell_type": "code",
   "execution_count": 10,
   "metadata": {},
   "outputs": [],
   "source": [
    "t = Tokenizer()\n",
    "t.fit_on_texts([text])"
   ]
  },
  {
   "cell_type": "markdown",
   "metadata": {},
   "source": [
    "총 11개의 vocab이 어절 단위 토크나이징으로 생성되었음"
   ]
  },
  {
   "cell_type": "code",
   "execution_count": 11,
   "metadata": {},
   "outputs": [
    {
     "data": {
      "text/plain": [
       "{1: '말이',\n",
       " 2: '경마장에',\n",
       " 3: '있는',\n",
       " 4: '뛰고',\n",
       " 5: '있다',\n",
       " 6: '그의',\n",
       " 7: '법이다',\n",
       " 8: '가는',\n",
       " 9: '고와야',\n",
       " 10: '오는',\n",
       " 11: '곱다'}"
      ]
     },
     "execution_count": 11,
     "metadata": {},
     "output_type": "execute_result"
    }
   ],
   "source": [
    "t.index_word"
   ]
  },
  {
   "cell_type": "markdown",
   "metadata": {},
   "source": [
    "**학습시퀀스** 생성하기"
   ]
  },
  {
   "cell_type": "code",
   "execution_count": 12,
   "metadata": {},
   "outputs": [
    {
     "name": "stdout",
     "output_type": "stream",
     "text": [
      "[2, 3, 1, 4, 5]\n",
      "[6, 1, 7]\n",
      "[8, 1, 9, 10, 1, 11]\n"
     ]
    }
   ],
   "source": [
    "sequeces = list()\n",
    "for line in text.split('\\n'):\n",
    "    encoded = t.texts_to_sequences([line])[0]\n",
    "    for i in range(1, len(encoded)):\n",
    "        print()"
   ]
  },
  {
   "cell_type": "code",
   "execution_count": 17,
   "metadata": {},
   "outputs": [
    {
     "name": "stdout",
     "output_type": "stream",
     "text": [
      "[2, 3]\n",
      "[2, 3, 1]\n",
      "[2, 3, 1, 4]\n",
      "[2, 3, 1, 4, 5]\n",
      "[6, 1]\n",
      "[6, 1, 7]\n",
      "[8, 1]\n",
      "[8, 1, 9]\n",
      "[8, 1, 9, 10]\n",
      "[8, 1, 9, 10, 1]\n",
      "[8, 1, 9, 10, 1, 11]\n"
     ]
    }
   ],
   "source": [
    "sequeces = list()\n",
    "for line in text.split('\\n'):\n",
    "    encoded = t.texts_to_sequences([line])[0]\n",
    "    for i in range(1, len(encoded)):\n",
    "        print(encoded[:i+1])"
   ]
  },
  {
   "cell_type": "code",
   "execution_count": 26,
   "metadata": {},
   "outputs": [
    {
     "data": {
      "text/plain": [
       "[[2],\n",
       " [2, 3],\n",
       " [2, 3, 1],\n",
       " [2, 3, 1, 4],\n",
       " [2, 3, 1, 4, 5],\n",
       " [6],\n",
       " [6, 1],\n",
       " [6, 1, 7],\n",
       " [8],\n",
       " [8, 1],\n",
       " [8, 1, 9],\n",
       " [8, 1, 9, 10],\n",
       " [8, 1, 9, 10, 1],\n",
       " [8, 1, 9, 10, 1, 11]]"
      ]
     },
     "execution_count": 26,
     "metadata": {},
     "output_type": "execute_result"
    }
   ],
   "source": [
    "sequences = list()\n",
    "for line in text.split('\\n'):\n",
    "    encoded = t.texts_to_sequences([line])[0]\n",
    "    for i in range(1, len(encoded)+1):\n",
    "        sequence = encoded[:i]\n",
    "        sequences.append(sequence)\n",
    "sequences"
   ]
  },
  {
   "cell_type": "markdown",
   "metadata": {},
   "source": [
    "시퀀스를 생성했다면 이젠 **시퀀스패딩!** <br/>\n",
    "시퀀스 패딩은 maxlen을 설정하고 pad_sequences 매소드.."
   ]
  },
  {
   "cell_type": "code",
   "execution_count": 27,
   "metadata": {},
   "outputs": [
    {
     "data": {
      "text/plain": [
       "array([[ 0,  0,  0,  0,  0,  2],\n",
       "       [ 0,  0,  0,  0,  2,  3],\n",
       "       [ 0,  0,  0,  2,  3,  1],\n",
       "       [ 0,  0,  2,  3,  1,  4],\n",
       "       [ 0,  2,  3,  1,  4,  5],\n",
       "       [ 0,  0,  0,  0,  0,  6],\n",
       "       [ 0,  0,  0,  0,  6,  1],\n",
       "       [ 0,  0,  0,  6,  1,  7],\n",
       "       [ 0,  0,  0,  0,  0,  8],\n",
       "       [ 0,  0,  0,  0,  8,  1],\n",
       "       [ 0,  0,  0,  8,  1,  9],\n",
       "       [ 0,  0,  8,  1,  9, 10],\n",
       "       [ 0,  8,  1,  9, 10,  1],\n",
       "       [ 8,  1,  9, 10,  1, 11]])"
      ]
     },
     "execution_count": 27,
     "metadata": {},
     "output_type": "execute_result"
    }
   ],
   "source": [
    "max_len = max([len(seq) for seq in sequences])\n",
    "sequences = pad_sequences(sequences, maxlen=max_len, padding='pre')\n",
    "sequences"
   ]
  },
  {
   "cell_type": "markdown",
   "metadata": {},
   "source": [
    "시퀀스 패딩까지 완료 되었다면 이젠 **학습셋 분할** 해야지 ㅇㅇ"
   ]
  },
  {
   "cell_type": "code",
   "execution_count": 28,
   "metadata": {},
   "outputs": [
    {
     "name": "stdout",
     "output_type": "stream",
     "text": [
      "[[ 0  0  0  0  0]\n",
      " [ 0  0  0  0  2]\n",
      " [ 0  0  0  2  3]\n",
      " [ 0  0  2  3  1]\n",
      " [ 0  2  3  1  4]\n",
      " [ 0  0  0  0  0]\n",
      " [ 0  0  0  0  6]\n",
      " [ 0  0  0  6  1]\n",
      " [ 0  0  0  0  0]\n",
      " [ 0  0  0  0  8]\n",
      " [ 0  0  0  8  1]\n",
      " [ 0  0  8  1  9]\n",
      " [ 0  8  1  9 10]\n",
      " [ 8  1  9 10  1]]\n",
      "[ 2  3  1  4  5  6  1  7  8  1  9 10  1 11]\n"
     ]
    }
   ],
   "source": [
    "X = sequences[:, :-1]\n",
    "y = sequences[:, -1]\n",
    "\n",
    "print(X)\n",
    "print(y)"
   ]
  },
  {
   "cell_type": "markdown",
   "metadata": {},
   "source": [
    "학습셋까지 분할했으면 벌써 **모델링**이네?"
   ]
  },
  {
   "cell_type": "code",
   "execution_count": 56,
   "metadata": {},
   "outputs": [],
   "source": [
    "from tensorflow.keras.models import Sequential\n",
    "from tensorflow.keras.layers import Embedding, Dense, SimpleRNN\n",
    "import numpy as np\n",
    "\n",
    "vocab_size = len(t.word_index) + 1\n",
    "model = Sequential()\n",
    "model.add(Embedding(vocab_size, 2, input_length=max_len - 1)) # y레이블을 분리했기 때문\n",
    "model.add(SimpleRNN(2))\n",
    "model.add(Dense(vocab_size, activation='softmax'))\n",
    "# model.compile(loss='categorical_crossentropy', optimizer='adam')\n",
    "model.compile(loss='sparse_categorical_crossentropy', optimizer='adam', metrics=['accuracy'])"
   ]
  },
  {
   "cell_type": "code",
   "execution_count": 57,
   "metadata": {},
   "outputs": [
    {
     "data": {
      "text/plain": [
       "(12, 6)"
      ]
     },
     "execution_count": 57,
     "metadata": {},
     "output_type": "execute_result"
    }
   ],
   "source": [
    "vocab_size, max_len"
   ]
  },
  {
   "cell_type": "markdown",
   "metadata": {},
   "source": [
    "임시로 테스트 한번 넣어보고"
   ]
  },
  {
   "cell_type": "code",
   "execution_count": 58,
   "metadata": {},
   "outputs": [
    {
     "data": {
      "text/plain": [
       "array([[0.08305098, 0.08359986, 0.08534104, 0.08622256, 0.08723344,\n",
       "        0.08693309, 0.08061866, 0.08229353, 0.08060069, 0.0822025 ,\n",
       "        0.08106726, 0.08083653]], dtype=float32)"
      ]
     },
     "execution_count": 58,
     "metadata": {},
     "output_type": "execute_result"
    }
   ],
   "source": [
    "model.predict(np.array([[0, 1, 4, 2, 1]]))\n",
    "# max_len"
   ]
  },
  {
   "cell_type": "code",
   "execution_count": 59,
   "metadata": {},
   "outputs": [
    {
     "name": "stdout",
     "output_type": "stream",
     "text": [
      "Train on 14 samples\n",
      "Epoch 1/200\n",
      "14/14 - 1s - loss: 2.4827 - accuracy: 0.0714\n",
      "Epoch 2/200\n",
      "14/14 - 0s - loss: 2.4814 - accuracy: 0.0714\n",
      "Epoch 3/200\n",
      "14/14 - 0s - loss: 2.4802 - accuracy: 0.0714\n",
      "Epoch 4/200\n",
      "14/14 - 0s - loss: 2.4789 - accuracy: 0.0714\n",
      "Epoch 5/200\n",
      "14/14 - 0s - loss: 2.4777 - accuracy: 0.0714\n",
      "Epoch 6/200\n",
      "14/14 - 0s - loss: 2.4764 - accuracy: 0.0714\n",
      "Epoch 7/200\n",
      "14/14 - 0s - loss: 2.4751 - accuracy: 0.0714\n",
      "Epoch 8/200\n",
      "14/14 - 0s - loss: 2.4738 - accuracy: 0.0714\n",
      "Epoch 9/200\n",
      "14/14 - 0s - loss: 2.4726 - accuracy: 0.0714\n",
      "Epoch 10/200\n",
      "14/14 - 0s - loss: 2.4713 - accuracy: 0.0714\n",
      "Epoch 11/200\n",
      "14/14 - 0s - loss: 2.4700 - accuracy: 0.1429\n",
      "Epoch 12/200\n",
      "14/14 - 0s - loss: 2.4687 - accuracy: 0.1429\n",
      "Epoch 13/200\n",
      "14/14 - 0s - loss: 2.4674 - accuracy: 0.1429\n",
      "Epoch 14/200\n",
      "14/14 - 0s - loss: 2.4661 - accuracy: 0.1429\n",
      "Epoch 15/200\n",
      "14/14 - 0s - loss: 2.4648 - accuracy: 0.1429\n",
      "Epoch 16/200\n",
      "14/14 - 0s - loss: 2.4635 - accuracy: 0.1429\n",
      "Epoch 17/200\n",
      "14/14 - 0s - loss: 2.4621 - accuracy: 0.1429\n",
      "Epoch 18/200\n",
      "14/14 - 0s - loss: 2.4608 - accuracy: 0.1429\n",
      "Epoch 19/200\n",
      "14/14 - 0s - loss: 2.4595 - accuracy: 0.1429\n",
      "Epoch 20/200\n",
      "14/14 - 0s - loss: 2.4581 - accuracy: 0.1429\n",
      "Epoch 21/200\n",
      "14/14 - 0s - loss: 2.4567 - accuracy: 0.2143\n",
      "Epoch 22/200\n",
      "14/14 - 0s - loss: 2.4554 - accuracy: 0.2143\n",
      "Epoch 23/200\n",
      "14/14 - 0s - loss: 2.4540 - accuracy: 0.2143\n",
      "Epoch 24/200\n",
      "14/14 - 0s - loss: 2.4526 - accuracy: 0.2143\n",
      "Epoch 25/200\n",
      "14/14 - 0s - loss: 2.4512 - accuracy: 0.2143\n",
      "Epoch 26/200\n",
      "14/14 - 0s - loss: 2.4498 - accuracy: 0.2143\n",
      "Epoch 27/200\n",
      "14/14 - 0s - loss: 2.4483 - accuracy: 0.2143\n",
      "Epoch 28/200\n",
      "14/14 - 0s - loss: 2.4469 - accuracy: 0.2143\n",
      "Epoch 29/200\n",
      "14/14 - 0s - loss: 2.4454 - accuracy: 0.2143\n",
      "Epoch 30/200\n",
      "14/14 - 0s - loss: 2.4440 - accuracy: 0.2143\n",
      "Epoch 31/200\n",
      "14/14 - 0s - loss: 2.4425 - accuracy: 0.2857\n",
      "Epoch 32/200\n",
      "14/14 - 0s - loss: 2.4410 - accuracy: 0.2857\n",
      "Epoch 33/200\n",
      "14/14 - 0s - loss: 2.4395 - accuracy: 0.2857\n",
      "Epoch 34/200\n",
      "14/14 - 0s - loss: 2.4380 - accuracy: 0.2857\n",
      "Epoch 35/200\n",
      "14/14 - 0s - loss: 2.4365 - accuracy: 0.2857\n",
      "Epoch 36/200\n",
      "14/14 - 0s - loss: 2.4349 - accuracy: 0.2857\n",
      "Epoch 37/200\n",
      "14/14 - 0s - loss: 2.4334 - accuracy: 0.2857\n",
      "Epoch 38/200\n",
      "14/14 - 0s - loss: 2.4318 - accuracy: 0.2857\n",
      "Epoch 39/200\n",
      "14/14 - 0s - loss: 2.4302 - accuracy: 0.2857\n",
      "Epoch 40/200\n",
      "14/14 - 0s - loss: 2.4286 - accuracy: 0.2857\n",
      "Epoch 41/200\n",
      "14/14 - 0s - loss: 2.4270 - accuracy: 0.2857\n",
      "Epoch 42/200\n",
      "14/14 - 0s - loss: 2.4254 - accuracy: 0.2857\n",
      "Epoch 43/200\n",
      "14/14 - 0s - loss: 2.4237 - accuracy: 0.2857\n",
      "Epoch 44/200\n",
      "14/14 - 0s - loss: 2.4221 - accuracy: 0.2857\n",
      "Epoch 45/200\n",
      "14/14 - 0s - loss: 2.4204 - accuracy: 0.2857\n",
      "Epoch 46/200\n",
      "14/14 - 0s - loss: 2.4187 - accuracy: 0.2857\n",
      "Epoch 47/200\n",
      "14/14 - 0s - loss: 2.4170 - accuracy: 0.2857\n",
      "Epoch 48/200\n",
      "14/14 - 0s - loss: 2.4153 - accuracy: 0.2857\n",
      "Epoch 49/200\n",
      "14/14 - 0s - loss: 2.4136 - accuracy: 0.2857\n",
      "Epoch 50/200\n",
      "14/14 - 0s - loss: 2.4119 - accuracy: 0.2857\n",
      "Epoch 51/200\n",
      "14/14 - 0s - loss: 2.4101 - accuracy: 0.2857\n",
      "Epoch 52/200\n",
      "14/14 - 0s - loss: 2.4084 - accuracy: 0.2857\n",
      "Epoch 53/200\n",
      "14/14 - 0s - loss: 2.4066 - accuracy: 0.2857\n",
      "Epoch 54/200\n",
      "14/14 - 0s - loss: 2.4049 - accuracy: 0.2857\n",
      "Epoch 55/200\n",
      "14/14 - 0s - loss: 2.4031 - accuracy: 0.2857\n",
      "Epoch 56/200\n",
      "14/14 - 0s - loss: 2.4013 - accuracy: 0.2857\n",
      "Epoch 57/200\n",
      "14/14 - 0s - loss: 2.3995 - accuracy: 0.2857\n",
      "Epoch 58/200\n",
      "14/14 - 0s - loss: 2.3977 - accuracy: 0.2857\n",
      "Epoch 59/200\n",
      "14/14 - 0s - loss: 2.3958 - accuracy: 0.2857\n",
      "Epoch 60/200\n",
      "14/14 - 0s - loss: 2.3940 - accuracy: 0.2857\n",
      "Epoch 61/200\n",
      "14/14 - 0s - loss: 2.3922 - accuracy: 0.2857\n",
      "Epoch 62/200\n",
      "14/14 - 0s - loss: 2.3903 - accuracy: 0.2857\n",
      "Epoch 63/200\n",
      "14/14 - 0s - loss: 2.3885 - accuracy: 0.2857\n",
      "Epoch 64/200\n",
      "14/14 - 0s - loss: 2.3866 - accuracy: 0.2857\n",
      "Epoch 65/200\n",
      "14/14 - 0s - loss: 2.3848 - accuracy: 0.2857\n",
      "Epoch 66/200\n",
      "14/14 - 0s - loss: 2.3829 - accuracy: 0.2857\n",
      "Epoch 67/200\n",
      "14/14 - 0s - loss: 2.3810 - accuracy: 0.2857\n",
      "Epoch 68/200\n",
      "14/14 - 0s - loss: 2.3792 - accuracy: 0.2857\n",
      "Epoch 69/200\n",
      "14/14 - 0s - loss: 2.3773 - accuracy: 0.2857\n",
      "Epoch 70/200\n",
      "14/14 - 0s - loss: 2.3754 - accuracy: 0.2857\n",
      "Epoch 71/200\n",
      "14/14 - 0s - loss: 2.3735 - accuracy: 0.2857\n",
      "Epoch 72/200\n",
      "14/14 - 0s - loss: 2.3716 - accuracy: 0.2857\n",
      "Epoch 73/200\n",
      "14/14 - 0s - loss: 2.3697 - accuracy: 0.2857\n",
      "Epoch 74/200\n",
      "14/14 - 0s - loss: 2.3678 - accuracy: 0.2857\n",
      "Epoch 75/200\n",
      "14/14 - 0s - loss: 2.3659 - accuracy: 0.2857\n",
      "Epoch 76/200\n",
      "14/14 - 0s - loss: 2.3640 - accuracy: 0.2857\n",
      "Epoch 77/200\n",
      "14/14 - 0s - loss: 2.3621 - accuracy: 0.2857\n",
      "Epoch 78/200\n",
      "14/14 - 0s - loss: 2.3602 - accuracy: 0.2857\n",
      "Epoch 79/200\n",
      "14/14 - 0s - loss: 2.3583 - accuracy: 0.2857\n",
      "Epoch 80/200\n",
      "14/14 - 0s - loss: 2.3564 - accuracy: 0.2857\n",
      "Epoch 81/200\n",
      "14/14 - 0s - loss: 2.3545 - accuracy: 0.2857\n",
      "Epoch 82/200\n",
      "14/14 - 0s - loss: 2.3526 - accuracy: 0.2857\n",
      "Epoch 83/200\n",
      "14/14 - 0s - loss: 2.3508 - accuracy: 0.2857\n",
      "Epoch 84/200\n",
      "14/14 - 0s - loss: 2.3489 - accuracy: 0.2857\n",
      "Epoch 85/200\n",
      "14/14 - 0s - loss: 2.3470 - accuracy: 0.2857\n",
      "Epoch 86/200\n",
      "14/14 - 0s - loss: 2.3451 - accuracy: 0.2857\n",
      "Epoch 87/200\n",
      "14/14 - 0s - loss: 2.3432 - accuracy: 0.2857\n",
      "Epoch 88/200\n",
      "14/14 - 0s - loss: 2.3413 - accuracy: 0.2857\n",
      "Epoch 89/200\n",
      "14/14 - 0s - loss: 2.3394 - accuracy: 0.2143\n",
      "Epoch 90/200\n",
      "14/14 - 0s - loss: 2.3375 - accuracy: 0.2143\n",
      "Epoch 91/200\n",
      "14/14 - 0s - loss: 2.3356 - accuracy: 0.2143\n",
      "Epoch 92/200\n",
      "14/14 - 0s - loss: 2.3337 - accuracy: 0.2143\n",
      "Epoch 93/200\n",
      "14/14 - 0s - loss: 2.3319 - accuracy: 0.2143\n",
      "Epoch 94/200\n",
      "14/14 - 0s - loss: 2.3300 - accuracy: 0.2143\n",
      "Epoch 95/200\n",
      "14/14 - 0s - loss: 2.3281 - accuracy: 0.2143\n",
      "Epoch 96/200\n",
      "14/14 - 0s - loss: 2.3262 - accuracy: 0.2143\n",
      "Epoch 97/200\n",
      "14/14 - 0s - loss: 2.3244 - accuracy: 0.2143\n",
      "Epoch 98/200\n",
      "14/14 - 0s - loss: 2.3225 - accuracy: 0.2143\n",
      "Epoch 99/200\n",
      "14/14 - 0s - loss: 2.3206 - accuracy: 0.2143\n",
      "Epoch 100/200\n",
      "14/14 - 0s - loss: 2.3187 - accuracy: 0.2143\n",
      "Epoch 101/200\n",
      "14/14 - 0s - loss: 2.3169 - accuracy: 0.2143\n",
      "Epoch 102/200\n",
      "14/14 - 0s - loss: 2.3150 - accuracy: 0.2143\n",
      "Epoch 103/200\n",
      "14/14 - 0s - loss: 2.3131 - accuracy: 0.2143\n",
      "Epoch 104/200\n",
      "14/14 - 0s - loss: 2.3112 - accuracy: 0.2143\n",
      "Epoch 105/200\n",
      "14/14 - 0s - loss: 2.3094 - accuracy: 0.2143\n",
      "Epoch 106/200\n",
      "14/14 - 0s - loss: 2.3075 - accuracy: 0.2143\n",
      "Epoch 107/200\n",
      "14/14 - 0s - loss: 2.3056 - accuracy: 0.2143\n",
      "Epoch 108/200\n",
      "14/14 - 0s - loss: 2.3037 - accuracy: 0.2143\n",
      "Epoch 109/200\n",
      "14/14 - 0s - loss: 2.3019 - accuracy: 0.2143\n",
      "Epoch 110/200\n",
      "14/14 - 0s - loss: 2.3000 - accuracy: 0.2143\n",
      "Epoch 111/200\n",
      "14/14 - 0s - loss: 2.2981 - accuracy: 0.2143\n",
      "Epoch 112/200\n",
      "14/14 - 0s - loss: 2.2962 - accuracy: 0.2143\n",
      "Epoch 113/200\n",
      "14/14 - 0s - loss: 2.2944 - accuracy: 0.2143\n",
      "Epoch 114/200\n",
      "14/14 - 0s - loss: 2.2925 - accuracy: 0.2143\n",
      "Epoch 115/200\n",
      "14/14 - 0s - loss: 2.2906 - accuracy: 0.2857\n",
      "Epoch 116/200\n",
      "14/14 - 0s - loss: 2.2887 - accuracy: 0.2857\n",
      "Epoch 117/200\n",
      "14/14 - 0s - loss: 2.2869 - accuracy: 0.2857\n",
      "Epoch 118/200\n",
      "14/14 - 0s - loss: 2.2850 - accuracy: 0.2857\n",
      "Epoch 119/200\n",
      "14/14 - 0s - loss: 2.2831 - accuracy: 0.2857\n",
      "Epoch 120/200\n",
      "14/14 - 0s - loss: 2.2812 - accuracy: 0.2857\n",
      "Epoch 121/200\n",
      "14/14 - 0s - loss: 2.2793 - accuracy: 0.2857\n",
      "Epoch 122/200\n",
      "14/14 - 0s - loss: 2.2774 - accuracy: 0.2857\n",
      "Epoch 123/200\n",
      "14/14 - 0s - loss: 2.2756 - accuracy: 0.2857\n",
      "Epoch 124/200\n",
      "14/14 - 0s - loss: 2.2737 - accuracy: 0.3571\n",
      "Epoch 125/200\n",
      "14/14 - 0s - loss: 2.2718 - accuracy: 0.3571\n",
      "Epoch 126/200\n",
      "14/14 - 0s - loss: 2.2699 - accuracy: 0.3571\n",
      "Epoch 127/200\n",
      "14/14 - 0s - loss: 2.2680 - accuracy: 0.3571\n",
      "Epoch 128/200\n",
      "14/14 - 0s - loss: 2.2661 - accuracy: 0.3571\n",
      "Epoch 129/200\n",
      "14/14 - 0s - loss: 2.2642 - accuracy: 0.3571\n",
      "Epoch 130/200\n",
      "14/14 - 0s - loss: 2.2623 - accuracy: 0.3571\n",
      "Epoch 131/200\n",
      "14/14 - 0s - loss: 2.2604 - accuracy: 0.3571\n",
      "Epoch 132/200\n",
      "14/14 - 0s - loss: 2.2586 - accuracy: 0.3571\n",
      "Epoch 133/200\n",
      "14/14 - 0s - loss: 2.2567 - accuracy: 0.3571\n",
      "Epoch 134/200\n",
      "14/14 - 0s - loss: 2.2548 - accuracy: 0.3571\n",
      "Epoch 135/200\n",
      "14/14 - 0s - loss: 2.2529 - accuracy: 0.3571\n",
      "Epoch 136/200\n",
      "14/14 - 0s - loss: 2.2510 - accuracy: 0.3571\n",
      "Epoch 137/200\n",
      "14/14 - 0s - loss: 2.2491 - accuracy: 0.3571\n",
      "Epoch 138/200\n",
      "14/14 - 0s - loss: 2.2472 - accuracy: 0.3571\n",
      "Epoch 139/200\n",
      "14/14 - 0s - loss: 2.2453 - accuracy: 0.3571\n",
      "Epoch 140/200\n",
      "14/14 - 0s - loss: 2.2434 - accuracy: 0.3571\n",
      "Epoch 141/200\n",
      "14/14 - 0s - loss: 2.2415 - accuracy: 0.3571\n"
     ]
    },
    {
     "name": "stdout",
     "output_type": "stream",
     "text": [
      "Epoch 142/200\n",
      "14/14 - 0s - loss: 2.2396 - accuracy: 0.3571\n",
      "Epoch 143/200\n",
      "14/14 - 0s - loss: 2.2377 - accuracy: 0.3571\n",
      "Epoch 144/200\n",
      "14/14 - 0s - loss: 2.2358 - accuracy: 0.3571\n",
      "Epoch 145/200\n",
      "14/14 - 0s - loss: 2.2339 - accuracy: 0.3571\n",
      "Epoch 146/200\n",
      "14/14 - 0s - loss: 2.2320 - accuracy: 0.3571\n",
      "Epoch 147/200\n",
      "14/14 - 0s - loss: 2.2301 - accuracy: 0.3571\n",
      "Epoch 148/200\n",
      "14/14 - 0s - loss: 2.2282 - accuracy: 0.3571\n",
      "Epoch 149/200\n",
      "14/14 - 0s - loss: 2.2263 - accuracy: 0.3571\n",
      "Epoch 150/200\n",
      "14/14 - 0s - loss: 2.2244 - accuracy: 0.3571\n",
      "Epoch 151/200\n",
      "14/14 - 0s - loss: 2.2225 - accuracy: 0.3571\n",
      "Epoch 152/200\n",
      "14/14 - 0s - loss: 2.2206 - accuracy: 0.3571\n",
      "Epoch 153/200\n",
      "14/14 - 0s - loss: 2.2187 - accuracy: 0.3571\n",
      "Epoch 154/200\n",
      "14/14 - 0s - loss: 2.2168 - accuracy: 0.3571\n",
      "Epoch 155/200\n",
      "14/14 - 0s - loss: 2.2149 - accuracy: 0.3571\n",
      "Epoch 156/200\n",
      "14/14 - 0s - loss: 2.2130 - accuracy: 0.3571\n",
      "Epoch 157/200\n",
      "14/14 - 0s - loss: 2.2111 - accuracy: 0.3571\n",
      "Epoch 158/200\n",
      "14/14 - 0s - loss: 2.2092 - accuracy: 0.3571\n",
      "Epoch 159/200\n",
      "14/14 - 0s - loss: 2.2074 - accuracy: 0.3571\n",
      "Epoch 160/200\n",
      "14/14 - 0s - loss: 2.2055 - accuracy: 0.3571\n",
      "Epoch 161/200\n",
      "14/14 - 0s - loss: 2.2036 - accuracy: 0.3571\n",
      "Epoch 162/200\n",
      "14/14 - 0s - loss: 2.2017 - accuracy: 0.3571\n",
      "Epoch 163/200\n",
      "14/14 - 0s - loss: 2.1998 - accuracy: 0.3571\n",
      "Epoch 164/200\n",
      "14/14 - 0s - loss: 2.1979 - accuracy: 0.3571\n",
      "Epoch 165/200\n",
      "14/14 - 0s - loss: 2.1960 - accuracy: 0.3571\n",
      "Epoch 166/200\n",
      "14/14 - 0s - loss: 2.1941 - accuracy: 0.3571\n",
      "Epoch 167/200\n",
      "14/14 - 0s - loss: 2.1923 - accuracy: 0.3571\n",
      "Epoch 168/200\n",
      "14/14 - 0s - loss: 2.1904 - accuracy: 0.2857\n",
      "Epoch 169/200\n",
      "14/14 - 0s - loss: 2.1885 - accuracy: 0.2857\n",
      "Epoch 170/200\n",
      "14/14 - 0s - loss: 2.1866 - accuracy: 0.2857\n",
      "Epoch 171/200\n",
      "14/14 - 0s - loss: 2.1847 - accuracy: 0.3571\n",
      "Epoch 172/200\n",
      "14/14 - 0s - loss: 2.1829 - accuracy: 0.3571\n",
      "Epoch 173/200\n",
      "14/14 - 0s - loss: 2.1810 - accuracy: 0.3571\n",
      "Epoch 174/200\n",
      "14/14 - 0s - loss: 2.1791 - accuracy: 0.3571\n",
      "Epoch 175/200\n",
      "14/14 - 0s - loss: 2.1773 - accuracy: 0.3571\n",
      "Epoch 176/200\n",
      "14/14 - 0s - loss: 2.1754 - accuracy: 0.3571\n",
      "Epoch 177/200\n",
      "14/14 - 0s - loss: 2.1735 - accuracy: 0.3571\n",
      "Epoch 178/200\n",
      "14/14 - 0s - loss: 2.1717 - accuracy: 0.3571\n",
      "Epoch 179/200\n",
      "14/14 - 0s - loss: 2.1698 - accuracy: 0.3571\n",
      "Epoch 180/200\n",
      "14/14 - 0s - loss: 2.1679 - accuracy: 0.3571\n",
      "Epoch 181/200\n",
      "14/14 - 0s - loss: 2.1661 - accuracy: 0.3571\n",
      "Epoch 182/200\n",
      "14/14 - 0s - loss: 2.1642 - accuracy: 0.3571\n",
      "Epoch 183/200\n",
      "14/14 - 0s - loss: 2.1624 - accuracy: 0.3571\n",
      "Epoch 184/200\n",
      "14/14 - 0s - loss: 2.1605 - accuracy: 0.3571\n",
      "Epoch 185/200\n",
      "14/14 - 0s - loss: 2.1586 - accuracy: 0.3571\n",
      "Epoch 186/200\n",
      "14/14 - 0s - loss: 2.1568 - accuracy: 0.3571\n",
      "Epoch 187/200\n",
      "14/14 - 0s - loss: 2.1549 - accuracy: 0.3571\n",
      "Epoch 188/200\n",
      "14/14 - 0s - loss: 2.1531 - accuracy: 0.3571\n",
      "Epoch 189/200\n",
      "14/14 - 0s - loss: 2.1513 - accuracy: 0.3571\n",
      "Epoch 190/200\n",
      "14/14 - 0s - loss: 2.1494 - accuracy: 0.3571\n",
      "Epoch 191/200\n",
      "14/14 - 0s - loss: 2.1476 - accuracy: 0.3571\n",
      "Epoch 192/200\n",
      "14/14 - 0s - loss: 2.1457 - accuracy: 0.3571\n",
      "Epoch 193/200\n",
      "14/14 - 0s - loss: 2.1439 - accuracy: 0.3571\n",
      "Epoch 194/200\n",
      "14/14 - 0s - loss: 2.1421 - accuracy: 0.3571\n",
      "Epoch 195/200\n",
      "14/14 - 0s - loss: 2.1402 - accuracy: 0.3571\n",
      "Epoch 196/200\n",
      "14/14 - 0s - loss: 2.1384 - accuracy: 0.3571\n",
      "Epoch 197/200\n",
      "14/14 - 0s - loss: 2.1366 - accuracy: 0.3571\n",
      "Epoch 198/200\n",
      "14/14 - 0s - loss: 2.1347 - accuracy: 0.3571\n",
      "Epoch 199/200\n",
      "14/14 - 0s - loss: 2.1329 - accuracy: 0.3571\n",
      "Epoch 200/200\n",
      "14/14 - 0s - loss: 2.1311 - accuracy: 0.3571\n"
     ]
    },
    {
     "data": {
      "text/plain": [
       "<tensorflow.python.keras.callbacks.History at 0x1c3a362e320>"
      ]
     },
     "execution_count": 59,
     "metadata": {},
     "output_type": "execute_result"
    }
   ],
   "source": [
    "model.fit(X, y, epochs=200, verbose=2)"
   ]
  },
  {
   "cell_type": "markdown",
   "metadata": {},
   "source": [
    "학습이 완료됐으니 **테스트**를 해보자"
   ]
  },
  {
   "cell_type": "code",
   "execution_count": 60,
   "metadata": {},
   "outputs": [
    {
     "data": {
      "text/plain": [
       "['말이']"
      ]
     },
     "execution_count": 60,
     "metadata": {},
     "output_type": "execute_result"
    }
   ],
   "source": [
    "sample = t.texts_to_sequences(['말이'])\n",
    "sample = pad_sequences(sample, maxlen=max_len -1)\n",
    "pred_id = np.argmax(model.predict(sample))\n",
    "t.sequences_to_texts([[pred_id]])"
   ]
  }
 ],
 "metadata": {
  "kernelspec": {
   "display_name": "Python 3",
   "language": "python",
   "name": "python3"
  },
  "language_info": {
   "codemirror_mode": {
    "name": "ipython",
    "version": 3
   },
   "file_extension": ".py",
   "mimetype": "text/x-python",
   "name": "python",
   "nbconvert_exporter": "python",
   "pygments_lexer": "ipython3",
   "version": "3.6.9"
  }
 },
 "nbformat": 4,
 "nbformat_minor": 2
}
