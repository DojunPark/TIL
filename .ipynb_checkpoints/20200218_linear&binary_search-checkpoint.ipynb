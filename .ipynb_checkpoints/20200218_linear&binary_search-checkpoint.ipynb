{
 "cells": [
  {
   "cell_type": "markdown",
   "metadata": {},
   "source": [
    "# 선형 탐색\n",
    "- input으로 입력 받은 list에서 element의 인덱스 번호를 출력\n",
    "- 없을 경우 None을 return"
   ]
  },
  {
   "cell_type": "code",
   "execution_count": 1,
   "metadata": {},
   "outputs": [],
   "source": [
    "def linear_search(list, element):\n",
    "    for i in range(len(list)):\n",
    "        if list[i] == element:\n",
    "            return i\n",
    "    return None"
   ]
  },
  {
   "cell_type": "code",
   "execution_count": 2,
   "metadata": {},
   "outputs": [
    {
     "data": {
      "text/plain": [
       "5"
      ]
     },
     "execution_count": 2,
     "metadata": {},
     "output_type": "execute_result"
    }
   ],
   "source": [
    "samples = [1, 2, 3, 4, 5, 10, 20, 30, 40]\n",
    "linear_search(samples, 10)"
   ]
  },
  {
   "cell_type": "code",
   "execution_count": 6,
   "metadata": {},
   "outputs": [],
   "source": [
    "linear_search(samples, 15)"
   ]
  },
  {
   "cell_type": "markdown",
   "metadata": {},
   "source": [
    "# 이진 탐색"
   ]
  },
  {
   "cell_type": "code",
   "execution_count": 23,
   "metadata": {},
   "outputs": [],
   "source": [
    "def binary_search(list, element):\n",
    "    start = 0\n",
    "    end = len(list)-1\n",
    "    middle = (start + end) // 2\n",
    "    \n",
    "    while True:\n",
    "        if list[middle] == element:\n",
    "            return middle\n",
    "        elif element < list[middle]:\n",
    "            end = middle - 1\n",
    "        elif list[middle] < element:\n",
    "            start = middle + 1\n",
    "    \n",
    "    return None"
   ]
  },
  {
   "cell_type": "code",
   "execution_count": 24,
   "metadata": {},
   "outputs": [
    {
     "ename": "KeyboardInterrupt",
     "evalue": "",
     "output_type": "error",
     "traceback": [
      "\u001b[1;31m---------------------------------------------------------------------------\u001b[0m",
      "\u001b[1;31mKeyboardInterrupt\u001b[0m                         Traceback (most recent call last)",
      "\u001b[1;32m<ipython-input-24-73bfff73acc9>\u001b[0m in \u001b[0;36m<module>\u001b[1;34m\u001b[0m\n\u001b[0;32m      1\u001b[0m \u001b[0msamples\u001b[0m \u001b[1;33m=\u001b[0m \u001b[1;33m[\u001b[0m\u001b[1;36m1\u001b[0m\u001b[1;33m,\u001b[0m \u001b[1;36m2\u001b[0m\u001b[1;33m,\u001b[0m \u001b[1;36m3\u001b[0m\u001b[1;33m,\u001b[0m \u001b[1;36m4\u001b[0m\u001b[1;33m,\u001b[0m \u001b[1;36m5\u001b[0m\u001b[1;33m,\u001b[0m \u001b[1;36m10\u001b[0m\u001b[1;33m,\u001b[0m \u001b[1;36m20\u001b[0m\u001b[1;33m,\u001b[0m \u001b[1;36m30\u001b[0m\u001b[1;33m,\u001b[0m \u001b[1;36m40\u001b[0m\u001b[1;33m]\u001b[0m\u001b[1;33m\u001b[0m\u001b[1;33m\u001b[0m\u001b[0m\n\u001b[1;32m----> 2\u001b[1;33m \u001b[0mbinary_search\u001b[0m\u001b[1;33m(\u001b[0m\u001b[0msamples\u001b[0m\u001b[1;33m,\u001b[0m \u001b[1;36m20\u001b[0m\u001b[1;33m)\u001b[0m\u001b[1;33m\u001b[0m\u001b[1;33m\u001b[0m\u001b[0m\n\u001b[0m",
      "\u001b[1;32m<ipython-input-23-c45221cc2c7e>\u001b[0m in \u001b[0;36mbinary_search\u001b[1;34m(list, element)\u001b[0m\n\u001b[0;32m      9\u001b[0m         \u001b[1;32melif\u001b[0m \u001b[0melement\u001b[0m \u001b[1;33m<\u001b[0m \u001b[0mlist\u001b[0m\u001b[1;33m[\u001b[0m\u001b[0mmiddle\u001b[0m\u001b[1;33m]\u001b[0m\u001b[1;33m:\u001b[0m\u001b[1;33m\u001b[0m\u001b[1;33m\u001b[0m\u001b[0m\n\u001b[0;32m     10\u001b[0m             \u001b[0mend\u001b[0m \u001b[1;33m=\u001b[0m \u001b[0mmiddle\u001b[0m \u001b[1;33m-\u001b[0m \u001b[1;36m1\u001b[0m\u001b[1;33m\u001b[0m\u001b[1;33m\u001b[0m\u001b[0m\n\u001b[1;32m---> 11\u001b[1;33m         \u001b[1;32melif\u001b[0m \u001b[0mlist\u001b[0m\u001b[1;33m[\u001b[0m\u001b[0mmiddle\u001b[0m\u001b[1;33m]\u001b[0m \u001b[1;33m<\u001b[0m \u001b[0melement\u001b[0m\u001b[1;33m:\u001b[0m\u001b[1;33m\u001b[0m\u001b[1;33m\u001b[0m\u001b[0m\n\u001b[0m\u001b[0;32m     12\u001b[0m             \u001b[0mstart\u001b[0m \u001b[1;33m=\u001b[0m \u001b[0mmiddle\u001b[0m \u001b[1;33m+\u001b[0m \u001b[1;36m1\u001b[0m\u001b[1;33m\u001b[0m\u001b[1;33m\u001b[0m\u001b[0m\n\u001b[0;32m     13\u001b[0m \u001b[1;33m\u001b[0m\u001b[0m\n",
      "\u001b[1;31mKeyboardInterrupt\u001b[0m: "
     ]
    }
   ],
   "source": [
    "samples = [1, 2, 3, 4, 5, 10, 20, 30, 40]\n",
    "binary_search(samples, 20)"
   ]
  },
  {
   "cell_type": "code",
   "execution_count": 25,
   "metadata": {},
   "outputs": [],
   "source": [
    "def binary_search(list, element):\n",
    "    start = 0\n",
    "    end = len(list)-1\n",
    "    \n",
    "    while True:\n",
    "        middle = (start + end) // 2\n",
    "        \n",
    "        if list[middle] == element:\n",
    "            return middle\n",
    "        elif element < list[middle]:\n",
    "            end = middle - 1\n",
    "        elif list[middle] < element:\n",
    "            start = middle + 1\n",
    "    \n",
    "    return None"
   ]
  },
  {
   "cell_type": "code",
   "execution_count": 27,
   "metadata": {},
   "outputs": [
    {
     "data": {
      "text/plain": [
       "6"
      ]
     },
     "execution_count": 27,
     "metadata": {},
     "output_type": "execute_result"
    }
   ],
   "source": [
    "samples = [1, 2, 3, 4, 5, 10, 20, 30, 40]\n",
    "binary_search(samples, 20)"
   ]
  },
  {
   "cell_type": "markdown",
   "metadata": {},
   "source": [
    "# 다시"
   ]
  },
  {
   "cell_type": "code",
   "execution_count": 9,
   "metadata": {},
   "outputs": [],
   "source": [
    "def linear_search(list, element):\n",
    "    for i in range(len(list)):\n",
    "        if list[i] == element:\n",
    "            return i\n",
    "    return None"
   ]
  },
  {
   "cell_type": "code",
   "execution_count": 10,
   "metadata": {},
   "outputs": [
    {
     "data": {
      "text/plain": [
       "4"
      ]
     },
     "execution_count": 10,
     "metadata": {},
     "output_type": "execute_result"
    }
   ],
   "source": [
    "values = [1, 2, 3, 4, 5, 10]\n",
    "linear_search(values, 5)"
   ]
  },
  {
   "cell_type": "code",
   "execution_count": 11,
   "metadata": {},
   "outputs": [],
   "source": [
    "linear_search(values, 6)"
   ]
  },
  {
   "cell_type": "code",
   "execution_count": 28,
   "metadata": {},
   "outputs": [],
   "source": [
    "def binary_search(list, element):\n",
    "    start = 0\n",
    "    end = len(list) - 1\n",
    "    \n",
    "    while start <= end:\n",
    "        middle = (start + end) // 2\n",
    "        \n",
    "        if list[middle] == element:\n",
    "            return middle\n",
    "        elif element < list[middle]:\n",
    "            end = middle - 1\n",
    "        elif list[middle] < element:\n",
    "            start = middle + 1\n",
    "    \n",
    "    return None"
   ]
  },
  {
   "cell_type": "code",
   "execution_count": 30,
   "metadata": {},
   "outputs": [],
   "source": [
    "values = [1, 2, 3, 4, 5, 10]\n",
    "binary_search(values, 6)"
   ]
  },
  {
   "cell_type": "markdown",
   "metadata": {},
   "source": [
    "# 선형 탐색"
   ]
  },
  {
   "cell_type": "code",
   "execution_count": 31,
   "metadata": {},
   "outputs": [],
   "source": [
    "def linear_search(list, element):\n",
    "    for i in range(len(list)):\n",
    "        if list[i] == element:\n",
    "            return i\n",
    "    return None"
   ]
  },
  {
   "cell_type": "code",
   "execution_count": 32,
   "metadata": {},
   "outputs": [
    {
     "data": {
      "text/plain": [
       "3"
      ]
     },
     "execution_count": 32,
     "metadata": {},
     "output_type": "execute_result"
    }
   ],
   "source": [
    "ls_value = [1, 2, 3, 11, 22, 33, 100]\n",
    "linear_search(ls_value, 11)"
   ]
  },
  {
   "cell_type": "code",
   "execution_count": 33,
   "metadata": {},
   "outputs": [],
   "source": [
    "linear_search(ls_value, 12)"
   ]
  },
  {
   "cell_type": "markdown",
   "metadata": {},
   "source": [
    "# 이진 탐색"
   ]
  },
  {
   "cell_type": "code",
   "execution_count": 34,
   "metadata": {},
   "outputs": [],
   "source": [
    "def binary_search(list, element):\n",
    "    start = 0\n",
    "    end = len(list) - 1\n",
    "    \n",
    "    while start <= end:\n",
    "        middle = (start + end) // 2\n",
    "        \n",
    "        if list[middle] == element:\n",
    "            return middle\n",
    "        \n",
    "        elif list[middle] > element:\n",
    "            end = middle - 1\n",
    "            \n",
    "        elif list[middle] < element:\n",
    "            start = middle + 1\n",
    "            \n",
    "    return None"
   ]
  },
  {
   "cell_type": "code",
   "execution_count": 35,
   "metadata": {},
   "outputs": [
    {
     "data": {
      "text/plain": [
       "3"
      ]
     },
     "execution_count": 35,
     "metadata": {},
     "output_type": "execute_result"
    }
   ],
   "source": [
    "ls_value = [1, 2, 3, 11, 22, 33, 100]\n",
    "binary_search(ls_value, 11)"
   ]
  },
  {
   "cell_type": "code",
   "execution_count": 38,
   "metadata": {},
   "outputs": [],
   "source": [
    "def binary_search(list, element):\n",
    "    start = 0\n",
    "    end = len(list) - 1\n",
    "    \n",
    "    while start <= end:\n",
    "        middle = (start + end) // 2\n",
    "        \n",
    "        if list[middle] == element:\n",
    "            return middle\n",
    "        \n",
    "        elif element < list[middle]:\n",
    "            end = middle - 1\n",
    "        \n",
    "        elif list[middle] < element:\n",
    "            start = middle + 1\n",
    "        \n",
    "    return None"
   ]
  },
  {
   "cell_type": "code",
   "execution_count": 39,
   "metadata": {},
   "outputs": [
    {
     "data": {
      "text/plain": [
       "3"
      ]
     },
     "execution_count": 39,
     "metadata": {},
     "output_type": "execute_result"
    }
   ],
   "source": [
    "ls_value = [1, 2, 3, 11, 22, 33, 100]\n",
    "binary_search(ls_value, 11)"
   ]
  },
  {
   "cell_type": "markdown",
   "metadata": {},
   "source": [
    "# 비교하기\n",
    "- 10000번 반복하여 평균값을 출력\n",
    "- 이 과정을 10번 반복함"
   ]
  },
  {
   "cell_type": "markdown",
   "metadata": {},
   "source": [
    "1. 선형 탐색"
   ]
  },
  {
   "cell_type": "code",
   "execution_count": 44,
   "metadata": {},
   "outputs": [
    {
     "name": "stdout",
     "output_type": "stream",
     "text": [
      "5.5189\n",
      "5.4972\n",
      "5.5174\n",
      "5.4727\n",
      "5.4653\n",
      "5.4915\n",
      "5.496\n",
      "5.4638\n",
      "5.5153\n",
      "5.5063\n",
      "total average:  5.494440000000001\n"
     ]
    }
   ],
   "source": [
    "import random\n",
    "\n",
    "numbers = [1, 4, 8, 12, 16, 26, 27, 31, 49, 50]\n",
    "\n",
    "total = 0\n",
    "for _ in range(10):\n",
    "    \n",
    "    cnt = 0\n",
    "    for _ in range(10000):\n",
    "        \n",
    "        r = random.randint(0, 9)\n",
    "        for i in range(len(numbers)):\n",
    "            cnt += 1\n",
    "            if numbers[i] == numbers[r]:\n",
    "                break\n",
    "    \n",
    "    average = cnt / 10000\n",
    "    total += average\n",
    "    print(average)\n",
    "\n",
    "total_average = total / 10\n",
    "print('total average: ', total_average)"
   ]
  },
  {
   "cell_type": "markdown",
   "metadata": {},
   "source": [
    "2. 이진 탐색"
   ]
  },
  {
   "cell_type": "code",
   "execution_count": 46,
   "metadata": {},
   "outputs": [
    {
     "name": "stdout",
     "output_type": "stream",
     "text": [
      "2.8865\n",
      "2.9014\n",
      "2.905\n",
      "2.8892\n",
      "2.8999\n",
      "2.8967\n",
      "2.9062\n",
      "2.8863\n",
      "2.8875\n",
      "2.896\n",
      "total average:  2.89547\n"
     ]
    }
   ],
   "source": [
    "import random\n",
    "\n",
    "numbers = [1, 4, 8, 12, 16, 26, 27, 31, 49, 50]\n",
    "\n",
    "total = 0\n",
    "for _ in range(10):\n",
    "    \n",
    "    cnt = 0\n",
    "    for _ in range(10000):\n",
    "        r = random.randint(0, 9)\n",
    "        start = 0\n",
    "        end = len(numbers) - 1\n",
    "        \n",
    "        while start <= end:\n",
    "            cnt += 1\n",
    "            mid = (start + end) // 2\n",
    "            \n",
    "            if numbers[mid] == numbers[r]:\n",
    "                break\n",
    "            elif numbers[mid] > numbers[r]:\n",
    "                end = mid - 1\n",
    "            elif numbers[mid] < numbers[r]:\n",
    "                start = mid + 1\n",
    "    \n",
    "    average = cnt / 10000\n",
    "    total += average\n",
    "    print(average)\n",
    "    \n",
    "total_average = total / 10\n",
    "print('total average: ', total_average)"
   ]
  },
  {
   "cell_type": "markdown",
   "metadata": {},
   "source": [
    "# ALL AGAIN"
   ]
  },
  {
   "cell_type": "markdown",
   "metadata": {},
   "source": [
    "- make a linear search function"
   ]
  },
  {
   "cell_type": "code",
   "execution_count": 47,
   "metadata": {},
   "outputs": [],
   "source": [
    "def linear_search(list, value):\n",
    "    for i in range(len(list)):\n",
    "        if list[i] == value:\n",
    "            return i\n",
    "    return None"
   ]
  },
  {
   "cell_type": "code",
   "execution_count": 48,
   "metadata": {},
   "outputs": [
    {
     "name": "stdout",
     "output_type": "stream",
     "text": [
      "4\n",
      "None\n"
     ]
    }
   ],
   "source": [
    "samples = [1, 2, 5, 10, 20, 100]\n",
    "\n",
    "print(linear_search(samples, 20))\n",
    "print(linear_search(samples, 21))"
   ]
  },
  {
   "cell_type": "markdown",
   "metadata": {},
   "source": [
    "- make a binary search function"
   ]
  },
  {
   "cell_type": "code",
   "execution_count": 49,
   "metadata": {},
   "outputs": [],
   "source": [
    "def binary_search(list, element):\n",
    "    start = 0\n",
    "    end = len(list) - 1\n",
    "    \n",
    "    while start <= end:\n",
    "        mid = (start + end) // 2\n",
    "        \n",
    "        if list[mid] == element:\n",
    "            return mid\n",
    "        elif list[mid] > element:\n",
    "            end = mid - 1\n",
    "        elif list[mid] < element:\n",
    "            start = mid + 1\n",
    "    \n",
    "    return None"
   ]
  },
  {
   "cell_type": "code",
   "execution_count": 50,
   "metadata": {},
   "outputs": [
    {
     "name": "stdout",
     "output_type": "stream",
     "text": [
      "4\n",
      "None\n"
     ]
    }
   ],
   "source": [
    "samples = [1, 2, 5, 10, 20, 100]\n",
    "\n",
    "print(binary_search(samples, 20))\n",
    "print(binary_search(samples, 21))"
   ]
  },
  {
   "cell_type": "markdown",
   "metadata": {},
   "source": [
    "- get average count using linear search"
   ]
  },
  {
   "cell_type": "code",
   "execution_count": 51,
   "metadata": {},
   "outputs": [
    {
     "name": "stdout",
     "output_type": "stream",
     "text": [
      "5.5032\n",
      "5.5097\n",
      "5.4752\n",
      "5.4575\n",
      "5.5345\n",
      "5.5526\n",
      "5.5129\n",
      "5.5362\n",
      "5.5114\n",
      "5.4772\n"
     ]
    }
   ],
   "source": [
    "import random\n",
    "\n",
    "samples = [1, 5, 10, 60, 71, 78, 85, 88, 90, 100]\n",
    "\n",
    "for _ in range(10):\n",
    "    \n",
    "    cnt = 0\n",
    "    for _ in range(10000):\n",
    "        r = random.randint(0, 9)\n",
    "        for i in range(len(samples)):\n",
    "            cnt += 1\n",
    "            if samples[i] == samples[r]:\n",
    "                break\n",
    "    print(cnt / 10000)"
   ]
  },
  {
   "cell_type": "markdown",
   "metadata": {},
   "source": [
    "- get average count using binary search"
   ]
  },
  {
   "cell_type": "code",
   "execution_count": 52,
   "metadata": {},
   "outputs": [
    {
     "name": "stdout",
     "output_type": "stream",
     "text": [
      "2.899\n",
      "2.9026\n",
      "2.8886\n",
      "2.8996\n",
      "2.9146\n",
      "2.8957\n",
      "2.8863\n",
      "2.922\n",
      "2.8955\n",
      "2.8988\n"
     ]
    }
   ],
   "source": [
    "import random\n",
    "\n",
    "samples = [1, 5, 10, 60, 71, 78, 85, 88, 90, 100]\n",
    "\n",
    "for _ in range(10):\n",
    "    \n",
    "    cnt = 0\n",
    "    for _ in range(10000):\n",
    "        start = 0\n",
    "        end = len(samples) - 1\n",
    "        r = random.randint(0, 9)\n",
    "        \n",
    "        while start <= end:\n",
    "            cnt += 1\n",
    "            mid = (start + end) // 2\n",
    "            \n",
    "            if samples[mid] == samples[r]:\n",
    "                break\n",
    "            elif samples[mid] > samples[r]:\n",
    "                end = mid - 1\n",
    "            elif samples[mid] < samples[r]:\n",
    "                start = mid + 1\n",
    "    \n",
    "    print(cnt / 10000)"
   ]
  }
 ],
 "metadata": {
  "kernelspec": {
   "display_name": "Python 3",
   "language": "python",
   "name": "python3"
  },
  "language_info": {
   "codemirror_mode": {
    "name": "ipython",
    "version": 3
   },
   "file_extension": ".py",
   "mimetype": "text/x-python",
   "name": "python",
   "nbconvert_exporter": "python",
   "pygments_lexer": "ipython3",
   "version": "3.6.9"
  }
 },
 "nbformat": 4,
 "nbformat_minor": 2
}
