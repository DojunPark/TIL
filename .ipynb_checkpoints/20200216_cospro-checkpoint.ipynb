{
 "cells": [
  {
   "cell_type": "code",
   "execution_count": 1,
   "metadata": {},
   "outputs": [],
   "source": [
    "def solution(scores):\n",
    "    grade_counter = [0 for _ in range(5)]\n",
    "    \n",
    "    for i in scores:\n",
    "        if i >= 85:\n",
    "            grade_counter[0] += 1\n",
    "        elif i >= 70:\n",
    "            grade_counter[1] += 1\n",
    "        elif i >= 55:\n",
    "            grade_counter[2] += 1\n",
    "        elif i >= 40:\n",
    "            grade_counter[3] += 1\n",
    "        else:\n",
    "            grade_counter[4] += 1\n",
    "    \n",
    "    return grade_counter"
   ]
  },
  {
   "cell_type": "code",
   "execution_count": 2,
   "metadata": {},
   "outputs": [],
   "source": [
    "def func_a(list):\n",
    "    counter = [0 for _ in range(1001)]\n",
    "    for i in list:\n",
    "        counter[i] += 1\n",
    "    return counter\n",
    "\n",
    "def func_b(list):\n",
    "    ret = 0\n",
    "    for i in list:\n",
    "        if ret < i:\n",
    "            ret = i\n",
    "    return ret\n",
    "\n",
    "def func_c(list):\n",
    "    ret = func_b(list)\n",
    "    for i in list:\n",
    "        if i < ret and i != 0:\n",
    "            ret = i\n",
    "    return ret\n",
    "\n",
    "def solution(list):\n",
    "    counter = func_a(list)\n",
    "    max_cnt = func_b(list)\n",
    "    min_cnt = func_c(list)\n",
    "    return max_cnt // min_cnt"
   ]
  },
  {
   "cell_type": "code",
   "execution_count": 3,
   "metadata": {},
   "outputs": [],
   "source": [
    "def solution(weight, k):\n",
    "    answer = 0\n",
    "    for w in weight:\n",
    "        if w > k:\n",
    "            answer += 1\n",
    "    return answer"
   ]
  },
  {
   "cell_type": "code",
   "execution_count": 4,
   "metadata": {},
   "outputs": [],
   "source": [
    "def solution(s):\n",
    "    answer = []\n",
    "    for c in s:\n",
    "        if '0' <= c <= '9':\n",
    "            n = ord('i') - ord(c)\n",
    "            c = chr(n)\n",
    "        answer.append(c)\n",
    "    return ''.join(answer)"
   ]
  },
  {
   "cell_type": "code",
   "execution_count": 5,
   "metadata": {},
   "outputs": [],
   "source": [
    "def solution(name_list):\n",
    "    answer = 0\n",
    "    for name in name_list:\n",
    "        for char in name:\n",
    "            if char.find('A') > -1 or char.find('K') > -1:\n",
    "                answer += 1\n",
    "                break\n",
    "    return answer"
   ]
  },
  {
   "cell_type": "code",
   "execution_count": 6,
   "metadata": {},
   "outputs": [],
   "source": [
    "def sum_isbn(isbn):\n",
    "    sum = 0\n",
    "    for i in range(len(isbn)):\n",
    "        c = int(isbn[i])\n",
    "        if i % 2:\n",
    "            w = 3\n",
    "        else:\n",
    "            w = 1\n",
    "        sum += w * c\n",
    "    return sum\n",
    "\n",
    "def solution(isbn):\n",
    "    answer = ''\n",
    "    sum = sum_isbn(isbn[:-1])\n",
    "    r = 10 - (sum % 10)\n",
    "    \n",
    "    if r == 10:\n",
    "        answer = '0'\n",
    "    else:\n",
    "        answer = str(r)\n",
    "        \n",
    "    return answer"
   ]
  },
  {
   "cell_type": "code",
   "execution_count": 7,
   "metadata": {},
   "outputs": [],
   "source": [
    "def func_a(arr):\n",
    "    total = 0\n",
    "    for i in arr:\n",
    "        total += i\n",
    "    return total\n",
    "\n",
    "def solution(total, arr):\n",
    "    result = []\n",
    "    req_total = func_a(arr)\n",
    "    for i in arr:\n",
    "        if req_total > total:\n",
    "            result.append(total // len(arr))\n",
    "        else:\n",
    "            result.append(i)\n",
    "    return result"
   ]
  },
  {
   "cell_type": "code",
   "execution_count": 8,
   "metadata": {},
   "outputs": [],
   "source": [
    "def solution(table):\n",
    "    answer = 0\n",
    "    max = 0\n",
    "    for i in range(1, len(table)):\n",
    "        sum = 0\n",
    "        for k in range(5):\n",
    "            if table[0][k] == table[i][k]:\n",
    "                sum += 1\n",
    "        if max < sum:\n",
    "            max = sum\n",
    "            answer = i\n",
    "    return answer"
   ]
  },
  {
   "cell_type": "code",
   "execution_count": 9,
   "metadata": {},
   "outputs": [],
   "source": [
    "def solution(walls):\n",
    "    hours = 1\n",
    "    painted = 0\n",
    "    while painted < walls:\n",
    "        painted = hours + hours/2 + hours/4\n",
    "        hours += 1\n",
    "    answer = hours - 1\n",
    "    return answer"
   ]
  },
  {
   "cell_type": "code",
   "execution_count": 10,
   "metadata": {},
   "outputs": [],
   "source": [
    "def solution(mho_cards, mhe_cards):\n",
    "    mho = 0\n",
    "    mhe = 0\n",
    "    for i in range(len(mhe_cards)):\n",
    "        if mho_card[i] > mhe_cards[i]:\n",
    "            mho += 1\n",
    "        elif mho_card[i] < mhe_cards[i]:\n",
    "            mhe += 1\n",
    "        \n",
    "    if mho > mhe:\n",
    "        result = 1\n",
    "    elif mho < mhe:\n",
    "        result = 0\n",
    "    else:\n",
    "        result = -1\n",
    "    \n",
    "    return result"
   ]
  },
  {
   "cell_type": "code",
   "execution_count": 11,
   "metadata": {},
   "outputs": [],
   "source": [
    "def solution(string):\n",
    "    answer = 0\n",
    "    number = 0\n",
    "    s = string + ''\n",
    "    for c in s:\n",
    "        if '0' <= c <= '9':\n",
    "            number = number * 10 + int(c)\n",
    "        else:\n",
    "            answer += number\n",
    "            number = 0\n",
    "    return number"
   ]
  },
  {
   "cell_type": "code",
   "execution_count": 12,
   "metadata": {},
   "outputs": [],
   "source": [
    "def solution(string, key):\n",
    "    answer = 0\n",
    "    cnt = 0\n",
    "    for k in key:\n",
    "        for s in string:\n",
    "            if k == s:\n",
    "                cnt += 1\n",
    "                break\n",
    "    if cnt >= len(key):\n",
    "        answer = 1\n",
    "    return answer"
   ]
  },
  {
   "cell_type": "code",
   "execution_count": 13,
   "metadata": {},
   "outputs": [],
   "source": [
    "def solution(scores):\n",
    "    result = [0, 0, 0, 0]\n",
    "    for i in range(4):\n",
    "        for k in range(4):\n",
    "            if i != k:\n",
    "                result[i] += scores[i][k] * 2\n",
    "    return result"
   ]
  },
  {
   "cell_type": "code",
   "execution_count": 14,
   "metadata": {},
   "outputs": [],
   "source": [
    "def solution(strings):\n",
    "    total = 0\n",
    "    for string in strings:\n",
    "        total += len(string) // 4\n",
    "        if len(string) % 4 != 0:\n",
    "            total += 1\n",
    "    return total"
   ]
  },
  {
   "cell_type": "code",
   "execution_count": 15,
   "metadata": {},
   "outputs": [],
   "source": [
    "def solution(student):\n",
    "    result = 0\n",
    "    total = 0\n",
    "    for i in student:\n",
    "        total += i\n",
    "    result = total // 12\n",
    "    if total % 12 != 0:\n",
    "        total += 1\n",
    "    return result"
   ]
  },
  {
   "cell_type": "code",
   "execution_count": 16,
   "metadata": {},
   "outputs": [],
   "source": [
    "def solution(arr):\n",
    "    answer = [0, 0, 0]\n",
    "    for i in range(3):\n",
    "        for k in range(4):\n",
    "            answer[i] += arr[i*4+k]\n",
    "    return answer"
   ]
  },
  {
   "cell_type": "code",
   "execution_count": 17,
   "metadata": {},
   "outputs": [],
   "source": [
    "def solution(input):\n",
    "    answer = 0\n",
    "    x = 0\n",
    "    y = 0\n",
    "    for i in input:\n",
    "        if i == 'w':\n",
    "            y -= 1\n",
    "        elif i == 's':\n",
    "            y += 1\n",
    "        elif i == 'a':\n",
    "            x -= 1\n",
    "        elif i == 'd':\n",
    "            x += 1\n",
    "        if x == y:\n",
    "            answer += 1\n",
    "    return answer"
   ]
  },
  {
   "cell_type": "code",
   "execution_count": 18,
   "metadata": {},
   "outputs": [],
   "source": [
    "def func_a(a):\n",
    "    total = 0\n",
    "    for i in a:\n",
    "        total += i\n",
    "    return total\n",
    "\n",
    "def func_b(a, b):\n",
    "    return a-b if a>b else b-a\n",
    "\n",
    "def func_c(a, b):\n",
    "    max_diff = 0\n",
    "    max_score = 0\n",
    "    for i in b:\n",
    "        diff = func_b(a, i)\n",
    "        if max_diff < diff:\n",
    "            max_diff = diff\n",
    "            max_score = i\n",
    "    return max_score\n",
    "\n",
    "def solution(scores):\n",
    "    total = func_a(scores)\n",
    "    avg = total // len(scores)\n",
    "    answer = func_c(avg, scores)\n",
    "    return answer"
   ]
  },
  {
   "cell_type": "code",
   "execution_count": 19,
   "metadata": {},
   "outputs": [],
   "source": [
    "def solution(arr, k):\n",
    "    answer = 0\n",
    "    for i in arr:\n",
    "        answer += i//k\n",
    "        if i % k != 0:\n",
    "            answer += 1\n",
    "    return answer"
   ]
  },
  {
   "cell_type": "code",
   "execution_count": 20,
   "metadata": {},
   "outputs": [],
   "source": [
    "def solution(positive, negative):\n",
    "    answer = [0, 0]\n",
    "    total = 0\n",
    "    p_sum = 0\n",
    "    n_sum = 0\n",
    "    for i in range(4):\n",
    "        for k in range(3):\n",
    "            total += positive[i][k] + negative[i][k]\n",
    "            p_sum += positive[i][k]\n",
    "            n_sum += negative[i][k]\n",
    "    answer[0] = int(p_sum / total * 100)\n",
    "    answer[1] = int(p_sum / total * 100)\n",
    "    \n",
    "    return answer"
   ]
  },
  {
   "cell_type": "code",
   "execution_count": 21,
   "metadata": {},
   "outputs": [],
   "source": [
    "def solution(arr):\n",
    "    answer = 0\n",
    "    energy = 40\n",
    "    for i in arr:\n",
    "        if energy < i:\n",
    "            energy = 40\n",
    "            answer += 1\n",
    "        energy -= i\n",
    "    return answer"
   ]
  },
  {
   "cell_type": "code",
   "execution_count": 22,
   "metadata": {},
   "outputs": [],
   "source": [
    "def solution(arr):\n",
    "    answer = 0\n",
    "    for i in range(len(arr)):\n",
    "        price = arr[i]\n",
    "        if (i+1) % 4 == 0:\n",
    "            price //= 2\n",
    "        answer += price\n",
    "    return answer"
   ]
  },
  {
   "cell_type": "code",
   "execution_count": 23,
   "metadata": {},
   "outputs": [],
   "source": [
    "def solution(word):\n",
    "    num2alpha = ['oqz', 'ij', 'abc', 'def', 'gh', 'kl', 'mn', 'prs', 'tuv', 'wxy']\n",
    "    answer = ''\n",
    "    for c in word:\n",
    "        for i in range(len(num2alpha)):\n",
    "            for a in num2alpha[i]:\n",
    "                if a == c:\n",
    "                    answer += str(i)\n",
    "                    break\n",
    "    return answer"
   ]
  },
  {
   "cell_type": "code",
   "execution_count": 24,
   "metadata": {},
   "outputs": [],
   "source": [
    "def func_a(a):\n",
    "    return ((a // 100) * 60) + (a % 100)\n",
    "\n",
    "def solution(arr):\n",
    "    answer = 0\n",
    "    min_a = func_a(2200)\n",
    "    for i in arr:\n",
    "        min_b = func_a(i)\n",
    "        elapsed_minute = min_a - min_b\n",
    "        answer += 1000 + (elapsed_minute//10) * 500\n",
    "    return answer"
   ]
  },
  {
   "cell_type": "code",
   "execution_count": 25,
   "metadata": {},
   "outputs": [],
   "source": [
    "def solution(down, up):\n",
    "    answer = 0\n",
    "    passenger = 0\n",
    "    n = len(down)\n",
    "    for i in range(n):\n",
    "        passenger += up[i] - down[i]\n",
    "        stand = passenger - 240\n",
    "        if stand < 0:\n",
    "            stand = 0\n",
    "        if stand > 0 and stand > answer:\n",
    "            answer = stand\n",
    "    return answer"
   ]
  },
  {
   "cell_type": "code",
   "execution_count": 26,
   "metadata": {},
   "outputs": [],
   "source": [
    "def func_a(a):\n",
    "    min = a[0]\n",
    "    for i in a:\n",
    "        if i < min:\n",
    "            min = i\n",
    "    return min\n",
    "\n",
    "def solution(price):\n",
    "    sales = [0 for _ in range(len(price))]\n",
    "    for i in price:\n",
    "        if i[0] < 5000:\n",
    "            percent = 0.25\n",
    "        elif i[0] < 15000:\n",
    "            percent = 0.20\n",
    "        elif i[0] < 100000:\n",
    "            percent = 0.15\n",
    "        else:\n",
    "            percent = 0.1\n",
    "        sales[i] = i[0] * percent * i[1]\n",
    "    return func_a(sales)"
   ]
  },
  {
   "cell_type": "code",
   "execution_count": 27,
   "metadata": {},
   "outputs": [],
   "source": [
    "def solution(wats, bill):\n",
    "    result = [0 for _ in range(8)]\n",
    "    unit_price = int(bill / wats[0]) + 1\n",
    "    for i in rnage(len(wats)-1):\n",
    "        result[i] = wats[i+1] * unit_price\n",
    "    return result"
   ]
  },
  {
   "cell_type": "code",
   "execution_count": 1,
   "metadata": {},
   "outputs": [],
   "source": [
    "def solution(shirt_sizes):\n",
    "    count = [0 for _ in range(6)]\n",
    "    \n",
    "    for size in shirt_sizes:\n",
    "        if size == 'XS':\n",
    "            count[0] += 1\n",
    "        elif size == 'S':\n",
    "            count[1] += 1\n",
    "        elif size == 'M':\n",
    "            count[2] += 1\n",
    "        elif size == 'L':\n",
    "            count[3] += 1\n",
    "        elif size == 'XL':\n",
    "            count[4] += 1\n",
    "        elif size == 'XXL':\n",
    "            count[5] += 1\n",
    "    \n",
    "    return count"
   ]
  },
  {
   "cell_type": "code",
   "execution_count": 2,
   "metadata": {},
   "outputs": [],
   "source": [
    "def solution(price, grade):\n",
    "    if grade == 'S':\n",
    "        payment = price * 0.95\n",
    "    elif grade == 'G':\n",
    "        payment = price * 0.90\n",
    "    elif grade == 'V':\n",
    "        payment = price * 0.85\n",
    "    return payment"
   ]
  },
  {
   "cell_type": "code",
   "execution_count": 4,
   "metadata": {},
   "outputs": [],
   "source": [
    "def func_a(month, day):\n",
    "    month_list = [31, 28, 31, 30, 31, 30, 31, 31, 30, 31, 30, 31]\n",
    "    total = 0\n",
    "    for i in range(month-1):\n",
    "        total += month_list[i]\n",
    "    total += day - 1\n",
    "    return total\n",
    "\n",
    "def solution(start_m, start_d, end_m, end_d):\n",
    "    start_days = func_a(start_m, start_d)\n",
    "    end_days = func_a(end_m, end_d)\n",
    "    return end_days - start_days"
   ]
  },
  {
   "cell_type": "code",
   "execution_count": 5,
   "metadata": {},
   "outputs": [],
   "source": [
    "def func_count(list):\n",
    "    count = [0 for _ in range(1000+1)]\n",
    "    for i in list:\n",
    "        count[i] += 1\n",
    "    return count\n",
    "\n",
    "def func_max(cnt_list):\n",
    "    max = 0\n",
    "    for i in cnt_list:\n",
    "        if i > max:\n",
    "            max = i\n",
    "    return max\n",
    "\n",
    "def func_min(cnt_list):\n",
    "    min = 101\n",
    "    for i in cnt_list:\n",
    "        if i < min and i != 0:\n",
    "            min = i\n",
    "    return min\n",
    "\n",
    "def solution(list):\n",
    "    ls_cnt = func_count(list)\n",
    "    max = func_max(ls_cnt)\n",
    "    min = func_min(ls_cnt)\n",
    "    return max // min"
   ]
  },
  {
   "cell_type": "code",
   "execution_count": 6,
   "metadata": {},
   "outputs": [],
   "source": [
    "def solution(list):\n",
    "    left, right = 0, len(list)-1\n",
    "    while left < right:\n",
    "        list[left], list[right] = list[right], list[left]\n",
    "        left += 1\n",
    "        right += 1\n",
    "    return list"
   ]
  },
  {
   "cell_type": "code",
   "execution_count": 7,
   "metadata": {},
   "outputs": [],
   "source": [
    "def solution(number):\n",
    "    list = [i for i in range(1, number+1)]\n",
    "    \n",
    "    for num in list:\n",
    "        num = str(num)\n",
    "        if '3' in num or '6' in num or '9' in num:\n",
    "            for char in num:\n",
    "                if char == '3' or char == '6' or char == '9':\n",
    "                    print('(clap)', end='')\n",
    "            print(' ', end='')\n",
    "        else:\n",
    "            print(num, end=' ')"
   ]
  },
  {
   "cell_type": "code",
   "execution_count": 8,
   "metadata": {},
   "outputs": [],
   "source": [
    "def solution(list):\n",
    "    cnt = 0\n",
    "    \n",
    "    for i in list:\n",
    "        if 650 <= i < 800:\n",
    "            cnt += 1\n",
    "    \n",
    "    return cnt"
   ]
  },
  {
   "cell_type": "code",
   "execution_count": 9,
   "metadata": {},
   "outputs": [],
   "source": [
    "def solution(sentence):\n",
    "    str = ''\n",
    "    for c in sentence:\n",
    "        if c != '.' and c != ' ':\n",
    "            str += c\n",
    "    \n",
    "    size = len(sentence)\n",
    "    for i in range(size//2):\n",
    "        if str[i] != str[size-1 -i]:\n",
    "            return False\n",
    "    return True"
   ]
  },
  {
   "cell_type": "code",
   "execution_count": 10,
   "metadata": {},
   "outputs": [],
   "source": [
    "def solution(sent):\n",
    "    result = sent[0]\n",
    "    for i in range(1, len(sent)):\n",
    "        if sent[i] != sent[i-1]:\n",
    "            result += sent[i]\n",
    "    return result"
   ]
  },
  {
   "cell_type": "code",
   "execution_count": 12,
   "metadata": {},
   "outputs": [],
   "source": [
    "def get_average(list):\n",
    "    total = 0\n",
    "    for i in list:\n",
    "        total += i\n",
    "    average = total / len(list)\n",
    "    return average\n",
    "\n",
    "def solution(list):\n",
    "    average = get_average(list)\n",
    "    \n",
    "    cnt = 0\n",
    "    for i in list:\n",
    "        if i < average:\n",
    "            cnt += 1\n",
    "    \n",
    "    return cnt"
   ]
  },
  {
   "cell_type": "code",
   "execution_count": 13,
   "metadata": {},
   "outputs": [],
   "source": [
    "def func(num):\n",
    "    sum = 0\n",
    "    for i in range(1, num+1):\n",
    "        sum += i\n",
    "    return sum\n",
    "\n",
    "def solution(a, b):\n",
    "    start = func(a-1)\n",
    "    end = func(b)\n",
    "    result = end - start\n",
    "    return result"
   ]
  },
  {
   "cell_type": "code",
   "execution_count": 14,
   "metadata": {},
   "outputs": [],
   "source": [
    "def get_max(list):\n",
    "    max = 0\n",
    "    for i in list:\n",
    "        if i > max:\n",
    "            max = i\n",
    "    return max\n",
    "\n",
    "def get_min(list):\n",
    "    min = 101\n",
    "    for i in list:\n",
    "        if i < min and i != 0:\n",
    "            min = i\n",
    "    return min\n",
    "\n",
    "def get_sum(list):\n",
    "    sum = 0\n",
    "    for i in list:\n",
    "        sum += 1\n",
    "    return sum\n",
    "\n",
    "def solution(list):\n",
    "    sum = get_sum(list)\n",
    "    max = get_max(list)\n",
    "    min = get_min(list)\n",
    "    return sum - max - min"
   ]
  },
  {
   "cell_type": "code",
   "execution_count": null,
   "metadata": {},
   "outputs": [],
   "source": []
  },
  {
   "cell_type": "code",
   "execution_count": null,
   "metadata": {},
   "outputs": [],
   "source": []
  },
  {
   "cell_type": "code",
   "execution_count": null,
   "metadata": {},
   "outputs": [],
   "source": []
  },
  {
   "cell_type": "code",
   "execution_count": null,
   "metadata": {},
   "outputs": [],
   "source": []
  },
  {
   "cell_type": "code",
   "execution_count": null,
   "metadata": {},
   "outputs": [],
   "source": []
  },
  {
   "cell_type": "code",
   "execution_count": null,
   "metadata": {},
   "outputs": [],
   "source": []
  },
  {
   "cell_type": "code",
   "execution_count": null,
   "metadata": {},
   "outputs": [],
   "source": []
  },
  {
   "cell_type": "code",
   "execution_count": null,
   "metadata": {},
   "outputs": [],
   "source": []
  },
  {
   "cell_type": "code",
   "execution_count": null,
   "metadata": {},
   "outputs": [],
   "source": []
  },
  {
   "cell_type": "code",
   "execution_count": null,
   "metadata": {},
   "outputs": [],
   "source": []
  },
  {
   "cell_type": "code",
   "execution_count": null,
   "metadata": {},
   "outputs": [],
   "source": []
  },
  {
   "cell_type": "code",
   "execution_count": null,
   "metadata": {},
   "outputs": [],
   "source": []
  },
  {
   "cell_type": "code",
   "execution_count": null,
   "metadata": {},
   "outputs": [],
   "source": []
  }
 ],
 "metadata": {
  "kernelspec": {
   "display_name": "Python 3",
   "language": "python",
   "name": "python3"
  },
  "language_info": {
   "codemirror_mode": {
    "name": "ipython",
    "version": 3
   },
   "file_extension": ".py",
   "mimetype": "text/x-python",
   "name": "python",
   "nbconvert_exporter": "python",
   "pygments_lexer": "ipython3",
   "version": "3.6.9"
  }
 },
 "nbformat": 4,
 "nbformat_minor": 2
}
