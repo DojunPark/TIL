{
 "cells": [
  {
   "cell_type": "markdown",
   "metadata": {},
   "source": [
    "# 주소(url), 저장 위치(folder) 지정"
   ]
  },
  {
   "cell_type": "code",
   "execution_count": 123,
   "metadata": {},
   "outputs": [],
   "source": [
    "url = 'https://smartstore.naver.com/sopumdamoa/products/108740861'\n",
    "folder = 'c:/til/img/'"
   ]
  },
  {
   "cell_type": "markdown",
   "metadata": {},
   "source": [
    "# 크롤링 실행"
   ]
  },
  {
   "cell_type": "code",
   "execution_count": 124,
   "metadata": {},
   "outputs": [],
   "source": [
    "from bs4 import BeautifulSoup as bs\n",
    "from selenium import webdriver\n",
    "import time\n",
    "import re\n",
    "\n",
    "# 페이지 열기\n",
    "driver = webdriver.Chrome('./chromedriver.exe')\n",
    "driver.get(url)\n",
    "\n",
    "images = []\n",
    "\n",
    "# 타이틀\n",
    "html = driver.page_source\n",
    "soup = bs(html, 'html.parser')\n",
    "txt = soup.find('div', class_='CxNYUPvHfB').text\n",
    "txt = re.sub('[^a-zA-Zㄱ-힇0-9 ]', '', txt)\n",
    "\n",
    "# 메인 이미지\n",
    "img = soup.find_all('div', class_='_23RpOU6xpc')[0].find('img')['data-src']\n",
    "images.append(img)\n",
    "\n",
    "# 상세 이미지\n",
    "for i in range(2):\n",
    "    driver.execute_script(\"window.scrollTo(0, document.body.scrollHeight);\")\n",
    "    time.sleep(0.5)\n",
    "html = driver.page_source\n",
    "soup = bs(html, 'html.parser')\n",
    "div = soup.find('div', class_='_9F9CWn02VE').find_all('img')\n",
    "for d in div:\n",
    "    images.append(d['data-src'])\n",
    "    \n",
    "# 이미지 저장\n",
    "for i, img in enumerate(images):\n",
    "    name = folder + txt + '0' + str(i) + '.jpg'\n",
    "    urllib.request.urlretrieve(img, name)\n",
    "    \n",
    "# 종료\n",
    "driver.close()"
   ]
  },
  {
   "cell_type": "code",
   "execution_count": null,
   "metadata": {},
   "outputs": [],
   "source": []
  },
  {
   "cell_type": "code",
   "execution_count": null,
   "metadata": {},
   "outputs": [],
   "source": []
  },
  {
   "cell_type": "code",
   "execution_count": null,
   "metadata": {},
   "outputs": [],
   "source": []
  }
 ],
 "metadata": {
  "kernelspec": {
   "display_name": "Python 3",
   "language": "python",
   "name": "python3"
  },
  "language_info": {
   "codemirror_mode": {
    "name": "ipython",
    "version": 3
   },
   "file_extension": ".py",
   "mimetype": "text/x-python",
   "name": "python",
   "nbconvert_exporter": "python",
   "pygments_lexer": "ipython3",
   "version": "3.8.5"
  }
 },
 "nbformat": 4,
 "nbformat_minor": 4
}
