{
 "cells": [
  {
   "cell_type": "markdown",
   "id": "3eef647f",
   "metadata": {},
   "source": [
    "# BLEU Implementation"
   ]
  },
  {
   "cell_type": "code",
   "execution_count": 199,
   "id": "997b4490",
   "metadata": {},
   "outputs": [],
   "source": [
    "import unittest\n",
    "from math import exp, log\n",
    "from functools import reduce\n",
    "from operator import mul\n",
    "from nltk.translate.bleu_score import sentence_bleu"
   ]
  },
  {
   "cell_type": "code",
   "execution_count": 220,
   "id": "6ffe191d",
   "metadata": {},
   "outputs": [],
   "source": [
    "cand = \"the cat the cat on the mat\"\n",
    "# cand = \"the the the the the the the the\"\n",
    "ref_1 = \"the cat is on the mat\"\n",
    "ref_2 = \"there is a cat on the mat\""
   ]
  },
  {
   "cell_type": "code",
   "execution_count": 221,
   "id": "7fac01f6",
   "metadata": {},
   "outputs": [],
   "source": [
    "cand = cand.split()\n",
    "ref_1 = ref_1.split()\n",
    "ref_2 = ref_2.split()"
   ]
  },
  {
   "cell_type": "code",
   "execution_count": 222,
   "id": "8f6f41e7",
   "metadata": {},
   "outputs": [],
   "source": [
    "def word_count(str):\n",
    "    counts = dict()\n",
    "    words = sorted(str)\n",
    "    for word in words:\n",
    "        if word in counts:\n",
    "            counts[word] += 1\n",
    "        else:\n",
    "            counts[word] = 1\n",
    "    return counts"
   ]
  },
  {
   "cell_type": "code",
   "execution_count": 223,
   "id": "6ee9a0f3",
   "metadata": {},
   "outputs": [],
   "source": [
    "def mod_ngram_precision_count(cand_sent, ref_list, sum_count=True):\n",
    "  cand_count = word_count(cand_sent)\n",
    "  max_ref_count = dict.fromkeys(cand_count, 0)\n",
    "  ref_counts = [word_count(ref) for ref in ref_list]\n",
    "  print(cand_count)\n",
    "  print(ref_counts)\n",
    "\n",
    "  for ref_count in ref_counts:\n",
    "    for key, value in ref_count.items():\n",
    "      if key in max_ref_count:\n",
    "          if max_ref_count[key] < value: # update max count in refs\n",
    "            max_ref_count[key] = value\n",
    "  for key, value in max_ref_count.items():\n",
    "    if cand_count[key] > value: # if candidate count more than max ref count\n",
    "      cand_count[key] = value # clip with max ref count\n",
    "  if sum_count==True:    \n",
    "    return sum(cand_count.values())\n",
    "  else:\n",
    "    return cand_count"
   ]
  },
  {
   "cell_type": "code",
   "execution_count": 224,
   "id": "842ab27e",
   "metadata": {},
   "outputs": [
    {
     "name": "stdout",
     "output_type": "stream",
     "text": [
      "{'cat': 2, 'mat': 1, 'on': 1, 'the': 3}\n",
      "[{'cat': 1, 'is': 1, 'mat': 1, 'on': 1, 'the': 2}, {'a': 1, 'cat': 1, 'is': 1, 'mat': 1, 'on': 1, 'the': 1, 'there': 1}]\n"
     ]
    },
    {
     "data": {
      "text/plain": [
       "5"
      ]
     },
     "execution_count": 224,
     "metadata": {},
     "output_type": "execute_result"
    }
   ],
   "source": [
    "mod_ngram_precision_count(cand, [ref_1, ref_2])"
   ]
  },
  {
   "cell_type": "code",
   "execution_count": 225,
   "id": "27dbaec6",
   "metadata": {},
   "outputs": [],
   "source": [
    "def ngram(text, gram_count):\n",
    "  return [tuple(text[i:i+gram_count]) for i in range(len(text)-gram_count+1)]"
   ]
  },
  {
   "cell_type": "code",
   "execution_count": 229,
   "id": "d9e652ae",
   "metadata": {},
   "outputs": [],
   "source": [
    "def bleu(cand_sent, ref_list):\n",
    "  closest_ref_len = min([len(i) for i in ref_list], key=lambda x:abs(x-len(cand_sent)))\n",
    "  bp = min(1, exp(1 - closest_ref_len / len(cand_sent)))\n",
    "  prec = [mod_ngram_precision_count(ngram(cand_sent, i), [ngram(ref, i) for ref in ref_list]) / len(ngram(cand_sent, i)) for i in range(1,5)]\n",
    "  return bp * reduce(mul, [exp(0.25 * log(prec_n)) if prec_n != 0 else exp(0.25 * 0) for prec_n in prec], 1)"
   ]
  },
  {
   "cell_type": "code",
   "execution_count": 227,
   "id": "56ec921c",
   "metadata": {},
   "outputs": [],
   "source": [
    "def bleu(cand_sent, ref_list):\n",
    "  closest_ref_len = min([len(i) for i in ref_list], key=lambda x:abs(x-len(cand_sent)))\n",
    "  bp = min(1, exp(1 - closest_ref_len / len(cand_sent)))\n",
    "  prec = [mod_ngram_precision_count(ngram(cand_sent, i), [ngram(ref, i) for ref in ref_list]) / len(ngram(cand_sent, i)) for i in range(1,5)]\n",
    "  return bp * reduce(mul, [exp(0.25 * log(prec_n)) if prec_n != 0 else 0 for prec_n in prec], 1)"
   ]
  },
  {
   "cell_type": "code",
   "execution_count": 230,
   "id": "b48c1482",
   "metadata": {},
   "outputs": [
    {
     "name": "stdout",
     "output_type": "stream",
     "text": [
      "{('cat',): 2, ('mat',): 1, ('on',): 1, ('the',): 3}\n",
      "[{('cat',): 1, ('is',): 1, ('mat',): 1, ('on',): 1, ('the',): 2}, {('a',): 1, ('cat',): 1, ('is',): 1, ('mat',): 1, ('on',): 1, ('the',): 1, ('there',): 1}]\n",
      "{('cat', 'on'): 1, ('cat', 'the'): 1, ('on', 'the'): 1, ('the', 'cat'): 2, ('the', 'mat'): 1}\n",
      "[{('cat', 'is'): 1, ('is', 'on'): 1, ('on', 'the'): 1, ('the', 'cat'): 1, ('the', 'mat'): 1}, {('a', 'cat'): 1, ('cat', 'on'): 1, ('is', 'a'): 1, ('on', 'the'): 1, ('the', 'mat'): 1, ('there', 'is'): 1}]\n",
      "{('cat', 'on', 'the'): 1, ('cat', 'the', 'cat'): 1, ('on', 'the', 'mat'): 1, ('the', 'cat', 'on'): 1, ('the', 'cat', 'the'): 1}\n",
      "[{('cat', 'is', 'on'): 1, ('is', 'on', 'the'): 1, ('on', 'the', 'mat'): 1, ('the', 'cat', 'is'): 1}, {('a', 'cat', 'on'): 1, ('cat', 'on', 'the'): 1, ('is', 'a', 'cat'): 1, ('on', 'the', 'mat'): 1, ('there', 'is', 'a'): 1}]\n",
      "{('cat', 'on', 'the', 'mat'): 1, ('cat', 'the', 'cat', 'on'): 1, ('the', 'cat', 'on', 'the'): 1, ('the', 'cat', 'the', 'cat'): 1}\n",
      "[{('cat', 'is', 'on', 'the'): 1, ('is', 'on', 'the', 'mat'): 1, ('the', 'cat', 'is', 'on'): 1}, {('a', 'cat', 'on', 'the'): 1, ('cat', 'on', 'the', 'mat'): 1, ('is', 'a', 'cat', 'on'): 1, ('there', 'is', 'a', 'cat'): 1}]\n",
      "0.46713797772820004\n",
      "0.4671379777282001\n"
     ]
    }
   ],
   "source": [
    "print(bleu(cand, [ref_1, ref_2]))\n",
    "print(sentence_bleu(references=[ref_1, ref_2], hypothesis=cand, weights=(0.25,0.25,0.25,0.25)))"
   ]
  },
  {
   "cell_type": "code",
   "execution_count": 186,
   "id": "5e0703e5",
   "metadata": {},
   "outputs": [
    {
     "name": "stdout",
     "output_type": "stream",
     "text": [
      "0.4671379777282001\n"
     ]
    }
   ],
   "source": [
    "print(sentence_bleu(references=[ref_1, ref_2], hypothesis=cand, weights=(0.25,0.25,0.25,0.25)))"
   ]
  },
  {
   "cell_type": "code",
   "execution_count": 156,
   "id": "4ae95a4f",
   "metadata": {},
   "outputs": [
    {
     "data": {
      "text/plain": [
       "0.0"
      ]
     },
     "execution_count": 156,
     "metadata": {},
     "output_type": "execute_result"
    }
   ],
   "source": [
    "1 * reduce(mul, [exp(0.25 * log(prec_n)) if prec_n != 0 else 0 for prec_n in [0.25, 0.0, 0.0, 0.0]], 1)"
   ]
  },
  {
   "cell_type": "code",
   "execution_count": 147,
   "id": "915ae9ee",
   "metadata": {},
   "outputs": [
    {
     "ename": "ValueError",
     "evalue": "math domain error",
     "output_type": "error",
     "traceback": [
      "\u001b[0;31m---------------------------------------------------------------------------\u001b[0m",
      "\u001b[0;31mValueError\u001b[0m                                Traceback (most recent call last)",
      "Input \u001b[0;32mIn [147]\u001b[0m, in \u001b[0;36m<cell line: 1>\u001b[0;34m()\u001b[0m\n\u001b[0;32m----> 1\u001b[0m \u001b[43mlog\u001b[49m\u001b[43m(\u001b[49m\u001b[38;5;241;43m0\u001b[39;49m\u001b[43m)\u001b[49m\n",
      "\u001b[0;31mValueError\u001b[0m: math domain error"
     ]
    }
   ],
   "source": [
    "log(0)"
   ]
  },
  {
   "cell_type": "code",
   "execution_count": 182,
   "id": "1ecebd23",
   "metadata": {},
   "outputs": [
    {
     "ename": "ValueError",
     "evalue": "math domain error",
     "output_type": "error",
     "traceback": [
      "\u001b[0;31m---------------------------------------------------------------------------\u001b[0m",
      "\u001b[0;31mValueError\u001b[0m                                Traceback (most recent call last)",
      "Input \u001b[0;32mIn [182]\u001b[0m, in \u001b[0;36m<cell line: 1>\u001b[0;34m()\u001b[0m\n\u001b[0;32m----> 1\u001b[0m exp(\u001b[38;5;241m0.25\u001b[39m \u001b[38;5;241m*\u001b[39m \u001b[43mlog\u001b[49m\u001b[43m(\u001b[49m\u001b[38;5;241;43m0\u001b[39;49m\u001b[43m)\u001b[49m)\n",
      "\u001b[0;31mValueError\u001b[0m: math domain error"
     ]
    }
   ],
   "source": [
    "exp(0.25 * log(0))"
   ]
  },
  {
   "cell_type": "code",
   "execution_count": 183,
   "id": "75acecea",
   "metadata": {},
   "outputs": [
    {
     "data": {
      "text/plain": [
       "1.0"
      ]
     },
     "execution_count": 183,
     "metadata": {},
     "output_type": "execute_result"
    }
   ],
   "source": [
    "exp(0.25 * 0)"
   ]
  },
  {
   "cell_type": "code",
   "execution_count": 195,
   "id": "f1e77ab7",
   "metadata": {},
   "outputs": [
    {
     "data": {
      "text/plain": [
       "1.0"
      ]
     },
     "execution_count": 195,
     "metadata": {},
     "output_type": "execute_result"
    }
   ],
   "source": [
    "exp(0)"
   ]
  },
  {
   "cell_type": "code",
   "execution_count": 29,
   "id": "aa82c0a7",
   "metadata": {},
   "outputs": [],
   "source": [
    "well? which I don't quite understand is these two:\n",
    "bp * reduce(mul, [exp(0.25 * log(prec_n)) if prec_n != 0 else 0 for prec_n in prec], 1)\n",
    "bp * reduce(mul, [exp(0.25 * log(prec_n)) if prec_n != 0 else exp(0.25 * 0) for prec_n in prec], 1)\n",
    "\n",
    "from my point of view, if prec_n is 0, each component should be exp(0.25 * 0), which results in 1.\n",
    "But the first one code simply multiplied with 0 looks correct because the result is same  with the nltk's bleu score.\n",
    "hmm did I miss somthing? "
   ]
  },
  {
   "cell_type": "code",
   "execution_count": 198,
   "id": "6f4a659c",
   "metadata": {},
   "outputs": [
    {
     "data": {
      "text/plain": [
       "0.0"
      ]
     },
     "execution_count": 198,
     "metadata": {},
     "output_type": "execute_result"
    }
   ],
   "source": [
    "0.25 * 0"
   ]
  },
  {
   "cell_type": "code",
   "execution_count": null,
   "id": "9b2f4e38",
   "metadata": {},
   "outputs": [],
   "source": []
  },
  {
   "cell_type": "code",
   "execution_count": null,
   "id": "dbdf2c9f",
   "metadata": {},
   "outputs": [],
   "source": []
  },
  {
   "cell_type": "code",
   "execution_count": null,
   "id": "852fdc9d",
   "metadata": {},
   "outputs": [],
   "source": []
  },
  {
   "cell_type": "code",
   "execution_count": null,
   "id": "38bcee51",
   "metadata": {},
   "outputs": [],
   "source": []
  },
  {
   "cell_type": "code",
   "execution_count": null,
   "id": "0b514004",
   "metadata": {},
   "outputs": [],
   "source": []
  }
 ],
 "metadata": {
  "kernelspec": {
   "display_name": "Python [conda env:py38] *",
   "language": "python",
   "name": "conda-env-py38-py"
  },
  "language_info": {
   "codemirror_mode": {
    "name": "ipython",
    "version": 3
   },
   "file_extension": ".py",
   "mimetype": "text/x-python",
   "name": "python",
   "nbconvert_exporter": "python",
   "pygments_lexer": "ipython3",
   "version": "3.8.12"
  }
 },
 "nbformat": 4,
 "nbformat_minor": 5
}
