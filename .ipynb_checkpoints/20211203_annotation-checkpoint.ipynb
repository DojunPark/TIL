{
 "cells": [
  {
   "cell_type": "markdown",
   "id": "a24d2b51",
   "metadata": {},
   "source": [
    "# Annotation"
   ]
  },
  {
   "cell_type": "code",
   "execution_count": 2,
   "id": "c1cc7f0a",
   "metadata": {},
   "outputs": [],
   "source": [
    "text = '''Having found that Vendale 's identity is not what it is believed to be , he tries to use this discovery , but is thwarted by Bintrey .\n",
    "The jury returned within minutes , finding both men guilty .\n",
    "I had expected to find them empty .\n",
    "` We found them behind the house when we moved in .\n",
    "Earlier , the Winchester Crown Court jury found Taylor , of Boscombe Overcliff Drive , Bournemouth , guilty of soliciting a convicted burglar , Louis Matthews , to murder Monica Taylor in a contract killing .\n",
    "What we found in Iraq was rusted shrapnel .\n",
    "The only thing that was quite extraordinary was what I found when I got as far as the back premises .\n",
    "To the physician 's consternation , he had been informed that the girl had been tried in the Shari'a ( the law of God ) courts and found guilty of fornication .\n",
    "I turned back to find Yvonne 's grinning face looking past me in the same direction .\n",
    "I turned to find the young Mr Cardinal beaming happily at me .\n",
    "Sudhir Kakar , trained as a psychoanalyst in the West , finds much to admire in his work .\n",
    "The FBI finds traces of explosives on clothes found ; neighbors say they saw two men who they describe as `` Arab-looking '' living there for several weeks .\n",
    "Police also find a second house where authorities believe two others may have assembled the bomb , possibly doing some welding .\n",
    "You might find what you 're looking for . \"\n",
    "In a well-known detective-story involving church bells , English novelist Dorothy L. Sayers described ringing as a `` passion { that } finds its satisfaction in mathematical completeness and mechanical perfection .\n",
    "An Old Bailey jury that included nine women found Sheila Beeson , 29 , not guilty of child cruelty .\n",
    "Find who they are , then ask your library to get some of their books for you .\n",
    "When I checked in Who 's Who I found that Jenner held down a post for several years at David 's old university .\n",
    "I had to find where it was .\n",
    "In a later experiment , Albin found that brain injury could be five times greater when the damage was accompanied by a blood alcohol level of 200 micrograms per decilitre , twice the legal limit in the US .\n",
    "Passports found in one of the houses identify the men as from a privilege convenience province noted for lawless tribes .\n",
    "In comparing the strength of tendons between animals , research has found that the absolute strength of tendons varies widely in the thoroughbred population .\n",
    "Thus they are naturally predisposed to find what they are looking for .\n",
    "Looking at all the , at the stuff but the trouble is you 've got ta find somewhere to put it all have n't you ?\n",
    "The judge found most damningly against Union Discount .\n",
    "QN : Did we find anything in Iraq ?\n",
    "FBI officials find what they believe may be explosives in the car .\n",
    "She was sent for psychiatric treatment in March after a court martial found her guilty of the manslaughter of riding instructress Marika Sparfeld at the military base in August last year .\n",
    "The men who were acquitted , Danial Winter , who 's 19 , and Wisdom Smith , who 's also 19 , had nothing to say after the judge directed they should be found not guilty .\n",
    "On Thursday a jury found the youth guilty of wounding Mr Lay , 19 , of Anderson Walk , Bury , with intent to cause him grievous bodily harm .\n",
    "She looks permanently worried , and it does n't take long to find why .\n",
    "Hunt down traitors and find what the King wants .'''"
   ]
  },
  {
   "cell_type": "code",
   "execution_count": 3,
   "id": "8f1cb725",
   "metadata": {},
   "outputs": [
    {
     "data": {
      "text/plain": [
       "'Having found that Vendale \\'s identity is not what it is believed to be , he tries to use this discovery , but is thwarted by Bintrey .\\nThe jury returned within minutes , finding both men guilty .\\nI had expected to find them empty .\\n` We found them behind the house when we moved in .\\nEarlier , the Winchester Crown Court jury found Taylor , of Boscombe Overcliff Drive , Bournemouth , guilty of soliciting a convicted burglar , Louis Matthews , to murder Monica Taylor in a contract killing .\\nWhat we found in Iraq was rusted shrapnel .\\nThe only thing that was quite extraordinary was what I found when I got as far as the back premises .\\nTo the physician \\'s consternation , he had been informed that the girl had been tried in the Shari\\'a ( the law of God ) courts and found guilty of fornication .\\nI turned back to find Yvonne \\'s grinning face looking past me in the same direction .\\nI turned to find the young Mr Cardinal beaming happily at me .\\nSudhir Kakar , trained as a psychoanalyst in the West , finds much to admire in his work .\\nThe FBI finds traces of explosives on clothes found ; neighbors say they saw two men who they describe as `` Arab-looking \\'\\' living there for several weeks .\\nPolice also find a second house where authorities believe two others may have assembled the bomb , possibly doing some welding .\\nYou might find what you \\'re looking for . \"\\nIn a well-known detective-story involving church bells , English novelist Dorothy L. Sayers described ringing as a `` passion { that } finds its satisfaction in mathematical completeness and mechanical perfection .\\nAn Old Bailey jury that included nine women found Sheila Beeson , 29 , not guilty of child cruelty .\\nFind who they are , then ask your library to get some of their books for you .\\nWhen I checked in Who \\'s Who I found that Jenner held down a post for several years at David \\'s old university .\\nI had to find where it was .\\nIn a later experiment , Albin found that brain injury could be five times greater when the damage was accompanied by a blood alcohol level of 200 micrograms per decilitre , twice the legal limit in the US .\\nPassports found in one of the houses identify the men as from a privilege convenience province noted for lawless tribes .\\nIn comparing the strength of tendons between animals , research has found that the absolute strength of tendons varies widely in the thoroughbred population .\\nThus they are naturally predisposed to find what they are looking for .\\nLooking at all the , at the stuff but the trouble is you \\'ve got ta find somewhere to put it all have n\\'t you ?\\nThe judge found most damningly against Union Discount .\\nQN : Did we find anything in Iraq ?\\nFBI officials find what they believe may be explosives in the car .\\nShe was sent for psychiatric treatment in March after a court martial found her guilty of the manslaughter of riding instructress Marika Sparfeld at the military base in August last year .\\nThe men who were acquitted , Danial Winter , who \\'s 19 , and Wisdom Smith , who \\'s also 19 , had nothing to say after the judge directed they should be found not guilty .\\nOn Thursday a jury found the youth guilty of wounding Mr Lay , 19 , of Anderson Walk , Bury , with intent to cause him grievous bodily harm .\\nShe looks permanently worried , and it does n\\'t take long to find why .\\nHunt down traitors and find what the King wants .'"
      ]
     },
     "execution_count": 3,
     "metadata": {},
     "output_type": "execute_result"
    }
   ],
   "source": [
    "text"
   ]
  },
  {
   "cell_type": "code",
   "execution_count": null,
   "id": "828e6b0f",
   "metadata": {},
   "outputs": [],
   "source": []
  },
  {
   "cell_type": "code",
   "execution_count": null,
   "id": "65e341e2",
   "metadata": {},
   "outputs": [],
   "source": []
  },
  {
   "cell_type": "code",
   "execution_count": null,
   "id": "d6dd2e3b",
   "metadata": {},
   "outputs": [],
   "source": []
  },
  {
   "cell_type": "code",
   "execution_count": null,
   "id": "dacc4029",
   "metadata": {},
   "outputs": [],
   "source": []
  },
  {
   "cell_type": "code",
   "execution_count": null,
   "id": "a793ce71",
   "metadata": {},
   "outputs": [],
   "source": []
  },
  {
   "cell_type": "code",
   "execution_count": null,
   "id": "70b2f69a",
   "metadata": {},
   "outputs": [],
   "source": []
  },
  {
   "cell_type": "code",
   "execution_count": null,
   "id": "f8f669ee",
   "metadata": {},
   "outputs": [],
   "source": []
  },
  {
   "cell_type": "code",
   "execution_count": null,
   "id": "0b8691ec",
   "metadata": {},
   "outputs": [],
   "source": []
  },
  {
   "cell_type": "code",
   "execution_count": null,
   "id": "9f3bb39f",
   "metadata": {},
   "outputs": [],
   "source": []
  },
  {
   "cell_type": "code",
   "execution_count": null,
   "id": "2cf067c6",
   "metadata": {},
   "outputs": [],
   "source": []
  },
  {
   "cell_type": "code",
   "execution_count": null,
   "id": "8fa35cb8",
   "metadata": {},
   "outputs": [],
   "source": []
  },
  {
   "cell_type": "code",
   "execution_count": null,
   "id": "96f4e3e6",
   "metadata": {},
   "outputs": [],
   "source": []
  }
 ],
 "metadata": {
  "kernelspec": {
   "display_name": "Python 3 (ipykernel)",
   "language": "python",
   "name": "python3"
  },
  "language_info": {
   "codemirror_mode": {
    "name": "ipython",
    "version": 3
   },
   "file_extension": ".py",
   "mimetype": "text/x-python",
   "name": "python",
   "nbconvert_exporter": "python",
   "pygments_lexer": "ipython3",
   "version": "3.8.12"
  }
 },
 "nbformat": 4,
 "nbformat_minor": 5
}
