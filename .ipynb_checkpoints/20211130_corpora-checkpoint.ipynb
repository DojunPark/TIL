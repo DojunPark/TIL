{
 "cells": [
  {
   "cell_type": "code",
   "execution_count": 6,
   "id": "580a6ae8",
   "metadata": {},
   "outputs": [
    {
     "name": "stdout",
     "output_type": "stream",
     "text": [
      "\u001b[0m\u001b[01;32mACL_partial_corpus.txt.gz\u001b[0m*   \u001b[01;32mMovieCorpus.txt\u001b[0m*              \u001b[01;32menglish-brown.txt\u001b[0m*\r\n",
      "\u001b[01;32mBNCSplitWordsCorpus.txt.gz\u001b[0m*  \u001b[01;32mTwitterLowerAsciiCorpus.txt\u001b[0m*\r\n"
     ]
    }
   ],
   "source": [
    "ls /mnt/c/data/corpora"
   ]
  },
  {
   "cell_type": "code",
   "execution_count": 7,
   "id": "caa28c84",
   "metadata": {},
   "outputs": [
    {
     "name": "stdout",
     "output_type": "stream",
     "text": [
      "\u001b[0m\u001b[01;32mACL_partial_corpus.txt\u001b[0m*   \u001b[01;32mMovieCorpus.txt\u001b[0m*              \u001b[01;32menglish-brown.txt\u001b[0m*\r\n",
      "\u001b[01;32mBNCSplitWordsCorpus.txt\u001b[0m*  \u001b[01;32mTwitterLowerAsciiCorpus.txt\u001b[0m*\r\n"
     ]
    }
   ],
   "source": [
    "ls /mnt/c/data/corpora"
   ]
  },
  {
   "cell_type": "code",
   "execution_count": 8,
   "id": "0e2967d4",
   "metadata": {},
   "outputs": [
    {
     "name": "stdout",
     "output_type": "stream",
     "text": [
      "/mnt/c/data/corpora\n"
     ]
    }
   ],
   "source": [
    "cd /mnt/c/data/corpora"
   ]
  },
  {
   "cell_type": "code",
   "execution_count": 10,
   "id": "e049c608",
   "metadata": {},
   "outputs": [],
   "source": [
    "with open('TwitterLowerAsciiCorpus.txt', 'r', encoding='utf-8') as inp:\n",
    "    line_counter = 0\n",
    "    buffer = []\n",
    "    for line in inp:\n",
    "        buffer.append(line)\n",
    "        if line_counter == 100:\n",
    "            batch = '\\n'.join(buffer)\n",
    "#             batch_doc = nlp(batch)\n",
    "            buffer = []\n",
    "            line_counter = 1\n",
    "        else:\n",
    "            line_counter += 1"
   ]
  },
  {
   "cell_type": "code",
   "execution_count": 12,
   "id": "0de42117",
   "metadata": {},
   "outputs": [
    {
     "data": {
      "text/plain": [
       "'good bro \\n\\n\\n\\n\\n\\n\\n\\nif any man among you seemeth to be wise in this world, let him become a fool, that he may be wise. (1 cor. 3:18) #atheism #bible #god\\n\\nyes your religion\\'s hatred for intelligence, which sees right through it, is well known.\\n\\nstarting out the day being that judgmental can\\'t be good friend.\\n\\nsays the judgemental one who views others as fools.\\n\\ni haven\\'t judged you. i quoted scripture. what happened was you read it and judged yourself. that\\'s how the holy spirit works\\n\\nnope, you judge others by the self serving words of your book.\\n\\nself-serving? i\\'m trying to save you from eternal torment bud. and taking a torrent of abuse for it. get over yourself\\n\\n\"i\\'m right, anyone who disagrees with me is wrong and a fool.\" yeah doesn\\'t get much more self serving.\\n\\nthis is not about me. it\\'s about you, because you know in your heart that what i\\'m saying is true\\n\\nyou just proved it\\'s all about your need to be right by claiming to know i know you\\'re right.\\n\\nyou have been given the knowl'"
      ]
     },
     "execution_count": 12,
     "metadata": {},
     "output_type": "execute_result"
    }
   ],
   "source": [
    "batch[:1000]"
   ]
  },
  {
   "cell_type": "code",
   "execution_count": null,
   "id": "89b75310",
   "metadata": {},
   "outputs": [],
   "source": [
    "n_word = 0\n",
    "n_sentences = 0\n",
    "n_lemmas = 0\n",
    "\n",
    "worddform_counts = Counter()\n",
    "wordform_counts[something] += 1\n",
    "word\n",
    "d = {}\n",
    "if something_is_seen_for_the_first_time:\n",
    "    d{something} = 1\n",
    "else:\n",
    "    d{something} += 1\n",
    "\n",
    "wordforms_by_lemma = {}\n",
    "for token in doc:\n",
    "    lemma = token.lemma_\n",
    "    wordford = token.text\n",
    "    if lemma in wordforms_by_lemma:\n",
    "        pass\n",
    "    else:\n",
    "        pass\n",
    "    "
   ]
  },
  {
   "cell_type": "code",
   "execution_count": null,
   "id": "c35034bb",
   "metadata": {},
   "outputs": [],
   "source": []
  },
  {
   "cell_type": "code",
   "execution_count": null,
   "id": "13b0fd08",
   "metadata": {},
   "outputs": [],
   "source": []
  },
  {
   "cell_type": "code",
   "execution_count": null,
   "id": "95cb88ec",
   "metadata": {},
   "outputs": [],
   "source": []
  },
  {
   "cell_type": "code",
   "execution_count": null,
   "id": "e50030f2",
   "metadata": {},
   "outputs": [],
   "source": []
  },
  {
   "cell_type": "code",
   "execution_count": null,
   "id": "39d86247",
   "metadata": {},
   "outputs": [],
   "source": []
  },
  {
   "cell_type": "code",
   "execution_count": null,
   "id": "68813bd8",
   "metadata": {},
   "outputs": [],
   "source": []
  },
  {
   "cell_type": "code",
   "execution_count": null,
   "id": "07914108",
   "metadata": {},
   "outputs": [],
   "source": []
  },
  {
   "cell_type": "code",
   "execution_count": null,
   "id": "d7ddaa67",
   "metadata": {},
   "outputs": [],
   "source": []
  }
 ],
 "metadata": {
  "kernelspec": {
   "display_name": "Python 3 (ipykernel)",
   "language": "python",
   "name": "python3"
  },
  "language_info": {
   "codemirror_mode": {
    "name": "ipython",
    "version": 3
   },
   "file_extension": ".py",
   "mimetype": "text/x-python",
   "name": "python",
   "nbconvert_exporter": "python",
   "pygments_lexer": "ipython3",
   "version": "3.8.12"
  }
 },
 "nbformat": 4,
 "nbformat_minor": 5
}
